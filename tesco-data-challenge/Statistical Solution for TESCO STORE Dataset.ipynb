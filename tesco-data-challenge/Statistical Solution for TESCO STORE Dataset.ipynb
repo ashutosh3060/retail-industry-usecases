{
 "cells": [
  {
   "cell_type": "markdown",
   "metadata": {},
   "source": [
    "# Data Analysis and Statistical Model Building for TESCO Stores Dataset"
   ]
  },
  {
   "cell_type": "markdown",
   "metadata": {},
   "source": [
    "## Content\n",
    "\n",
    "* 1. Import required libraries and Packages\n",
    "* 2. Import all the Datasets (a. Training and Testing Datasets,   b. Masked Dataset)\n",
    "* 3. Data Quality Check (Datatype, Missing Value, Unique values, Impuitation, Outlier Analysis)\n",
    "* 4. Feature Analysis (Univariate, Bivariate)\n",
    "* 5. Correlation\n",
    "* 6. Categorical Encoding\n",
    "* 7. Feature Selection\n",
    "* 8. Model Dataset Preparation\n",
    "* 9. Model Build (Using RandomForest Regressor)\n",
    "* 10. Hyperparameter Tuning and Choose the Best Model\n",
    "* 11. Performance Comparison\n",
    "* 12. Feature Importance\n",
    "* 13. Masked Dataset Model Building\n",
    "* 14. Questions to STORE Team, Answers for the 3 Questions\n",
    "* 15. Final Recommendation for TESCO STORE Team\n"
   ]
  },
  {
   "cell_type": "markdown",
   "metadata": {},
   "source": [
    "## 1. Library & Package"
   ]
  },
  {
   "cell_type": "code",
   "execution_count": 1,
   "metadata": {},
   "outputs": [],
   "source": [
    "# Basic numerical and other libraries\n",
    "import random\n",
    "import numpy as np\n",
    "import pandas as pd\n",
    "from scipy import stats\n",
    "import sys\n",
    "import functools\n",
    "\n",
    "# Display option\n",
    "from IPython.display import display, HTML\n",
    "pd.options.display.max_rows = 5000\n",
    "pd.options.display.max_columns = 5000\n",
    "\n",
    "# Handle warnings (during execution of code)\n",
    "import warnings\n",
    "warnings.simplefilter(action='ignore', category=FutureWarning)\n",
    "\n",
    "# Datetime\n",
    "import time\n",
    "from datetime import datetime\n",
    "from datetime import timedelta\n",
    "\n",
    "# Visulisation\n",
    "from pprint import pprint\n",
    "import seaborn as sns\n",
    "import matplotlib.pyplot as plt\n",
    "%matplotlib inline\n",
    "\n",
    "# statsmodel\n",
    "import statsmodels.api as statsm\n",
    "import statsmodels.discrete.discrete_model as sm\n",
    "from statsmodels.stats.outliers_influence import variance_inflation_factor\n",
    "\n",
    "# sklearn\n",
    "from sklearn.model_selection import StratifiedKFold, KFold, LeaveOneOut, cross_val_score, GridSearchCV, RandomizedSearchCV, train_test_split\n",
    "from sklearn.ensemble import RandomForestRegressor\n",
    "\n",
    "# Save Model\n",
    "import pickle\n",
    "from sklearn.externals import joblib\n"
   ]
  },
  {
   "cell_type": "markdown",
   "metadata": {},
   "source": [
    "## 2. Datasets"
   ]
  },
  {
   "cell_type": "markdown",
   "metadata": {},
   "source": [
    "* import datasets"
   ]
  },
  {
   "cell_type": "code",
   "execution_count": 2,
   "metadata": {},
   "outputs": [
    {
     "name": "stdout",
     "output_type": "stream",
     "text": [
      "(320, 16)\n"
     ]
    },
    {
     "data": {
      "text/html": [
       "<div>\n",
       "<style scoped>\n",
       "    .dataframe tbody tr th:only-of-type {\n",
       "        vertical-align: middle;\n",
       "    }\n",
       "\n",
       "    .dataframe tbody tr th {\n",
       "        vertical-align: top;\n",
       "    }\n",
       "\n",
       "    .dataframe thead th {\n",
       "        text-align: right;\n",
       "    }\n",
       "</style>\n",
       "<table border=\"1\" class=\"dataframe\">\n",
       "  <thead>\n",
       "    <tr style=\"text-align: right;\">\n",
       "      <th></th>\n",
       "      <th>location_id</th>\n",
       "      <th>crime_rate</th>\n",
       "      <th>proportion_flats</th>\n",
       "      <th>proportion_nonretail</th>\n",
       "      <th>new_store</th>\n",
       "      <th>commercial_property</th>\n",
       "      <th>household_size</th>\n",
       "      <th>proportion_newbuilds</th>\n",
       "      <th>public_transport_dist</th>\n",
       "      <th>transport_availability</th>\n",
       "      <th>property_value</th>\n",
       "      <th>school_proximity</th>\n",
       "      <th>competitor_density</th>\n",
       "      <th>household_affluency</th>\n",
       "      <th>normalised_sales</th>\n",
       "      <th>county</th>\n",
       "    </tr>\n",
       "  </thead>\n",
       "  <tbody>\n",
       "    <tr>\n",
       "      <th>0</th>\n",
       "      <td>464</td>\n",
       "      <td>17.600541</td>\n",
       "      <td>0.0</td>\n",
       "      <td>18.10</td>\n",
       "      <td>no</td>\n",
       "      <td>NaN</td>\n",
       "      <td>2.926</td>\n",
       "      <td>29.0</td>\n",
       "      <td>2.9084</td>\n",
       "      <td>All transport options</td>\n",
       "      <td>666</td>\n",
       "      <td>20.2</td>\n",
       "      <td>368.74</td>\n",
       "      <td>4.5325</td>\n",
       "      <td>-0.399933</td>\n",
       "      <td>c_40</td>\n",
       "    </tr>\n",
       "    <tr>\n",
       "      <th>1</th>\n",
       "      <td>504</td>\n",
       "      <td>0.603556</td>\n",
       "      <td>20.0</td>\n",
       "      <td>3.97</td>\n",
       "      <td>no</td>\n",
       "      <td>14.85</td>\n",
       "      <td>4.520</td>\n",
       "      <td>10.6</td>\n",
       "      <td>2.1398</td>\n",
       "      <td>Average transport options</td>\n",
       "      <td>264</td>\n",
       "      <td>13.0</td>\n",
       "      <td>388.37</td>\n",
       "      <td>1.8150</td>\n",
       "      <td>2.216308</td>\n",
       "      <td>c_80</td>\n",
       "    </tr>\n",
       "    <tr>\n",
       "      <th>2</th>\n",
       "      <td>295</td>\n",
       "      <td>0.606810</td>\n",
       "      <td>0.0</td>\n",
       "      <td>6.20</td>\n",
       "      <td>no</td>\n",
       "      <td>7.70</td>\n",
       "      <td>2.981</td>\n",
       "      <td>31.9</td>\n",
       "      <td>3.6715</td>\n",
       "      <td>Many transport options</td>\n",
       "      <td>307</td>\n",
       "      <td>17.4</td>\n",
       "      <td>378.35</td>\n",
       "      <td>2.9125</td>\n",
       "      <td>0.166920</td>\n",
       "      <td>c_53</td>\n",
       "    </tr>\n",
       "  </tbody>\n",
       "</table>\n",
       "</div>"
      ],
      "text/plain": [
       "   location_id  crime_rate  proportion_flats  proportion_nonretail new_store  \\\n",
       "0          464   17.600541               0.0                 18.10        no   \n",
       "1          504    0.603556              20.0                  3.97        no   \n",
       "2          295    0.606810               0.0                  6.20        no   \n",
       "\n",
       "   commercial_property  household_size  proportion_newbuilds  \\\n",
       "0                  NaN           2.926                  29.0   \n",
       "1                14.85           4.520                  10.6   \n",
       "2                 7.70           2.981                  31.9   \n",
       "\n",
       "   public_transport_dist     transport_availability  property_value  \\\n",
       "0                 2.9084      All transport options             666   \n",
       "1                 2.1398  Average transport options             264   \n",
       "2                 3.6715     Many transport options             307   \n",
       "\n",
       "   school_proximity  competitor_density  household_affluency  \\\n",
       "0              20.2              368.74               4.5325   \n",
       "1              13.0              388.37               1.8150   \n",
       "2              17.4              378.35               2.9125   \n",
       "\n",
       "   normalised_sales county  \n",
       "0         -0.399933   c_40  \n",
       "1          2.216308   c_80  \n",
       "2          0.166920   c_53  "
      ]
     },
     "execution_count": 2,
     "metadata": {},
     "output_type": "execute_result"
    }
   ],
   "source": [
    "# Training Dataset\n",
    "df_train = pd.read_csv('s3://tesco_datasets/train.csv')\n",
    "print(df_train.shape)\n",
    "df_train.head(3)\n"
   ]
  },
  {
   "cell_type": "code",
   "execution_count": 3,
   "metadata": {},
   "outputs": [
    {
     "name": "stdout",
     "output_type": "stream",
     "text": [
      "(13, 15)\n"
     ]
    },
    {
     "data": {
      "text/html": [
       "<div>\n",
       "<style scoped>\n",
       "    .dataframe tbody tr th:only-of-type {\n",
       "        vertical-align: middle;\n",
       "    }\n",
       "\n",
       "    .dataframe tbody tr th {\n",
       "        vertical-align: top;\n",
       "    }\n",
       "\n",
       "    .dataframe thead th {\n",
       "        text-align: right;\n",
       "    }\n",
       "</style>\n",
       "<table border=\"1\" class=\"dataframe\">\n",
       "  <thead>\n",
       "    <tr style=\"text-align: right;\">\n",
       "      <th></th>\n",
       "      <th>location_id</th>\n",
       "      <th>crime_rate</th>\n",
       "      <th>proportion_flats</th>\n",
       "      <th>proportion_nonretail</th>\n",
       "      <th>new_store</th>\n",
       "      <th>commercial_property</th>\n",
       "      <th>household_size</th>\n",
       "      <th>proportion_newbuilds</th>\n",
       "      <th>public_transport_dist</th>\n",
       "      <th>transport_availability</th>\n",
       "      <th>property_value</th>\n",
       "      <th>school_proximity</th>\n",
       "      <th>competitor_density</th>\n",
       "      <th>household_affluency</th>\n",
       "      <th>county</th>\n",
       "    </tr>\n",
       "  </thead>\n",
       "  <tbody>\n",
       "    <tr>\n",
       "      <th>0</th>\n",
       "      <td>105</td>\n",
       "      <td>0.039968</td>\n",
       "      <td>34.0</td>\n",
       "      <td>6.09</td>\n",
       "      <td>no</td>\n",
       "      <td>4.15</td>\n",
       "      <td>3.590</td>\n",
       "      <td>59.6</td>\n",
       "      <td>5.4917</td>\n",
       "      <td>Many transport options</td>\n",
       "      <td>329</td>\n",
       "      <td>16.1</td>\n",
       "      <td>395.75</td>\n",
       "      <td>2.3750</td>\n",
       "      <td>c_42</td>\n",
       "    </tr>\n",
       "    <tr>\n",
       "      <th>1</th>\n",
       "      <td>400</td>\n",
       "      <td>0.587758</td>\n",
       "      <td>20.0</td>\n",
       "      <td>3.97</td>\n",
       "      <td>no</td>\n",
       "      <td>14.85</td>\n",
       "      <td>5.398</td>\n",
       "      <td>8.5</td>\n",
       "      <td>2.2885</td>\n",
       "      <td>Average transport options</td>\n",
       "      <td>264</td>\n",
       "      <td>13.0</td>\n",
       "      <td>386.86</td>\n",
       "      <td>1.4775</td>\n",
       "      <td>c_140</td>\n",
       "    </tr>\n",
       "    <tr>\n",
       "      <th>2</th>\n",
       "      <td>338</td>\n",
       "      <td>1.116926</td>\n",
       "      <td>0.0</td>\n",
       "      <td>8.14</td>\n",
       "      <td>no</td>\n",
       "      <td>9.40</td>\n",
       "      <td>2.813</td>\n",
       "      <td>0.0</td>\n",
       "      <td>4.0952</td>\n",
       "      <td>Few transport options</td>\n",
       "      <td>307</td>\n",
       "      <td>NaN</td>\n",
       "      <td>394.54</td>\n",
       "      <td>4.9700</td>\n",
       "      <td>c_55</td>\n",
       "    </tr>\n",
       "    <tr>\n",
       "      <th>3</th>\n",
       "      <td>227</td>\n",
       "      <td>1.517409</td>\n",
       "      <td>0.0</td>\n",
       "      <td>19.58</td>\n",
       "      <td>no</td>\n",
       "      <td>12.75</td>\n",
       "      <td>3.066</td>\n",
       "      <td>0.0</td>\n",
       "      <td>1.7573</td>\n",
       "      <td>Average transport options</td>\n",
       "      <td>403</td>\n",
       "      <td>14.7</td>\n",
       "      <td>353.89</td>\n",
       "      <td>1.6075</td>\n",
       "      <td>c_62</td>\n",
       "    </tr>\n",
       "    <tr>\n",
       "      <th>4</th>\n",
       "      <td>114</td>\n",
       "      <td>83.093533</td>\n",
       "      <td>0.0</td>\n",
       "      <td>18.10</td>\n",
       "      <td>no</td>\n",
       "      <td>16.45</td>\n",
       "      <td>2.957</td>\n",
       "      <td>0.0</td>\n",
       "      <td>1.8026</td>\n",
       "      <td>All transport options</td>\n",
       "      <td>666</td>\n",
       "      <td>20.2</td>\n",
       "      <td>16.45</td>\n",
       "      <td>5.1550</td>\n",
       "      <td>c_22</td>\n",
       "    </tr>\n",
       "  </tbody>\n",
       "</table>\n",
       "</div>"
      ],
      "text/plain": [
       "   location_id  crime_rate  proportion_flats  proportion_nonretail new_store  \\\n",
       "0          105    0.039968              34.0                  6.09        no   \n",
       "1          400    0.587758              20.0                  3.97        no   \n",
       "2          338    1.116926               0.0                  8.14        no   \n",
       "3          227    1.517409               0.0                 19.58        no   \n",
       "4          114   83.093533               0.0                 18.10        no   \n",
       "\n",
       "   commercial_property  household_size  proportion_newbuilds  \\\n",
       "0                 4.15           3.590                  59.6   \n",
       "1                14.85           5.398                   8.5   \n",
       "2                 9.40           2.813                   0.0   \n",
       "3                12.75           3.066                   0.0   \n",
       "4                16.45           2.957                   0.0   \n",
       "\n",
       "   public_transport_dist     transport_availability  property_value  \\\n",
       "0                 5.4917     Many transport options             329   \n",
       "1                 2.2885  Average transport options             264   \n",
       "2                 4.0952      Few transport options             307   \n",
       "3                 1.7573  Average transport options             403   \n",
       "4                 1.8026      All transport options             666   \n",
       "\n",
       "   school_proximity  competitor_density  household_affluency county  \n",
       "0              16.1              395.75               2.3750   c_42  \n",
       "1              13.0              386.86               1.4775  c_140  \n",
       "2               NaN              394.54               4.9700   c_55  \n",
       "3              14.7              353.89               1.6075   c_62  \n",
       "4              20.2               16.45               5.1550   c_22  "
      ]
     },
     "execution_count": 3,
     "metadata": {},
     "output_type": "execute_result"
    }
   ],
   "source": [
    "# Test Dataset\n",
    "df_test = pd.read_csv('s3://tesco_datasets/test.csv')\n",
    "print(df_test.shape)\n",
    "df_test.head()"
   ]
  },
  {
   "cell_type": "code",
   "execution_count": 4,
   "metadata": {},
   "outputs": [
    {
     "name": "stdout",
     "output_type": "stream",
     "text": [
      "(100, 3)\n"
     ]
    },
    {
     "data": {
      "text/html": [
       "<div>\n",
       "<style scoped>\n",
       "    .dataframe tbody tr th:only-of-type {\n",
       "        vertical-align: middle;\n",
       "    }\n",
       "\n",
       "    .dataframe tbody tr th {\n",
       "        vertical-align: top;\n",
       "    }\n",
       "\n",
       "    .dataframe thead th {\n",
       "        text-align: right;\n",
       "    }\n",
       "</style>\n",
       "<table border=\"1\" class=\"dataframe\">\n",
       "  <thead>\n",
       "    <tr style=\"text-align: right;\">\n",
       "      <th></th>\n",
       "      <th>x1</th>\n",
       "      <th>x2</th>\n",
       "      <th>y</th>\n",
       "    </tr>\n",
       "  </thead>\n",
       "  <tbody>\n",
       "    <tr>\n",
       "      <th>0</th>\n",
       "      <td>0.784119</td>\n",
       "      <td>0.948352</td>\n",
       "      <td>1.437410</td>\n",
       "    </tr>\n",
       "    <tr>\n",
       "      <th>1</th>\n",
       "      <td>0.911072</td>\n",
       "      <td>0.787079</td>\n",
       "      <td>0.943558</td>\n",
       "    </tr>\n",
       "    <tr>\n",
       "      <th>2</th>\n",
       "      <td>0.549740</td>\n",
       "      <td>0.906819</td>\n",
       "      <td>1.197050</td>\n",
       "    </tr>\n",
       "  </tbody>\n",
       "</table>\n",
       "</div>"
      ],
      "text/plain": [
       "         x1        x2         y\n",
       "0  0.784119  0.948352  1.437410\n",
       "1  0.911072  0.787079  0.943558\n",
       "2  0.549740  0.906819  1.197050"
      ]
     },
     "execution_count": 4,
     "metadata": {},
     "output_type": "execute_result"
    }
   ],
   "source": [
    "## Masked Dataset\n",
    "df_masked_data = pd.read_csv('s3://tesco_datasets/masked_datasets/train.csv')\n",
    "print(df_masked_data.shape)\n",
    "df_masked_data.head(3)"
   ]
  },
  {
   "cell_type": "markdown",
   "metadata": {},
   "source": [
    "## 3. Data Quality Check"
   ]
  },
  {
   "cell_type": "code",
   "execution_count": 5,
   "metadata": {},
   "outputs": [
    {
     "data": {
      "text/html": [
       "<div>\n",
       "<style scoped>\n",
       "    .dataframe tbody tr th:only-of-type {\n",
       "        vertical-align: middle;\n",
       "    }\n",
       "\n",
       "    .dataframe tbody tr th {\n",
       "        vertical-align: top;\n",
       "    }\n",
       "\n",
       "    .dataframe thead th {\n",
       "        text-align: right;\n",
       "    }\n",
       "</style>\n",
       "<table border=\"1\" class=\"dataframe\">\n",
       "  <thead>\n",
       "    <tr style=\"text-align: right;\">\n",
       "      <th></th>\n",
       "      <th>count</th>\n",
       "      <th>mean</th>\n",
       "      <th>std</th>\n",
       "      <th>min</th>\n",
       "      <th>25%</th>\n",
       "      <th>50%</th>\n",
       "      <th>75%</th>\n",
       "      <th>max</th>\n",
       "    </tr>\n",
       "  </thead>\n",
       "  <tbody>\n",
       "    <tr>\n",
       "      <th>location_id</th>\n",
       "      <td>320.0</td>\n",
       "      <td>252.387500</td>\n",
       "      <td>145.600582</td>\n",
       "      <td>1.000000</td>\n",
       "      <td>126.500000</td>\n",
       "      <td>251.500000</td>\n",
       "      <td>377.250000</td>\n",
       "      <td>506.000000</td>\n",
       "    </tr>\n",
       "    <tr>\n",
       "      <th>crime_rate</th>\n",
       "      <td>320.0</td>\n",
       "      <td>3.596375</td>\n",
       "      <td>7.176342</td>\n",
       "      <td>0.007142</td>\n",
       "      <td>0.087937</td>\n",
       "      <td>0.289681</td>\n",
       "      <td>4.063553</td>\n",
       "      <td>51.693093</td>\n",
       "    </tr>\n",
       "    <tr>\n",
       "      <th>proportion_flats</th>\n",
       "      <td>320.0</td>\n",
       "      <td>10.673438</td>\n",
       "      <td>22.579232</td>\n",
       "      <td>0.000000</td>\n",
       "      <td>0.000000</td>\n",
       "      <td>0.000000</td>\n",
       "      <td>12.500000</td>\n",
       "      <td>100.000000</td>\n",
       "    </tr>\n",
       "    <tr>\n",
       "      <th>proportion_nonretail</th>\n",
       "      <td>320.0</td>\n",
       "      <td>11.307906</td>\n",
       "      <td>7.032693</td>\n",
       "      <td>0.740000</td>\n",
       "      <td>5.130000</td>\n",
       "      <td>9.900000</td>\n",
       "      <td>18.100000</td>\n",
       "      <td>27.740000</td>\n",
       "    </tr>\n",
       "    <tr>\n",
       "      <th>commercial_property</th>\n",
       "      <td>291.0</td>\n",
       "      <td>16.868557</td>\n",
       "      <td>73.806051</td>\n",
       "      <td>1.750000</td>\n",
       "      <td>5.450000</td>\n",
       "      <td>9.400000</td>\n",
       "      <td>14.050000</td>\n",
       "      <td>1009.000000</td>\n",
       "    </tr>\n",
       "    <tr>\n",
       "      <th>household_size</th>\n",
       "      <td>320.0</td>\n",
       "      <td>3.252803</td>\n",
       "      <td>0.695442</td>\n",
       "      <td>0.561000</td>\n",
       "      <td>2.879750</td>\n",
       "      <td>3.197500</td>\n",
       "      <td>3.597250</td>\n",
       "      <td>5.725000</td>\n",
       "    </tr>\n",
       "    <tr>\n",
       "      <th>proportion_newbuilds</th>\n",
       "      <td>320.0</td>\n",
       "      <td>31.849063</td>\n",
       "      <td>27.845777</td>\n",
       "      <td>0.000000</td>\n",
       "      <td>6.350000</td>\n",
       "      <td>23.400000</td>\n",
       "      <td>54.450000</td>\n",
       "      <td>94.000000</td>\n",
       "    </tr>\n",
       "    <tr>\n",
       "      <th>public_transport_dist</th>\n",
       "      <td>320.0</td>\n",
       "      <td>3.718765</td>\n",
       "      <td>1.984765</td>\n",
       "      <td>1.137000</td>\n",
       "      <td>2.138075</td>\n",
       "      <td>3.095750</td>\n",
       "      <td>5.116700</td>\n",
       "      <td>10.710300</td>\n",
       "    </tr>\n",
       "    <tr>\n",
       "      <th>property_value</th>\n",
       "      <td>320.0</td>\n",
       "      <td>408.834375</td>\n",
       "      <td>170.888974</td>\n",
       "      <td>188.000000</td>\n",
       "      <td>277.000000</td>\n",
       "      <td>330.000000</td>\n",
       "      <td>666.000000</td>\n",
       "      <td>711.000000</td>\n",
       "    </tr>\n",
       "    <tr>\n",
       "      <th>school_proximity</th>\n",
       "      <td>257.0</td>\n",
       "      <td>18.589494</td>\n",
       "      <td>2.075529</td>\n",
       "      <td>13.000000</td>\n",
       "      <td>17.400000</td>\n",
       "      <td>19.100000</td>\n",
       "      <td>20.200000</td>\n",
       "      <td>21.200000</td>\n",
       "    </tr>\n",
       "    <tr>\n",
       "      <th>competitor_density</th>\n",
       "      <td>320.0</td>\n",
       "      <td>359.657562</td>\n",
       "      <td>86.048632</td>\n",
       "      <td>3.500000</td>\n",
       "      <td>376.722500</td>\n",
       "      <td>392.205000</td>\n",
       "      <td>396.352500</td>\n",
       "      <td>396.900000</td>\n",
       "    </tr>\n",
       "    <tr>\n",
       "      <th>household_affluency</th>\n",
       "      <td>320.0</td>\n",
       "      <td>3.144008</td>\n",
       "      <td>1.774041</td>\n",
       "      <td>0.432500</td>\n",
       "      <td>1.803750</td>\n",
       "      <td>2.808750</td>\n",
       "      <td>4.091875</td>\n",
       "      <td>9.492500</td>\n",
       "    </tr>\n",
       "    <tr>\n",
       "      <th>normalised_sales</th>\n",
       "      <td>320.0</td>\n",
       "      <td>-0.016967</td>\n",
       "      <td>0.978561</td>\n",
       "      <td>-1.936974</td>\n",
       "      <td>-0.585250</td>\n",
       "      <td>-0.143759</td>\n",
       "      <td>0.243227</td>\n",
       "      <td>2.968477</td>\n",
       "    </tr>\n",
       "  </tbody>\n",
       "</table>\n",
       "</div>"
      ],
      "text/plain": [
       "                       count        mean         std         min         25%  \\\n",
       "location_id            320.0  252.387500  145.600582    1.000000  126.500000   \n",
       "crime_rate             320.0    3.596375    7.176342    0.007142    0.087937   \n",
       "proportion_flats       320.0   10.673438   22.579232    0.000000    0.000000   \n",
       "proportion_nonretail   320.0   11.307906    7.032693    0.740000    5.130000   \n",
       "commercial_property    291.0   16.868557   73.806051    1.750000    5.450000   \n",
       "household_size         320.0    3.252803    0.695442    0.561000    2.879750   \n",
       "proportion_newbuilds   320.0   31.849063   27.845777    0.000000    6.350000   \n",
       "public_transport_dist  320.0    3.718765    1.984765    1.137000    2.138075   \n",
       "property_value         320.0  408.834375  170.888974  188.000000  277.000000   \n",
       "school_proximity       257.0   18.589494    2.075529   13.000000   17.400000   \n",
       "competitor_density     320.0  359.657562   86.048632    3.500000  376.722500   \n",
       "household_affluency    320.0    3.144008    1.774041    0.432500    1.803750   \n",
       "normalised_sales       320.0   -0.016967    0.978561   -1.936974   -0.585250   \n",
       "\n",
       "                              50%         75%          max  \n",
       "location_id            251.500000  377.250000   506.000000  \n",
       "crime_rate               0.289681    4.063553    51.693093  \n",
       "proportion_flats         0.000000   12.500000   100.000000  \n",
       "proportion_nonretail     9.900000   18.100000    27.740000  \n",
       "commercial_property      9.400000   14.050000  1009.000000  \n",
       "household_size           3.197500    3.597250     5.725000  \n",
       "proportion_newbuilds    23.400000   54.450000    94.000000  \n",
       "public_transport_dist    3.095750    5.116700    10.710300  \n",
       "property_value         330.000000  666.000000   711.000000  \n",
       "school_proximity        19.100000   20.200000    21.200000  \n",
       "competitor_density     392.205000  396.352500   396.900000  \n",
       "household_affluency      2.808750    4.091875     9.492500  \n",
       "normalised_sales        -0.143759    0.243227     2.968477  "
      ]
     },
     "execution_count": 5,
     "metadata": {},
     "output_type": "execute_result"
    }
   ],
   "source": [
    "# Numeric summary\n",
    "df_train.describe().transpose()"
   ]
  },
  {
   "cell_type": "code",
   "execution_count": 6,
   "metadata": {},
   "outputs": [
    {
     "name": "stdout",
     "output_type": "stream",
     "text": [
      "<class 'pandas.core.frame.DataFrame'>\n",
      "RangeIndex: 320 entries, 0 to 319\n",
      "Data columns (total 16 columns):\n",
      "location_id               320 non-null int64\n",
      "crime_rate                320 non-null float64\n",
      "proportion_flats          320 non-null float64\n",
      "proportion_nonretail      320 non-null float64\n",
      "new_store                 320 non-null object\n",
      "commercial_property       291 non-null float64\n",
      "household_size            320 non-null float64\n",
      "proportion_newbuilds      320 non-null float64\n",
      "public_transport_dist     320 non-null float64\n",
      "transport_availability    320 non-null object\n",
      "property_value            320 non-null int64\n",
      "school_proximity          257 non-null float64\n",
      "competitor_density        320 non-null float64\n",
      "household_affluency       320 non-null float64\n",
      "normalised_sales          320 non-null float64\n",
      "county                    320 non-null object\n",
      "dtypes: float64(11), int64(2), object(3)\n",
      "memory usage: 40.1+ KB\n",
      "None\n"
     ]
    }
   ],
   "source": [
    "# Data types\n",
    "print(df_train.info())"
   ]
  },
  {
   "cell_type": "code",
   "execution_count": 7,
   "metadata": {},
   "outputs": [
    {
     "data": {
      "text/plain": [
       "'\\nIt seems the below 3 features are categorical.\\n1. new_store\\n2. transport_availability\\n3. county\\n'"
      ]
     },
     "execution_count": 7,
     "metadata": {},
     "output_type": "execute_result"
    }
   ],
   "source": [
    "'''\n",
    "It seems the below 3 features are categorical.\n",
    "1. new_store\n",
    "2. transport_availability\n",
    "3. county\n",
    "'''"
   ]
  },
  {
   "cell_type": "code",
   "execution_count": 8,
   "metadata": {},
   "outputs": [
    {
     "name": "stdout",
     "output_type": "stream",
     "text": [
      "Index(['new_store', 'transport_availability', 'county'], dtype='object')\n"
     ]
    }
   ],
   "source": [
    "## Rechecking if the above finding is true\n",
    "\n",
    "# Identify Categorical Features (below command will help in selecting columns having datatype 'object')\n",
    "print(df_train.select_dtypes(['object']).columns)"
   ]
  },
  {
   "cell_type": "markdown",
   "metadata": {},
   "source": [
    "### Missing Value Analysis"
   ]
  },
  {
   "cell_type": "code",
   "execution_count": 9,
   "metadata": {},
   "outputs": [
    {
     "data": {
      "text/html": [
       "<div>\n",
       "<style scoped>\n",
       "    .dataframe tbody tr th:only-of-type {\n",
       "        vertical-align: middle;\n",
       "    }\n",
       "\n",
       "    .dataframe tbody tr th {\n",
       "        vertical-align: top;\n",
       "    }\n",
       "\n",
       "    .dataframe thead th {\n",
       "        text-align: right;\n",
       "    }\n",
       "</style>\n",
       "<table border=\"1\" class=\"dataframe\">\n",
       "  <thead>\n",
       "    <tr style=\"text-align: right;\">\n",
       "      <th></th>\n",
       "      <th>Missing_Value_Count</th>\n",
       "      <th>Missing_Value_Percentage</th>\n",
       "    </tr>\n",
       "  </thead>\n",
       "  <tbody>\n",
       "    <tr>\n",
       "      <th>school_proximity</th>\n",
       "      <td>63</td>\n",
       "      <td>19.6875</td>\n",
       "    </tr>\n",
       "    <tr>\n",
       "      <th>commercial_property</th>\n",
       "      <td>29</td>\n",
       "      <td>9.0625</td>\n",
       "    </tr>\n",
       "    <tr>\n",
       "      <th>location_id</th>\n",
       "      <td>0</td>\n",
       "      <td>0.0000</td>\n",
       "    </tr>\n",
       "    <tr>\n",
       "      <th>crime_rate</th>\n",
       "      <td>0</td>\n",
       "      <td>0.0000</td>\n",
       "    </tr>\n",
       "    <tr>\n",
       "      <th>proportion_flats</th>\n",
       "      <td>0</td>\n",
       "      <td>0.0000</td>\n",
       "    </tr>\n",
       "    <tr>\n",
       "      <th>proportion_nonretail</th>\n",
       "      <td>0</td>\n",
       "      <td>0.0000</td>\n",
       "    </tr>\n",
       "    <tr>\n",
       "      <th>new_store</th>\n",
       "      <td>0</td>\n",
       "      <td>0.0000</td>\n",
       "    </tr>\n",
       "    <tr>\n",
       "      <th>household_size</th>\n",
       "      <td>0</td>\n",
       "      <td>0.0000</td>\n",
       "    </tr>\n",
       "    <tr>\n",
       "      <th>proportion_newbuilds</th>\n",
       "      <td>0</td>\n",
       "      <td>0.0000</td>\n",
       "    </tr>\n",
       "    <tr>\n",
       "      <th>public_transport_dist</th>\n",
       "      <td>0</td>\n",
       "      <td>0.0000</td>\n",
       "    </tr>\n",
       "    <tr>\n",
       "      <th>transport_availability</th>\n",
       "      <td>0</td>\n",
       "      <td>0.0000</td>\n",
       "    </tr>\n",
       "    <tr>\n",
       "      <th>property_value</th>\n",
       "      <td>0</td>\n",
       "      <td>0.0000</td>\n",
       "    </tr>\n",
       "    <tr>\n",
       "      <th>competitor_density</th>\n",
       "      <td>0</td>\n",
       "      <td>0.0000</td>\n",
       "    </tr>\n",
       "    <tr>\n",
       "      <th>household_affluency</th>\n",
       "      <td>0</td>\n",
       "      <td>0.0000</td>\n",
       "    </tr>\n",
       "    <tr>\n",
       "      <th>normalised_sales</th>\n",
       "      <td>0</td>\n",
       "      <td>0.0000</td>\n",
       "    </tr>\n",
       "    <tr>\n",
       "      <th>county</th>\n",
       "      <td>0</td>\n",
       "      <td>0.0000</td>\n",
       "    </tr>\n",
       "  </tbody>\n",
       "</table>\n",
       "</div>"
      ],
      "text/plain": [
       "                        Missing_Value_Count  Missing_Value_Percentage\n",
       "school_proximity                         63                   19.6875\n",
       "commercial_property                      29                    9.0625\n",
       "location_id                               0                    0.0000\n",
       "crime_rate                                0                    0.0000\n",
       "proportion_flats                          0                    0.0000\n",
       "proportion_nonretail                      0                    0.0000\n",
       "new_store                                 0                    0.0000\n",
       "household_size                            0                    0.0000\n",
       "proportion_newbuilds                      0                    0.0000\n",
       "public_transport_dist                     0                    0.0000\n",
       "transport_availability                    0                    0.0000\n",
       "property_value                            0                    0.0000\n",
       "competitor_density                        0                    0.0000\n",
       "household_affluency                       0                    0.0000\n",
       "normalised_sales                          0                    0.0000\n",
       "county                                    0                    0.0000"
      ]
     },
     "execution_count": 9,
     "metadata": {},
     "output_type": "execute_result"
    }
   ],
   "source": [
    "# Calculate missing value count and percentage\n",
    "\n",
    "missing_value_df_train = pd.DataFrame(index = df_train.keys(),data =df_train.isnull().sum(),columns = ['Missing_Value_Count'])\n",
    "missing_value_df_train['Missing_Value_Percentage'] = ((df_train.isnull().mean())*100)\n",
    "missing_value_df_train.sort_values('Missing_Value_Count',ascending= False)"
   ]
  },
  {
   "cell_type": "code",
   "execution_count": 10,
   "metadata": {},
   "outputs": [
    {
     "data": {
      "text/plain": [
       "'\\n1. commercial_property\\n2. school_proximity\\n'"
      ]
     },
     "execution_count": 10,
     "metadata": {},
     "output_type": "execute_result"
    }
   ],
   "source": [
    "# Below 2 features only are having missing values\n",
    "'''\n",
    "1. commercial_property\n",
    "2. school_proximity\n",
    "'''\n",
    "# Both the features are having missing values less than 20%. We may impute these."
   ]
  },
  {
   "cell_type": "code",
   "execution_count": 11,
   "metadata": {},
   "outputs": [
    {
     "data": {
      "text/plain": [
       "location_id               320\n",
       "crime_rate                319\n",
       "proportion_flats           25\n",
       "proportion_nonretail       67\n",
       "new_store                   2\n",
       "commercial_property        76\n",
       "household_size            298\n",
       "proportion_newbuilds      252\n",
       "public_transport_dist     286\n",
       "transport_availability      5\n",
       "property_value             58\n",
       "school_proximity           40\n",
       "competitor_density        226\n",
       "household_affluency       298\n",
       "normalised_sales          188\n",
       "county                     98\n",
       "dtype: int64"
      ]
     },
     "execution_count": 11,
     "metadata": {},
     "output_type": "execute_result"
    }
   ],
   "source": [
    "# Number of unique values for each feature\n",
    "df_train.nunique()"
   ]
  },
  {
   "cell_type": "markdown",
   "metadata": {},
   "source": [
    "### Imputation"
   ]
  },
  {
   "cell_type": "code",
   "execution_count": 12,
   "metadata": {},
   "outputs": [
    {
     "name": "stderr",
     "output_type": "stream",
     "text": [
      "/home/ec2-user/anaconda3/envs/python3/lib/python3.6/site-packages/numpy/lib/histograms.py:839: RuntimeWarning: invalid value encountered in greater_equal\n",
      "  keep = (tmp_a >= first_edge)\n",
      "/home/ec2-user/anaconda3/envs/python3/lib/python3.6/site-packages/numpy/lib/histograms.py:840: RuntimeWarning: invalid value encountered in less_equal\n",
      "  keep &= (tmp_a <= last_edge)\n"
     ]
    },
    {
     "data": {
      "text/plain": [
       "(array([288.,   1.,   0.,   0.,   0.,   0.,   0.,   1.,   0.,   1.]),\n",
       " array([   1.75 ,  102.475,  203.2  ,  303.925,  404.65 ,  505.375,\n",
       "         606.1  ,  706.825,  807.55 ,  908.275, 1009.   ]),\n",
       " <a list of 10 Patch objects>)"
      ]
     },
     "execution_count": 12,
     "metadata": {},
     "output_type": "execute_result"
    },
    {
     "data": {
      "image/png": "[encoded data removed]",
      "text/plain": [
       "<Figure size 432x288 with 1 Axes>"
      ]
     },
     "metadata": {},
     "output_type": "display_data"
    }
   ],
   "source": [
    "# Histogram\n",
    "plt.hist(df_train['commercial_property'])"
   ]
  },
  {
   "cell_type": "code",
   "execution_count": 13,
   "metadata": {},
   "outputs": [
    {
     "name": "stderr",
     "output_type": "stream",
     "text": [
      "/home/ec2-user/anaconda3/envs/python3/lib/python3.6/site-packages/numpy/lib/histograms.py:839: RuntimeWarning: invalid value encountered in greater_equal\n",
      "  keep = (tmp_a >= first_edge)\n",
      "/home/ec2-user/anaconda3/envs/python3/lib/python3.6/site-packages/numpy/lib/histograms.py:840: RuntimeWarning: invalid value encountered in less_equal\n",
      "  keep &= (tmp_a <= last_edge)\n"
     ]
    },
    {
     "data": {
      "text/plain": [
       "(array([ 7.,  0., 25., 10., 16., 29., 33., 21., 87., 29.]),\n",
       " array([13.  , 13.82, 14.64, 15.46, 16.28, 17.1 , 17.92, 18.74, 19.56,\n",
       "        20.38, 21.2 ]),\n",
       " <a list of 10 Patch objects>)"
      ]
     },
     "execution_count": 13,
     "metadata": {},
     "output_type": "execute_result"
    },
    {
     "data": {
      "image/png": "[encoded data removed]",
      "text/plain": [
       "<Figure size 432x288 with 1 Axes>"
      ]
     },
     "metadata": {},
     "output_type": "display_data"
    }
   ],
   "source": [
    "# Histogram\n",
    "plt.hist(df_train['school_proximity'])"
   ]
  },
  {
   "cell_type": "code",
   "execution_count": 14,
   "metadata": {},
   "outputs": [
    {
     "name": "stdout",
     "output_type": "stream",
     "text": [
      "16.86855670103091\n",
      "18.58949416342409\n"
     ]
    }
   ],
   "source": [
    "print(df_train['commercial_property'].mean())\n",
    "print(df_train['school_proximity'].mean())"
   ]
  },
  {
   "cell_type": "code",
   "execution_count": 15,
   "metadata": {},
   "outputs": [
    {
     "data": {
      "text/plain": [
       "'\\nAfter seeing the value distribution  and mean of each feature, it makes sense to impute with mean for respective feature.\\n'"
      ]
     },
     "execution_count": 15,
     "metadata": {},
     "output_type": "execute_result"
    }
   ],
   "source": [
    "'''\n",
    "After seeing the value distribution  and mean of each feature, it makes sense to impute with mean for respective feature.\n",
    "'''"
   ]
  },
  {
   "cell_type": "code",
   "execution_count": 16,
   "metadata": {},
   "outputs": [],
   "source": [
    "# Make a copy of raw training set before imputing it\n",
    "df_train_impute = df_train.copy()"
   ]
  },
  {
   "cell_type": "code",
   "execution_count": 17,
   "metadata": {},
   "outputs": [],
   "source": [
    "df_train_impute['commercial_property'] = df_train_impute['commercial_property'].fillna(df_train_impute['commercial_property'].mean())\n",
    "df_train_impute['school_proximity'] = df_train_impute['school_proximity'].fillna(df_train_impute['school_proximity'].mean())\n"
   ]
  },
  {
   "cell_type": "code",
   "execution_count": 18,
   "metadata": {},
   "outputs": [
    {
     "name": "stdout",
     "output_type": "stream",
     "text": [
      "<class 'pandas.core.frame.DataFrame'>\n",
      "RangeIndex: 320 entries, 0 to 319\n",
      "Data columns (total 16 columns):\n",
      "location_id               320 non-null int64\n",
      "crime_rate                320 non-null float64\n",
      "proportion_flats          320 non-null float64\n",
      "proportion_nonretail      320 non-null float64\n",
      "new_store                 320 non-null object\n",
      "commercial_property       320 non-null float64\n",
      "household_size            320 non-null float64\n",
      "proportion_newbuilds      320 non-null float64\n",
      "public_transport_dist     320 non-null float64\n",
      "transport_availability    320 non-null object\n",
      "property_value            320 non-null int64\n",
      "school_proximity          320 non-null float64\n",
      "competitor_density        320 non-null float64\n",
      "household_affluency       320 non-null float64\n",
      "normalised_sales          320 non-null float64\n",
      "county                    320 non-null object\n",
      "dtypes: float64(11), int64(2), object(3)\n",
      "memory usage: 40.1+ KB\n"
     ]
    }
   ],
   "source": [
    "# Rechecking if there is any null values still present\n",
    "df_train_impute.info()"
   ]
  },
  {
   "cell_type": "markdown",
   "metadata": {},
   "source": [
    "##### Outlier Analysis for Categorical Features"
   ]
  },
  {
   "cell_type": "code",
   "execution_count": 19,
   "metadata": {},
   "outputs": [
    {
     "data": {
      "image/png": "[encoded data removed]",
      "text/plain": [
       "<Figure size 720x504 with 1 Axes>"
      ]
     },
     "metadata": {},
     "output_type": "display_data"
    }
   ],
   "source": [
    "# normalised_sales by transport_availability\n",
    "plt.figure(figsize = (10,7))\n",
    "sns.boxplot(x = 'transport_availability', y = 'normalised_sales', data = df_train, palette= 'GnBu_d').set_title('normalised_sales by transport_availability')\n",
    "plt.show()"
   ]
  },
  {
   "cell_type": "code",
   "execution_count": 20,
   "metadata": {},
   "outputs": [
    {
     "data": {
      "image/png": "[encoded data removed]",
      "text/plain": [
       "<Figure size 720x504 with 1 Axes>"
      ]
     },
     "metadata": {},
     "output_type": "display_data"
    }
   ],
   "source": [
    "# normalised_sales by new_store\n",
    "plt.figure(figsize = (10,7))\n",
    "sns.boxplot(x = 'new_store', y = 'normalised_sales', data = df_train, palette= 'GnBu_d').set_title('normalised_sales by new_store')\n",
    "plt.show()"
   ]
  },
  {
   "cell_type": "markdown",
   "metadata": {},
   "source": [
    "## 4. Feature Analysis"
   ]
  },
  {
   "cell_type": "code",
   "execution_count": 21,
   "metadata": {},
   "outputs": [
    {
     "data": {
      "text/html": [
       "<div>\n",
       "<style scoped>\n",
       "    .dataframe tbody tr th:only-of-type {\n",
       "        vertical-align: middle;\n",
       "    }\n",
       "\n",
       "    .dataframe tbody tr th {\n",
       "        vertical-align: top;\n",
       "    }\n",
       "\n",
       "    .dataframe thead th {\n",
       "        text-align: right;\n",
       "    }\n",
       "</style>\n",
       "<table border=\"1\" class=\"dataframe\">\n",
       "  <thead>\n",
       "    <tr style=\"text-align: right;\">\n",
       "      <th></th>\n",
       "      <th>location_id</th>\n",
       "      <th>crime_rate</th>\n",
       "      <th>proportion_flats</th>\n",
       "      <th>proportion_nonretail</th>\n",
       "      <th>new_store</th>\n",
       "      <th>commercial_property</th>\n",
       "      <th>household_size</th>\n",
       "      <th>proportion_newbuilds</th>\n",
       "      <th>public_transport_dist</th>\n",
       "      <th>transport_availability</th>\n",
       "      <th>property_value</th>\n",
       "      <th>school_proximity</th>\n",
       "      <th>competitor_density</th>\n",
       "      <th>household_affluency</th>\n",
       "      <th>normalised_sales</th>\n",
       "      <th>county</th>\n",
       "    </tr>\n",
       "  </thead>\n",
       "  <tbody>\n",
       "    <tr>\n",
       "      <th>0</th>\n",
       "      <td>464</td>\n",
       "      <td>17.600541</td>\n",
       "      <td>0.0</td>\n",
       "      <td>18.10</td>\n",
       "      <td>no</td>\n",
       "      <td>NaN</td>\n",
       "      <td>2.926</td>\n",
       "      <td>29.0</td>\n",
       "      <td>2.9084</td>\n",
       "      <td>All transport options</td>\n",
       "      <td>666</td>\n",
       "      <td>20.2</td>\n",
       "      <td>368.74</td>\n",
       "      <td>4.5325</td>\n",
       "      <td>-0.399933</td>\n",
       "      <td>c_40</td>\n",
       "    </tr>\n",
       "    <tr>\n",
       "      <th>1</th>\n",
       "      <td>504</td>\n",
       "      <td>0.603556</td>\n",
       "      <td>20.0</td>\n",
       "      <td>3.97</td>\n",
       "      <td>no</td>\n",
       "      <td>14.85</td>\n",
       "      <td>4.520</td>\n",
       "      <td>10.6</td>\n",
       "      <td>2.1398</td>\n",
       "      <td>Average transport options</td>\n",
       "      <td>264</td>\n",
       "      <td>13.0</td>\n",
       "      <td>388.37</td>\n",
       "      <td>1.8150</td>\n",
       "      <td>2.216308</td>\n",
       "      <td>c_80</td>\n",
       "    </tr>\n",
       "  </tbody>\n",
       "</table>\n",
       "</div>"
      ],
      "text/plain": [
       "   location_id  crime_rate  proportion_flats  proportion_nonretail new_store  \\\n",
       "0          464   17.600541               0.0                 18.10        no   \n",
       "1          504    0.603556              20.0                  3.97        no   \n",
       "\n",
       "   commercial_property  household_size  proportion_newbuilds  \\\n",
       "0                  NaN           2.926                  29.0   \n",
       "1                14.85           4.520                  10.6   \n",
       "\n",
       "   public_transport_dist     transport_availability  property_value  \\\n",
       "0                 2.9084      All transport options             666   \n",
       "1                 2.1398  Average transport options             264   \n",
       "\n",
       "   school_proximity  competitor_density  household_affluency  \\\n",
       "0              20.2              368.74               4.5325   \n",
       "1              13.0              388.37               1.8150   \n",
       "\n",
       "   normalised_sales county  \n",
       "0         -0.399933   c_40  \n",
       "1          2.216308   c_80  "
      ]
     },
     "execution_count": 21,
     "metadata": {},
     "output_type": "execute_result"
    }
   ],
   "source": [
    "df_train.head(2)"
   ]
  },
  {
   "cell_type": "markdown",
   "metadata": {},
   "source": [
    "#### location_id"
   ]
  },
  {
   "cell_type": "code",
   "execution_count": 22,
   "metadata": {},
   "outputs": [
    {
     "name": "stdout",
     "output_type": "stream",
     "text": [
      "320\n"
     ]
    },
    {
     "data": {
      "text/plain": [
       "320"
      ]
     },
     "execution_count": 22,
     "metadata": {},
     "output_type": "execute_result"
    }
   ],
   "source": [
    "print(df_train.shape[0])\n",
    "df_train['location_id'].nunique()"
   ]
  },
  {
   "cell_type": "code",
   "execution_count": 23,
   "metadata": {},
   "outputs": [
    {
     "data": {
      "text/plain": [
       "'\\nThere is no duplicate location_id\\n'"
      ]
     },
     "execution_count": 23,
     "metadata": {},
     "output_type": "execute_result"
    }
   ],
   "source": [
    "'''\n",
    "There is no duplicate location_id\n",
    "'''"
   ]
  },
  {
   "cell_type": "markdown",
   "metadata": {},
   "source": [
    "#### county"
   ]
  },
  {
   "cell_type": "code",
   "execution_count": 24,
   "metadata": {},
   "outputs": [
    {
     "data": {
      "text/plain": [
       "98"
      ]
     },
     "execution_count": 24,
     "metadata": {},
     "output_type": "execute_result"
    }
   ],
   "source": [
    "# unique county\n",
    "df_train['county'].nunique()"
   ]
  },
  {
   "cell_type": "code",
   "execution_count": 25,
   "metadata": {},
   "outputs": [
    {
     "data": {
      "text/plain": [
       "'\\ncategorical feature\\nMultiple counties present\\nSum of normalised_sales by grouping by the counties\\n'"
      ]
     },
     "execution_count": 25,
     "metadata": {},
     "output_type": "execute_result"
    }
   ],
   "source": [
    "'''\n",
    "categorical feature\n",
    "Multiple counties present\n",
    "Sum of normalised_sales by grouping by the counties\n",
    "'''"
   ]
  },
  {
   "cell_type": "markdown",
   "metadata": {},
   "source": [
    "#### crime_rate"
   ]
  },
  {
   "cell_type": "code",
   "execution_count": 26,
   "metadata": {},
   "outputs": [
    {
     "name": "stdout",
     "output_type": "stream",
     "text": [
      "0.0071416\n",
      "51.69309299999999\n"
     ]
    }
   ],
   "source": [
    "# Range of crime_rate\n",
    "print(df_train['crime_rate'].min())\n",
    "print(df_train['crime_rate'].max())"
   ]
  },
  {
   "cell_type": "code",
   "execution_count": 27,
   "metadata": {},
   "outputs": [
    {
     "data": {
      "text/plain": [
       "(array([250.,  30.,  19.,   9.,   4.,   4.,   1.,   0.,   2.,   1.]),\n",
       " array([7.14160000e-03, 5.17573674e+00, 1.03443319e+01, 1.55129270e+01,\n",
       "        2.06815222e+01, 2.58501173e+01, 3.10187124e+01, 3.61873076e+01,\n",
       "        4.13559027e+01, 4.65244979e+01, 5.16930930e+01]),\n",
       " <a list of 10 Patch objects>)"
      ]
     },
     "execution_count": 27,
     "metadata": {},
     "output_type": "execute_result"
    },
    {
     "data": {
      "image/png": "[encoded data removed]",
      "text/plain": [
       "<Figure size 432x288 with 1 Axes>"
      ]
     },
     "metadata": {},
     "output_type": "display_data"
    }
   ],
   "source": [
    "# Histogram\n",
    "plt.hist(df_train['crime_rate'])"
   ]
  },
  {
   "cell_type": "code",
   "execution_count": 28,
   "metadata": {},
   "outputs": [
    {
     "data": {
      "text/plain": [
       "<matplotlib.collections.PathCollection at 0x7fbf4ddd5be0>"
      ]
     },
     "execution_count": 28,
     "metadata": {},
     "output_type": "execute_result"
    },
    {
     "data": {
      "image/png": "[encoded data removed]",
      "text/plain": [
       "<Figure size 432x288 with 1 Axes>"
      ]
     },
     "metadata": {},
     "output_type": "display_data"
    }
   ],
   "source": [
    "# Scatter plot for crime_rate vs normalised_sales\n",
    "plt.scatter(df_train['crime_rate'], df_train['normalised_sales'])"
   ]
  },
  {
   "cell_type": "code",
   "execution_count": 29,
   "metadata": {},
   "outputs": [
    {
     "data": {
      "text/plain": [
       "(array([2., 6., 3., 5., 3., 0., 1., 1., 0., 2.]),\n",
       " array([-1.93697397, -1.73966582, -1.54235767, -1.34504952, -1.14774137,\n",
       "        -0.95043322, -0.75312507, -0.55581692, -0.35850877, -0.16120062,\n",
       "         0.03610753]),\n",
       " <a list of 10 Patch objects>)"
      ]
     },
     "execution_count": 29,
     "metadata": {},
     "output_type": "execute_result"
    },
    {
     "data": {
      "image/png": "[encoded data removed]",
      "text/plain": [
       "<Figure size 432x288 with 1 Axes>"
      ]
     },
     "metadata": {},
     "output_type": "display_data"
    }
   ],
   "source": [
    "# crime_rate_gt_10 = df_train[df_train['crime_rate']>=10]\n",
    "plt.hist(df_train[df_train['crime_rate']>15]['normalised_sales'])"
   ]
  },
  {
   "cell_type": "code",
   "execution_count": 30,
   "metadata": {},
   "outputs": [
    {
     "data": {
      "text/html": [
       "<div>\n",
       "<style scoped>\n",
       "    .dataframe tbody tr th:only-of-type {\n",
       "        vertical-align: middle;\n",
       "    }\n",
       "\n",
       "    .dataframe tbody tr th {\n",
       "        vertical-align: top;\n",
       "    }\n",
       "\n",
       "    .dataframe thead th {\n",
       "        text-align: right;\n",
       "    }\n",
       "</style>\n",
       "<table border=\"1\" class=\"dataframe\">\n",
       "  <thead>\n",
       "    <tr style=\"text-align: right;\">\n",
       "      <th></th>\n",
       "      <th>location_id</th>\n",
       "      <th>crime_rate</th>\n",
       "      <th>proportion_flats</th>\n",
       "      <th>proportion_nonretail</th>\n",
       "      <th>new_store</th>\n",
       "      <th>commercial_property</th>\n",
       "      <th>household_size</th>\n",
       "      <th>proportion_newbuilds</th>\n",
       "      <th>public_transport_dist</th>\n",
       "      <th>transport_availability</th>\n",
       "      <th>property_value</th>\n",
       "      <th>school_proximity</th>\n",
       "      <th>competitor_density</th>\n",
       "      <th>household_affluency</th>\n",
       "      <th>normalised_sales</th>\n",
       "      <th>county</th>\n",
       "    </tr>\n",
       "  </thead>\n",
       "  <tbody>\n",
       "    <tr>\n",
       "      <th>151</th>\n",
       "      <td>434</td>\n",
       "      <td>15.280086</td>\n",
       "      <td>0.0</td>\n",
       "      <td>18.1</td>\n",
       "      <td>no</td>\n",
       "      <td>14.05</td>\n",
       "      <td>0.863</td>\n",
       "      <td>0.0</td>\n",
       "      <td>1.5106</td>\n",
       "      <td>All transport options</td>\n",
       "      <td>666</td>\n",
       "      <td>NaN</td>\n",
       "      <td>131.42</td>\n",
       "      <td>3.3325</td>\n",
       "      <td>0.036108</td>\n",
       "      <td>c_72</td>\n",
       "    </tr>\n",
       "  </tbody>\n",
       "</table>\n",
       "</div>"
      ],
      "text/plain": [
       "     location_id  crime_rate  proportion_flats  proportion_nonretail  \\\n",
       "151          434   15.280086               0.0                  18.1   \n",
       "\n",
       "    new_store  commercial_property  household_size  proportion_newbuilds  \\\n",
       "151        no                14.05           0.863                   0.0   \n",
       "\n",
       "     public_transport_dist transport_availability  property_value  \\\n",
       "151                 1.5106  All transport options             666   \n",
       "\n",
       "     school_proximity  competitor_density  household_affluency  \\\n",
       "151               NaN              131.42               3.3325   \n",
       "\n",
       "     normalised_sales county  \n",
       "151          0.036108   c_72  "
      ]
     },
     "execution_count": 30,
     "metadata": {},
     "output_type": "execute_result"
    }
   ],
   "source": [
    "df_train[(df_train['crime_rate']>15)&(df_train['normalised_sales']>=0)]"
   ]
  },
  {
   "cell_type": "code",
   "execution_count": 31,
   "metadata": {},
   "outputs": [
    {
     "data": {
      "text/plain": [
       "'\\nhigh crime_rate results in less sales\\nonly 1 store having positive sales figure having crime_rate > 15. Sales is also less than the median of normalised sales i.e. 0.5.\\n'"
      ]
     },
     "execution_count": 31,
     "metadata": {},
     "output_type": "execute_result"
    }
   ],
   "source": [
    "'''\n",
    "high crime_rate results in less sales\n",
    "only 1 store having positive sales figure having crime_rate > 15. Sales is also less than the median of normalised sales i.e. 0.5.\n",
    "'''"
   ]
  },
  {
   "cell_type": "markdown",
   "metadata": {},
   "source": [
    "#### proportion_flats"
   ]
  },
  {
   "cell_type": "code",
   "execution_count": 32,
   "metadata": {},
   "outputs": [
    {
     "name": "stdout",
     "output_type": "stream",
     "text": [
      "0.0\n",
      "100.0\n"
     ]
    }
   ],
   "source": [
    "# Range of proportion_flats\n",
    "print(df_train['proportion_flats'].min())\n",
    "print(df_train['proportion_flats'].max())"
   ]
  },
  {
   "cell_type": "code",
   "execution_count": 33,
   "metadata": {},
   "outputs": [
    {
     "data": {
      "text/plain": [
       "(array([238.,   8.,  32.,   9.,   7.,   4.,   3.,   3.,  10.,   6.]),\n",
       " array([  0.,  10.,  20.,  30.,  40.,  50.,  60.,  70.,  80.,  90., 100.]),\n",
       " <a list of 10 Patch objects>)"
      ]
     },
     "execution_count": 33,
     "metadata": {},
     "output_type": "execute_result"
    },
    {
     "data": {
      "image/png": "[encoded data removed]",
      "text/plain": [
       "<Figure size 432x288 with 1 Axes>"
      ]
     },
     "metadata": {},
     "output_type": "display_data"
    }
   ],
   "source": [
    "# Histogram\n",
    "plt.hist(df_train['proportion_flats'])"
   ]
  },
  {
   "cell_type": "code",
   "execution_count": 34,
   "metadata": {},
   "outputs": [
    {
     "data": {
      "text/plain": [
       "<matplotlib.collections.PathCollection at 0x7fbf4dd6ceb8>"
      ]
     },
     "execution_count": 34,
     "metadata": {},
     "output_type": "execute_result"
    },
    {
     "data": {
      "image/png": "[encoded data removed]",
      "text/plain": [
       "<Figure size 432x288 with 1 Axes>"
      ]
     },
     "metadata": {},
     "output_type": "display_data"
    }
   ],
   "source": [
    "# Scatter plot for proportion_flats vs normalised_sales\n",
    "plt.scatter(df_train['proportion_flats'], df_train['normalised_sales'])"
   ]
  },
  {
   "cell_type": "code",
   "execution_count": 35,
   "metadata": {},
   "outputs": [
    {
     "data": {
      "text/plain": [
       "\"\\nCan't infer much from proportion_flats\\n\""
      ]
     },
     "execution_count": 35,
     "metadata": {},
     "output_type": "execute_result"
    }
   ],
   "source": [
    "'''\n",
    "Can't infer much from proportion_flats\n",
    "'''"
   ]
  },
  {
   "cell_type": "markdown",
   "metadata": {},
   "source": [
    "#### proportion_nonretail"
   ]
  },
  {
   "cell_type": "code",
   "execution_count": 36,
   "metadata": {},
   "outputs": [
    {
     "name": "stdout",
     "output_type": "stream",
     "text": [
      "0.74\n",
      "27.74\n"
     ]
    }
   ],
   "source": [
    "# Range of proportion_nonretail\n",
    "print(df_train['proportion_nonretail'].min())\n",
    "print(df_train['proportion_nonretail'].max())"
   ]
  },
  {
   "cell_type": "code",
   "execution_count": 37,
   "metadata": {},
   "outputs": [
    {
     "data": {
      "text/plain": [
       "(array([ 49.,  56.,  50.,  27.,  12.,   2., 104.,  10.,   0.,  10.]),\n",
       " array([ 0.74,  3.44,  6.14,  8.84, 11.54, 14.24, 16.94, 19.64, 22.34,\n",
       "        25.04, 27.74]),\n",
       " <a list of 10 Patch objects>)"
      ]
     },
     "execution_count": 37,
     "metadata": {},
     "output_type": "execute_result"
    },
    {
     "data": {
      "image/png": "[encoded data removed]",
      "text/plain": [
       "<Figure size 432x288 with 1 Axes>"
      ]
     },
     "metadata": {},
     "output_type": "display_data"
    }
   ],
   "source": [
    "# Histogram\n",
    "plt.hist(df_train['proportion_nonretail'])"
   ]
  },
  {
   "cell_type": "code",
   "execution_count": 38,
   "metadata": {},
   "outputs": [
    {
     "data": {
      "text/plain": [
       "<matplotlib.collections.PathCollection at 0x7fbf4dc52ac8>"
      ]
     },
     "execution_count": 38,
     "metadata": {},
     "output_type": "execute_result"
    },
    {
     "data": {
      "image/png": "[encoded data removed]",
      "text/plain": [
       "<Figure size 432x288 with 1 Axes>"
      ]
     },
     "metadata": {},
     "output_type": "display_data"
    }
   ],
   "source": [
    "# Scatter plot for proportion_nonretail vs normalised_sales\n",
    "plt.scatter(df_train['proportion_nonretail'], df_train['normalised_sales'])"
   ]
  },
  {
   "cell_type": "code",
   "execution_count": 39,
   "metadata": {},
   "outputs": [
    {
     "data": {
      "text/plain": [
       "(array([1., 0., 0., 2., 1., 4., 4., 3., 4., 1.]),\n",
       " array([-1.59904288, -1.44751895, -1.29599501, -1.14447107, -0.99294713,\n",
       "        -0.84142319, -0.68989926, -0.53837532, -0.38685138, -0.23532744,\n",
       "        -0.0838035 ]),\n",
       " <a list of 10 Patch objects>)"
      ]
     },
     "execution_count": 39,
     "metadata": {},
     "output_type": "execute_result"
    },
    {
     "data": {
      "image/png": "[encoded data removed]",
      "text/plain": [
       "<Figure size 432x288 with 1 Axes>"
      ]
     },
     "metadata": {},
     "output_type": "display_data"
    }
   ],
   "source": [
    "# proportion_nonretail_gt_20 = df_train[df_train['proportion_nonretail']>=20]\n",
    "plt.hist(df_train[df_train['proportion_nonretail']>20]['normalised_sales'])"
   ]
  },
  {
   "cell_type": "code",
   "execution_count": 40,
   "metadata": {},
   "outputs": [
    {
     "data": {
      "text/html": [
       "<div>\n",
       "<style scoped>\n",
       "    .dataframe tbody tr th:only-of-type {\n",
       "        vertical-align: middle;\n",
       "    }\n",
       "\n",
       "    .dataframe tbody tr th {\n",
       "        vertical-align: top;\n",
       "    }\n",
       "\n",
       "    .dataframe thead th {\n",
       "        text-align: right;\n",
       "    }\n",
       "</style>\n",
       "<table border=\"1\" class=\"dataframe\">\n",
       "  <thead>\n",
       "    <tr style=\"text-align: right;\">\n",
       "      <th></th>\n",
       "      <th>location_id</th>\n",
       "      <th>crime_rate</th>\n",
       "      <th>proportion_flats</th>\n",
       "      <th>proportion_nonretail</th>\n",
       "      <th>new_store</th>\n",
       "      <th>commercial_property</th>\n",
       "      <th>household_size</th>\n",
       "      <th>proportion_newbuilds</th>\n",
       "      <th>public_transport_dist</th>\n",
       "      <th>transport_availability</th>\n",
       "      <th>property_value</th>\n",
       "      <th>school_proximity</th>\n",
       "      <th>competitor_density</th>\n",
       "      <th>household_affluency</th>\n",
       "      <th>normalised_sales</th>\n",
       "      <th>county</th>\n",
       "    </tr>\n",
       "  </thead>\n",
       "  <tbody>\n",
       "  </tbody>\n",
       "</table>\n",
       "</div>"
      ],
      "text/plain": [
       "Empty DataFrame\n",
       "Columns: [location_id, crime_rate, proportion_flats, proportion_nonretail, new_store, commercial_property, household_size, proportion_newbuilds, public_transport_dist, transport_availability, property_value, school_proximity, competitor_density, household_affluency, normalised_sales, county]\n",
       "Index: []"
      ]
     },
     "execution_count": 40,
     "metadata": {},
     "output_type": "execute_result"
    }
   ],
   "source": [
    "df_train[(df_train['proportion_nonretail']>20)&(df_train['normalised_sales']>=0)]"
   ]
  },
  {
   "cell_type": "code",
   "execution_count": 41,
   "metadata": {},
   "outputs": [
    {
     "data": {
      "text/plain": [
       "'\\nHigh proportion_nonretail results in low sales\\nproportion_nonretail >20 -> sales in negative\\n'"
      ]
     },
     "execution_count": 41,
     "metadata": {},
     "output_type": "execute_result"
    }
   ],
   "source": [
    "'''\n",
    "High proportion_nonretail results in low sales\n",
    "proportion_nonretail >20 -> sales in negative\n",
    "'''"
   ]
  },
  {
   "cell_type": "markdown",
   "metadata": {},
   "source": [
    "#### commercial_property"
   ]
  },
  {
   "cell_type": "code",
   "execution_count": 42,
   "metadata": {},
   "outputs": [
    {
     "name": "stdout",
     "output_type": "stream",
     "text": [
      "1.7500000000000016\n",
      "1009.0\n"
     ]
    }
   ],
   "source": [
    "# Range of commercial_property\n",
    "print(df_train['commercial_property'].min())\n",
    "print(df_train['commercial_property'].max())"
   ]
  },
  {
   "cell_type": "code",
   "execution_count": 43,
   "metadata": {},
   "outputs": [
    {
     "name": "stderr",
     "output_type": "stream",
     "text": [
      "/home/ec2-user/anaconda3/envs/python3/lib/python3.6/site-packages/numpy/lib/histograms.py:839: RuntimeWarning: invalid value encountered in greater_equal\n",
      "  keep = (tmp_a >= first_edge)\n",
      "/home/ec2-user/anaconda3/envs/python3/lib/python3.6/site-packages/numpy/lib/histograms.py:840: RuntimeWarning: invalid value encountered in less_equal\n",
      "  keep &= (tmp_a <= last_edge)\n"
     ]
    },
    {
     "data": {
      "text/plain": [
       "(array([288.,   1.,   0.,   0.,   0.,   0.,   0.,   1.,   0.,   1.]),\n",
       " array([   1.75 ,  102.475,  203.2  ,  303.925,  404.65 ,  505.375,\n",
       "         606.1  ,  706.825,  807.55 ,  908.275, 1009.   ]),\n",
       " <a list of 10 Patch objects>)"
      ]
     },
     "execution_count": 43,
     "metadata": {},
     "output_type": "execute_result"
    },
    {
     "data": {
      "image/png": "[encoded data removed]",
      "text/plain": [
       "<Figure size 432x288 with 1 Axes>"
      ]
     },
     "metadata": {},
     "output_type": "display_data"
    }
   ],
   "source": [
    "# Histogram\n",
    "plt.hist(df_train['commercial_property'])"
   ]
  },
  {
   "cell_type": "code",
   "execution_count": 44,
   "metadata": {},
   "outputs": [
    {
     "data": {
      "text/plain": [
       "<matplotlib.collections.PathCollection at 0x7fbf4db6b780>"
      ]
     },
     "execution_count": 44,
     "metadata": {},
     "output_type": "execute_result"
    },
    {
     "data": {
      "image/png": "[encoded data removed]",
      "text/plain": [
       "<Figure size 432x288 with 1 Axes>"
      ]
     },
     "metadata": {},
     "output_type": "display_data"
    }
   ],
   "source": [
    "# Scatter plot for commercial_property vs normalised_sales\n",
    "plt.scatter(df_train['commercial_property'], df_train['normalised_sales'])"
   ]
  },
  {
   "cell_type": "code",
   "execution_count": 45,
   "metadata": {},
   "outputs": [
    {
     "data": {
      "text/plain": [
       "\"\\nCan't infer much from commercial_property\\n\""
      ]
     },
     "execution_count": 45,
     "metadata": {},
     "output_type": "execute_result"
    }
   ],
   "source": [
    "'''\n",
    "Can't infer much from commercial_property\n",
    "'''"
   ]
  },
  {
   "cell_type": "markdown",
   "metadata": {},
   "source": [
    "#### household_size"
   ]
  },
  {
   "cell_type": "code",
   "execution_count": 46,
   "metadata": {},
   "outputs": [
    {
     "name": "stdout",
     "output_type": "stream",
     "text": [
      "0.5610000000000004\n",
      "5.725\n"
     ]
    }
   ],
   "source": [
    "# Range of household_size\n",
    "print(df_train['household_size'].min())\n",
    "print(df_train['household_size'].max())"
   ]
  },
  {
   "cell_type": "code",
   "execution_count": 47,
   "metadata": {},
   "outputs": [
    {
     "data": {
      "text/plain": [
       "(array([  2.,   3.,  10.,  29., 103., 104.,  42.,  15.,   7.,   5.]),\n",
       " array([0.561 , 1.0774, 1.5938, 2.1102, 2.6266, 3.143 , 3.6594, 4.1758,\n",
       "        4.6922, 5.2086, 5.725 ]),\n",
       " <a list of 10 Patch objects>)"
      ]
     },
     "execution_count": 47,
     "metadata": {},
     "output_type": "execute_result"
    },
    {
     "data": {
      "image/png": "[encoded data removed]",
      "text/plain": [
       "<Figure size 432x288 with 1 Axes>"
      ]
     },
     "metadata": {},
     "output_type": "display_data"
    }
   ],
   "source": [
    "# Histogram\n",
    "plt.hist(df_train['household_size'])"
   ]
  },
  {
   "cell_type": "code",
   "execution_count": 48,
   "metadata": {},
   "outputs": [
    {
     "data": {
      "text/plain": [
       "<matplotlib.collections.PathCollection at 0x7fbf4daae780>"
      ]
     },
     "execution_count": 48,
     "metadata": {},
     "output_type": "execute_result"
    },
    {
     "data": {
      "image/png": "[encoded data removed]",
      "text/plain": [
       "<Figure size 432x288 with 1 Axes>"
      ]
     },
     "metadata": {},
     "output_type": "display_data"
    }
   ],
   "source": [
    "# Scatter plot for household_size vs normalised_sales\n",
    "plt.scatter(df_train['household_size'], df_train['normalised_sales'])"
   ]
  },
  {
   "cell_type": "code",
   "execution_count": 49,
   "metadata": {},
   "outputs": [
    {
     "data": {
      "text/plain": [
       "(array([ 1.,  1.,  0.,  2.,  8.,  8.,  3.,  3.,  2., 10.]),\n",
       " array([-0.54164562, -0.19063333,  0.16037896,  0.51139124,  0.86240353,\n",
       "         1.21341582,  1.56442811,  1.9154404 ,  2.26645268,  2.61746497,\n",
       "         2.96847726]),\n",
       " <a list of 10 Patch objects>)"
      ]
     },
     "execution_count": 49,
     "metadata": {},
     "output_type": "execute_result"
    },
    {
     "data": {
      "image/png": "[encoded data removed]",
      "text/plain": [
       "<Figure size 432x288 with 1 Axes>"
      ]
     },
     "metadata": {},
     "output_type": "display_data"
    }
   ],
   "source": [
    "# household_size >= 4\n",
    "plt.hist(df_train[df_train['household_size']>=4]['normalised_sales'])"
   ]
  },
  {
   "cell_type": "code",
   "execution_count": 50,
   "metadata": {},
   "outputs": [
    {
     "data": {
      "text/html": [
       "<div>\n",
       "<style scoped>\n",
       "    .dataframe tbody tr th:only-of-type {\n",
       "        vertical-align: middle;\n",
       "    }\n",
       "\n",
       "    .dataframe tbody tr th {\n",
       "        vertical-align: top;\n",
       "    }\n",
       "\n",
       "    .dataframe thead th {\n",
       "        text-align: right;\n",
       "    }\n",
       "</style>\n",
       "<table border=\"1\" class=\"dataframe\">\n",
       "  <thead>\n",
       "    <tr style=\"text-align: right;\">\n",
       "      <th></th>\n",
       "      <th>location_id</th>\n",
       "      <th>crime_rate</th>\n",
       "      <th>proportion_flats</th>\n",
       "      <th>proportion_nonretail</th>\n",
       "      <th>new_store</th>\n",
       "      <th>commercial_property</th>\n",
       "      <th>household_size</th>\n",
       "      <th>proportion_newbuilds</th>\n",
       "      <th>public_transport_dist</th>\n",
       "      <th>transport_availability</th>\n",
       "      <th>property_value</th>\n",
       "      <th>school_proximity</th>\n",
       "      <th>competitor_density</th>\n",
       "      <th>household_affluency</th>\n",
       "      <th>normalised_sales</th>\n",
       "      <th>county</th>\n",
       "    </tr>\n",
       "  </thead>\n",
       "  <tbody>\n",
       "    <tr>\n",
       "      <th>212</th>\n",
       "      <td>328</td>\n",
       "      <td>9.320342</td>\n",
       "      <td>0.0</td>\n",
       "      <td>18.1</td>\n",
       "      <td>no</td>\n",
       "      <td>18.15</td>\n",
       "      <td>4.393</td>\n",
       "      <td>0.7</td>\n",
       "      <td>2.4527</td>\n",
       "      <td>All transport options</td>\n",
       "      <td>666</td>\n",
       "      <td>20.2</td>\n",
       "      <td>375.87</td>\n",
       "      <td>4.185</td>\n",
       "      <td>-0.541646</td>\n",
       "      <td>c_60</td>\n",
       "    </tr>\n",
       "  </tbody>\n",
       "</table>\n",
       "</div>"
      ],
      "text/plain": [
       "     location_id  crime_rate  proportion_flats  proportion_nonretail  \\\n",
       "212          328    9.320342               0.0                  18.1   \n",
       "\n",
       "    new_store  commercial_property  household_size  proportion_newbuilds  \\\n",
       "212        no                18.15           4.393                   0.7   \n",
       "\n",
       "     public_transport_dist transport_availability  property_value  \\\n",
       "212                 2.4527  All transport options             666   \n",
       "\n",
       "     school_proximity  competitor_density  household_affluency  \\\n",
       "212              20.2              375.87                4.185   \n",
       "\n",
       "     normalised_sales county  \n",
       "212         -0.541646   c_60  "
      ]
     },
     "execution_count": 50,
     "metadata": {},
     "output_type": "execute_result"
    }
   ],
   "source": [
    "df_train[(df_train['household_size']>=4)&(df_train['normalised_sales']<0)]"
   ]
  },
  {
   "cell_type": "code",
   "execution_count": 51,
   "metadata": {},
   "outputs": [
    {
     "data": {
      "text/plain": [
       "'\\nMore household_size results in more sales\\nhousehold_size >=4 -> sales in positive\\n'"
      ]
     },
     "execution_count": 51,
     "metadata": {},
     "output_type": "execute_result"
    }
   ],
   "source": [
    "'''\n",
    "More household_size results in more sales\n",
    "household_size >=4 -> sales in positive\n",
    "'''"
   ]
  },
  {
   "cell_type": "markdown",
   "metadata": {},
   "source": [
    "#### proportion_newbuilds"
   ]
  },
  {
   "cell_type": "code",
   "execution_count": 52,
   "metadata": {},
   "outputs": [
    {
     "name": "stdout",
     "output_type": "stream",
     "text": [
      "0.0\n",
      "94.0\n"
     ]
    }
   ],
   "source": [
    "# Range of proportion_newbuilds\n",
    "print(df_train['proportion_newbuilds'].min())\n",
    "print(df_train['proportion_newbuilds'].max())"
   ]
  },
  {
   "cell_type": "code",
   "execution_count": 53,
   "metadata": {},
   "outputs": [
    {
     "data": {
      "text/plain": [
       "(array([102.,  42.,  29.,  24.,  23.,  24.,  22.,  24.,  18.,  12.]),\n",
       " array([ 0. ,  9.4, 18.8, 28.2, 37.6, 47. , 56.4, 65.8, 75.2, 84.6, 94. ]),\n",
       " <a list of 10 Patch objects>)"
      ]
     },
     "execution_count": 53,
     "metadata": {},
     "output_type": "execute_result"
    },
    {
     "data": {
      "image/png": "[encoded data removed]",
      "text/plain": [
       "<Figure size 432x288 with 1 Axes>"
      ]
     },
     "metadata": {},
     "output_type": "display_data"
    }
   ],
   "source": [
    "# Histogram\n",
    "plt.hist(df_train['proportion_newbuilds'])"
   ]
  },
  {
   "cell_type": "code",
   "execution_count": 54,
   "metadata": {},
   "outputs": [
    {
     "data": {
      "text/plain": [
       "<matplotlib.collections.PathCollection at 0x7fbf4d9694e0>"
      ]
     },
     "execution_count": 54,
     "metadata": {},
     "output_type": "execute_result"
    },
    {
     "data": {
      "image/png": "[encoded data removed]",
      "text/plain": [
       "<Figure size 432x288 with 1 Axes>"
      ]
     },
     "metadata": {},
     "output_type": "display_data"
    }
   ],
   "source": [
    "# Scatter plot for proportion_newbuilds vs normalised_sales\n",
    "plt.scatter(df_train['proportion_newbuilds'], df_train['normalised_sales'])"
   ]
  },
  {
   "cell_type": "code",
   "execution_count": 55,
   "metadata": {},
   "outputs": [
    {
     "data": {
      "text/plain": [
       "(array([ 2., 18.,  5.,  4.,  4.,  4.,  0.,  1.,  0.,  1.]),\n",
       " array([-0.4544376 , -0.11214611,  0.23014537,  0.57243686,  0.91472835,\n",
       "         1.25701983,  1.59931132,  1.9416028 ,  2.28389429,  2.62618577,\n",
       "         2.96847726]),\n",
       " <a list of 10 Patch objects>)"
      ]
     },
     "execution_count": 55,
     "metadata": {},
     "output_type": "execute_result"
    },
    {
     "data": {
      "image/png": "[encoded data removed]",
      "text/plain": [
       "<Figure size 432x288 with 1 Axes>"
      ]
     },
     "metadata": {},
     "output_type": "display_data"
    }
   ],
   "source": [
    "# proportion_newbuilds >= 70\n",
    "plt.hist(df_train[df_train['proportion_newbuilds']>=70]['normalised_sales'])"
   ]
  },
  {
   "cell_type": "code",
   "execution_count": 56,
   "metadata": {},
   "outputs": [
    {
     "data": {
      "text/html": [
       "<div>\n",
       "<style scoped>\n",
       "    .dataframe tbody tr th:only-of-type {\n",
       "        vertical-align: middle;\n",
       "    }\n",
       "\n",
       "    .dataframe tbody tr th {\n",
       "        vertical-align: top;\n",
       "    }\n",
       "\n",
       "    .dataframe thead th {\n",
       "        text-align: right;\n",
       "    }\n",
       "</style>\n",
       "<table border=\"1\" class=\"dataframe\">\n",
       "  <thead>\n",
       "    <tr style=\"text-align: right;\">\n",
       "      <th></th>\n",
       "      <th>location_id</th>\n",
       "      <th>crime_rate</th>\n",
       "      <th>proportion_flats</th>\n",
       "      <th>proportion_nonretail</th>\n",
       "      <th>new_store</th>\n",
       "      <th>commercial_property</th>\n",
       "      <th>household_size</th>\n",
       "      <th>proportion_newbuilds</th>\n",
       "      <th>public_transport_dist</th>\n",
       "      <th>transport_availability</th>\n",
       "      <th>property_value</th>\n",
       "      <th>school_proximity</th>\n",
       "      <th>competitor_density</th>\n",
       "      <th>household_affluency</th>\n",
       "      <th>normalised_sales</th>\n",
       "      <th>county</th>\n",
       "    </tr>\n",
       "  </thead>\n",
       "  <tbody>\n",
       "    <tr>\n",
       "      <th>130</th>\n",
       "      <td>356</td>\n",
       "      <td>0.081857</td>\n",
       "      <td>60.0</td>\n",
       "      <td>1.69</td>\n",
       "      <td>no</td>\n",
       "      <td>3.05</td>\n",
       "      <td>2.884</td>\n",
       "      <td>81.5</td>\n",
       "      <td>10.7103</td>\n",
       "      <td>Few transport options</td>\n",
       "      <td>411</td>\n",
       "      <td>18.3</td>\n",
       "      <td>392.33</td>\n",
       "      <td>1.9475</td>\n",
       "      <td>-0.454438</td>\n",
       "      <td>c_57</td>\n",
       "    </tr>\n",
       "    <tr>\n",
       "      <th>134</th>\n",
       "      <td>231</td>\n",
       "      <td>0.074772</td>\n",
       "      <td>0.0</td>\n",
       "      <td>3.24</td>\n",
       "      <td>no</td>\n",
       "      <td>NaN</td>\n",
       "      <td>2.868</td>\n",
       "      <td>74.2</td>\n",
       "      <td>5.2146</td>\n",
       "      <td>Few transport options</td>\n",
       "      <td>430</td>\n",
       "      <td>NaN</td>\n",
       "      <td>382.44</td>\n",
       "      <td>2.4925</td>\n",
       "      <td>-0.378131</td>\n",
       "      <td>c_61</td>\n",
       "    </tr>\n",
       "    <tr>\n",
       "      <th>274</th>\n",
       "      <td>309</td>\n",
       "      <td>0.065416</td>\n",
       "      <td>12.5</td>\n",
       "      <td>6.07</td>\n",
       "      <td>no</td>\n",
       "      <td>2.95</td>\n",
       "      <td>2.878</td>\n",
       "      <td>78.6</td>\n",
       "      <td>6.4980</td>\n",
       "      <td>Few transport options</td>\n",
       "      <td>345</td>\n",
       "      <td>NaN</td>\n",
       "      <td>396.21</td>\n",
       "      <td>2.0250</td>\n",
       "      <td>-0.083804</td>\n",
       "      <td>c_43</td>\n",
       "    </tr>\n",
       "    <tr>\n",
       "      <th>310</th>\n",
       "      <td>289</td>\n",
       "      <td>0.154155</td>\n",
       "      <td>0.0</td>\n",
       "      <td>10.59</td>\n",
       "      <td>no</td>\n",
       "      <td>6.95</td>\n",
       "      <td>2.891</td>\n",
       "      <td>77.7</td>\n",
       "      <td>3.9454</td>\n",
       "      <td>Few transport options</td>\n",
       "      <td>277</td>\n",
       "      <td>18.6</td>\n",
       "      <td>396.90</td>\n",
       "      <td>2.7175</td>\n",
       "      <td>-0.018397</td>\n",
       "      <td>c_46</td>\n",
       "    </tr>\n",
       "  </tbody>\n",
       "</table>\n",
       "</div>"
      ],
      "text/plain": [
       "     location_id  crime_rate  proportion_flats  proportion_nonretail  \\\n",
       "130          356    0.081857              60.0                  1.69   \n",
       "134          231    0.074772               0.0                  3.24   \n",
       "274          309    0.065416              12.5                  6.07   \n",
       "310          289    0.154155               0.0                 10.59   \n",
       "\n",
       "    new_store  commercial_property  household_size  proportion_newbuilds  \\\n",
       "130        no                 3.05           2.884                  81.5   \n",
       "134        no                  NaN           2.868                  74.2   \n",
       "274        no                 2.95           2.878                  78.6   \n",
       "310        no                 6.95           2.891                  77.7   \n",
       "\n",
       "     public_transport_dist transport_availability  property_value  \\\n",
       "130                10.7103  Few transport options             411   \n",
       "134                 5.2146  Few transport options             430   \n",
       "274                 6.4980  Few transport options             345   \n",
       "310                 3.9454  Few transport options             277   \n",
       "\n",
       "     school_proximity  competitor_density  household_affluency  \\\n",
       "130              18.3              392.33               1.9475   \n",
       "134               NaN              382.44               2.4925   \n",
       "274               NaN              396.21               2.0250   \n",
       "310              18.6              396.90               2.7175   \n",
       "\n",
       "     normalised_sales county  \n",
       "130         -0.454438   c_57  \n",
       "134         -0.378131   c_61  \n",
       "274         -0.083804   c_43  \n",
       "310         -0.018397   c_46  "
      ]
     },
     "execution_count": 56,
     "metadata": {},
     "output_type": "execute_result"
    }
   ],
   "source": [
    "df_train[(df_train['proportion_newbuilds']>=70)&(df_train['normalised_sales']<0)]"
   ]
  },
  {
   "cell_type": "code",
   "execution_count": 57,
   "metadata": {},
   "outputs": [
    {
     "data": {
      "text/plain": [
       "'\\nMore proportion_newbuilds results in more sales\\nproportion_newbuilds >=70 -> sales in positive\\n'"
      ]
     },
     "execution_count": 57,
     "metadata": {},
     "output_type": "execute_result"
    }
   ],
   "source": [
    "'''\n",
    "More proportion_newbuilds results in more sales\n",
    "proportion_newbuilds >=70 -> sales in positive\n",
    "'''"
   ]
  },
  {
   "cell_type": "markdown",
   "metadata": {},
   "source": [
    "#### public_transport_dist"
   ]
  },
  {
   "cell_type": "code",
   "execution_count": 58,
   "metadata": {},
   "outputs": [
    {
     "name": "stdout",
     "output_type": "stream",
     "text": [
      "1.137\n",
      "10.7103\n"
     ]
    }
   ],
   "source": [
    "# Range of public_transport_dist\n",
    "print(df_train['public_transport_dist'].min())\n",
    "print(df_train['public_transport_dist'].max())"
   ]
  },
  {
   "cell_type": "code",
   "execution_count": 59,
   "metadata": {},
   "outputs": [
    {
     "data": {
      "text/plain": [
       "(array([74., 84., 46., 32., 31., 26., 14.,  8.,  4.,  1.]),\n",
       " array([ 1.137  ,  2.09433,  3.05166,  4.00899,  4.96632,  5.92365,\n",
       "         6.88098,  7.83831,  8.79564,  9.75297, 10.7103 ]),\n",
       " <a list of 10 Patch objects>)"
      ]
     },
     "execution_count": 59,
     "metadata": {},
     "output_type": "execute_result"
    },
    {
     "data": {
      "image/png": "[encoded data removed]",
      "text/plain": [
       "<Figure size 432x288 with 1 Axes>"
      ]
     },
     "metadata": {},
     "output_type": "display_data"
    }
   ],
   "source": [
    "# Histogram\n",
    "plt.hist(df_train['public_transport_dist'])"
   ]
  },
  {
   "cell_type": "code",
   "execution_count": 60,
   "metadata": {},
   "outputs": [
    {
     "data": {
      "text/plain": [
       "<matplotlib.collections.PathCollection at 0x7fbf4d807ba8>"
      ]
     },
     "execution_count": 60,
     "metadata": {},
     "output_type": "execute_result"
    },
    {
     "data": {
      "image/png": "[encoded data removed]",
      "text/plain": [
       "<Figure size 432x288 with 1 Axes>"
      ]
     },
     "metadata": {},
     "output_type": "display_data"
    }
   ],
   "source": [
    "# Scatter plot for public_transport_dist vs normalised_sales\n",
    "plt.scatter(df_train['public_transport_dist'], df_train['normalised_sales'])"
   ]
  },
  {
   "cell_type": "code",
   "execution_count": 61,
   "metadata": {},
   "outputs": [
    {
     "data": {
      "text/plain": [
       "(array([12., 24., 16.,  5.,  3.,  2.,  0.,  1.,  0.,  4.]),\n",
       " array([-1.93697397, -1.44642885, -0.95588372, -0.4653386 ,  0.02520652,\n",
       "         0.51575165,  1.00629677,  1.49684189,  1.98738701,  2.47793214,\n",
       "         2.96847726]),\n",
       " <a list of 10 Patch objects>)"
      ]
     },
     "execution_count": 61,
     "metadata": {},
     "output_type": "execute_result"
    },
    {
     "data": {
      "image/png": "[encoded data removed]",
      "text/plain": [
       "<Figure size 432x288 with 1 Axes>"
      ]
     },
     "metadata": {},
     "output_type": "display_data"
    }
   ],
   "source": [
    "# public_transport_dist <2\n",
    "plt.hist(df_train[df_train['public_transport_dist']<2]['normalised_sales'])"
   ]
  },
  {
   "cell_type": "code",
   "execution_count": 62,
   "metadata": {},
   "outputs": [
    {
     "name": "stdout",
     "output_type": "stream",
     "text": [
      "11\n",
      "56\n"
     ]
    }
   ],
   "source": [
    "print(df_train[(df_train['public_transport_dist']<2)&(df_train['normalised_sales']>0)].shape[0])\n",
    "print(df_train[(df_train['public_transport_dist']<2)&(df_train['normalised_sales']<0)].shape[0])"
   ]
  },
  {
   "cell_type": "code",
   "execution_count": 63,
   "metadata": {},
   "outputs": [
    {
     "data": {
      "text/plain": [
       "'\\nMajority of low sales are due to poor index of public_transport_dist\\npublic_transport_dist <2 -> sales in negative\\n'"
      ]
     },
     "execution_count": 63,
     "metadata": {},
     "output_type": "execute_result"
    }
   ],
   "source": [
    "'''\n",
    "Majority of low sales are due to poor index of public_transport_dist\n",
    "public_transport_dist <2 -> sales in negative\n",
    "'''"
   ]
  },
  {
   "cell_type": "markdown",
   "metadata": {},
   "source": [
    "#### property_value"
   ]
  },
  {
   "cell_type": "code",
   "execution_count": 64,
   "metadata": {},
   "outputs": [
    {
     "name": "stdout",
     "output_type": "stream",
     "text": [
      "188\n",
      "711\n"
     ]
    }
   ],
   "source": [
    "# Range of property_value\n",
    "print(df_train['property_value'].min())\n",
    "print(df_train['property_value'].max())"
   ]
  },
  {
   "cell_type": "code",
   "execution_count": 65,
   "metadata": {},
   "outputs": [
    {
     "data": {
      "text/plain": [
       "(array([40., 57., 68., 16., 50.,  1.,  0.,  0.,  0., 88.]),\n",
       " array([188. , 240.3, 292.6, 344.9, 397.2, 449.5, 501.8, 554.1, 606.4,\n",
       "        658.7, 711. ]),\n",
       " <a list of 10 Patch objects>)"
      ]
     },
     "execution_count": 65,
     "metadata": {},
     "output_type": "execute_result"
    },
    {
     "data": {
      "image/png": "[encoded data removed]",
      "text/plain": [
       "<Figure size 432x288 with 1 Axes>"
      ]
     },
     "metadata": {},
     "output_type": "display_data"
    }
   ],
   "source": [
    "# Histogram\n",
    "plt.hist(df_train['property_value'])"
   ]
  },
  {
   "cell_type": "code",
   "execution_count": 66,
   "metadata": {},
   "outputs": [
    {
     "data": {
      "text/plain": [
       "<matplotlib.collections.PathCollection at 0x7fbf4d6e5ba8>"
      ]
     },
     "execution_count": 66,
     "metadata": {},
     "output_type": "execute_result"
    },
    {
     "data": {
      "image/png": "[encoded data removed]",
      "text/plain": [
       "<Figure size 432x288 with 1 Axes>"
      ]
     },
     "metadata": {},
     "output_type": "display_data"
    }
   ],
   "source": [
    "# Scatter plot for property_value vs normalised_sales\n",
    "plt.scatter(df_train['property_value'], df_train['normalised_sales'])"
   ]
  },
  {
   "cell_type": "code",
   "execution_count": 67,
   "metadata": {},
   "outputs": [
    {
     "data": {
      "text/plain": [
       "(array([12., 26., 18., 22.,  5.,  2.,  0.,  0.,  0.,  3.]),\n",
       " array([-1.93697397, -1.44642885, -0.95588372, -0.4653386 ,  0.02520652,\n",
       "         0.51575165,  1.00629677,  1.49684189,  1.98738701,  2.47793214,\n",
       "         2.96847726]),\n",
       " <a list of 10 Patch objects>)"
      ]
     },
     "execution_count": 67,
     "metadata": {},
     "output_type": "execute_result"
    },
    {
     "data": {
      "image/png": "[encoded data removed]",
      "text/plain": [
       "<Figure size 432x288 with 1 Axes>"
      ]
     },
     "metadata": {},
     "output_type": "display_data"
    }
   ],
   "source": [
    "# property_value >500\n",
    "plt.hist(df_train[df_train['property_value']>600]['normalised_sales'])"
   ]
  },
  {
   "cell_type": "code",
   "execution_count": 68,
   "metadata": {},
   "outputs": [
    {
     "name": "stdout",
     "output_type": "stream",
     "text": [
      "11\n",
      "77\n"
     ]
    }
   ],
   "source": [
    "print(df_train[(df_train['property_value']>650)&(df_train['normalised_sales']>0)].shape[0])\n",
    "print(df_train[(df_train['property_value']>650)&(df_train['normalised_sales']<0)].shape[0])"
   ]
  },
  {
   "cell_type": "code",
   "execution_count": 69,
   "metadata": {},
   "outputs": [
    {
     "data": {
      "text/plain": [
       "'\\nHigher property_value results in low sales\\nproperty_value >650 -> sales in negative\\n'"
      ]
     },
     "execution_count": 69,
     "metadata": {},
     "output_type": "execute_result"
    }
   ],
   "source": [
    "'''\n",
    "Higher property_value results in low sales\n",
    "property_value >650 -> sales in negative\n",
    "'''"
   ]
  },
  {
   "cell_type": "markdown",
   "metadata": {},
   "source": [
    "#### school_proximity"
   ]
  },
  {
   "cell_type": "code",
   "execution_count": 70,
   "metadata": {},
   "outputs": [
    {
     "name": "stdout",
     "output_type": "stream",
     "text": [
      "13.0\n",
      "21.2\n"
     ]
    }
   ],
   "source": [
    "# Range of school_proximity\n",
    "print(df_train['school_proximity'].min())\n",
    "print(df_train['school_proximity'].max())"
   ]
  },
  {
   "cell_type": "code",
   "execution_count": 71,
   "metadata": {},
   "outputs": [
    {
     "name": "stderr",
     "output_type": "stream",
     "text": [
      "/home/ec2-user/anaconda3/envs/python3/lib/python3.6/site-packages/numpy/lib/histograms.py:839: RuntimeWarning: invalid value encountered in greater_equal\n",
      "  keep = (tmp_a >= first_edge)\n",
      "/home/ec2-user/anaconda3/envs/python3/lib/python3.6/site-packages/numpy/lib/histograms.py:840: RuntimeWarning: invalid value encountered in less_equal\n",
      "  keep &= (tmp_a <= last_edge)\n"
     ]
    },
    {
     "data": {
      "text/plain": [
       "(array([ 7.,  0., 25., 10., 16., 29., 33., 21., 87., 29.]),\n",
       " array([13.  , 13.82, 14.64, 15.46, 16.28, 17.1 , 17.92, 18.74, 19.56,\n",
       "        20.38, 21.2 ]),\n",
       " <a list of 10 Patch objects>)"
      ]
     },
     "execution_count": 71,
     "metadata": {},
     "output_type": "execute_result"
    },
    {
     "data": {
      "image/png": "[encoded data removed]",
      "text/plain": [
       "<Figure size 432x288 with 1 Axes>"
      ]
     },
     "metadata": {},
     "output_type": "display_data"
    }
   ],
   "source": [
    "# Histogram\n",
    "plt.hist(df_train['school_proximity'])"
   ]
  },
  {
   "cell_type": "code",
   "execution_count": 72,
   "metadata": {},
   "outputs": [
    {
     "data": {
      "text/plain": [
       "<matplotlib.collections.PathCollection at 0x7fbf4d595a20>"
      ]
     },
     "execution_count": 72,
     "metadata": {},
     "output_type": "execute_result"
    },
    {
     "data": {
      "image/png": "[encoded data removed]",
      "text/plain": [
       "<Figure size 432x288 with 1 Axes>"
      ]
     },
     "metadata": {},
     "output_type": "display_data"
    }
   ],
   "source": [
    "# Scatter plot for school_proximity vs normalised_sales\n",
    "plt.scatter(df_train['school_proximity'], df_train['normalised_sales'])"
   ]
  },
  {
   "cell_type": "code",
   "execution_count": 73,
   "metadata": {},
   "outputs": [
    {
     "data": {
      "text/plain": [
       "(array([12., 24., 16.,  5.,  3.,  2.,  0.,  1.,  0.,  4.]),\n",
       " array([-1.93697397, -1.44642885, -0.95588372, -0.4653386 ,  0.02520652,\n",
       "         0.51575165,  1.00629677,  1.49684189,  1.98738701,  2.47793214,\n",
       "         2.96847726]),\n",
       " <a list of 10 Patch objects>)"
      ]
     },
     "execution_count": 73,
     "metadata": {},
     "output_type": "execute_result"
    },
    {
     "data": {
      "image/png": "[encoded data removed]",
      "text/plain": [
       "<Figure size 432x288 with 1 Axes>"
      ]
     },
     "metadata": {},
     "output_type": "display_data"
    }
   ],
   "source": [
    "# public_transport_dist <2\n",
    "plt.hist(df_train[df_train['public_transport_dist']<2]['normalised_sales'])"
   ]
  },
  {
   "cell_type": "code",
   "execution_count": 74,
   "metadata": {},
   "outputs": [
    {
     "name": "stdout",
     "output_type": "stream",
     "text": [
      "7\n",
      "0\n"
     ]
    }
   ],
   "source": [
    "print(df_train[(df_train['school_proximity']<14)&(df_train['normalised_sales']>0)].shape[0])\n",
    "print(df_train[(df_train['school_proximity']<14)&(df_train['normalised_sales']<0)].shape[0])"
   ]
  },
  {
   "cell_type": "code",
   "execution_count": 75,
   "metadata": {},
   "outputs": [
    {
     "data": {
      "text/html": [
       "<div>\n",
       "<style scoped>\n",
       "    .dataframe tbody tr th:only-of-type {\n",
       "        vertical-align: middle;\n",
       "    }\n",
       "\n",
       "    .dataframe tbody tr th {\n",
       "        vertical-align: top;\n",
       "    }\n",
       "\n",
       "    .dataframe thead th {\n",
       "        text-align: right;\n",
       "    }\n",
       "</style>\n",
       "<table border=\"1\" class=\"dataframe\">\n",
       "  <thead>\n",
       "    <tr style=\"text-align: right;\">\n",
       "      <th></th>\n",
       "      <th>location_id</th>\n",
       "      <th>crime_rate</th>\n",
       "      <th>proportion_flats</th>\n",
       "      <th>proportion_nonretail</th>\n",
       "      <th>new_store</th>\n",
       "      <th>commercial_property</th>\n",
       "      <th>household_size</th>\n",
       "      <th>proportion_newbuilds</th>\n",
       "      <th>public_transport_dist</th>\n",
       "      <th>transport_availability</th>\n",
       "      <th>property_value</th>\n",
       "      <th>school_proximity</th>\n",
       "      <th>competitor_density</th>\n",
       "      <th>household_affluency</th>\n",
       "      <th>normalised_sales</th>\n",
       "      <th>county</th>\n",
       "    </tr>\n",
       "  </thead>\n",
       "  <tbody>\n",
       "    <tr>\n",
       "      <th>1</th>\n",
       "      <td>504</td>\n",
       "      <td>0.603556</td>\n",
       "      <td>20.0</td>\n",
       "      <td>3.97</td>\n",
       "      <td>no</td>\n",
       "      <td>14.85</td>\n",
       "      <td>4.520</td>\n",
       "      <td>10.6</td>\n",
       "      <td>2.1398</td>\n",
       "      <td>Average transport options</td>\n",
       "      <td>264</td>\n",
       "      <td>13.0</td>\n",
       "      <td>388.37</td>\n",
       "      <td>1.8150</td>\n",
       "      <td>2.216308</td>\n",
       "      <td>c_80</td>\n",
       "    </tr>\n",
       "    <tr>\n",
       "      <th>167</th>\n",
       "      <td>156</td>\n",
       "      <td>0.610765</td>\n",
       "      <td>20.0</td>\n",
       "      <td>3.97</td>\n",
       "      <td>no</td>\n",
       "      <td>11.25</td>\n",
       "      <td>4.470</td>\n",
       "      <td>47.4</td>\n",
       "      <td>2.8720</td>\n",
       "      <td>Average transport options</td>\n",
       "      <td>264</td>\n",
       "      <td>13.0</td>\n",
       "      <td>390.30</td>\n",
       "      <td>0.7900</td>\n",
       "      <td>2.259912</td>\n",
       "      <td>c_80</td>\n",
       "    </tr>\n",
       "    <tr>\n",
       "      <th>206</th>\n",
       "      <td>204</td>\n",
       "      <td>0.932544</td>\n",
       "      <td>20.0</td>\n",
       "      <td>3.97</td>\n",
       "      <td>no</td>\n",
       "      <td>NaN</td>\n",
       "      <td>4.327</td>\n",
       "      <td>5.5</td>\n",
       "      <td>2.0788</td>\n",
       "      <td>Average transport options</td>\n",
       "      <td>264</td>\n",
       "      <td>13.0</td>\n",
       "      <td>393.42</td>\n",
       "      <td>2.8125</td>\n",
       "      <td>0.897287</td>\n",
       "      <td>c_71</td>\n",
       "    </tr>\n",
       "    <tr>\n",
       "      <th>264</th>\n",
       "      <td>263</td>\n",
       "      <td>0.887841</td>\n",
       "      <td>20.0</td>\n",
       "      <td>3.97</td>\n",
       "      <td>no</td>\n",
       "      <td>14.85</td>\n",
       "      <td>4.014</td>\n",
       "      <td>15.4</td>\n",
       "      <td>2.1329</td>\n",
       "      <td>Average transport options</td>\n",
       "      <td>264</td>\n",
       "      <td>13.0</td>\n",
       "      <td>384.07</td>\n",
       "      <td>3.6975</td>\n",
       "      <td>0.864584</td>\n",
       "      <td>c_63</td>\n",
       "    </tr>\n",
       "    <tr>\n",
       "      <th>303</th>\n",
       "      <td>96</td>\n",
       "      <td>0.016961</td>\n",
       "      <td>90.0</td>\n",
       "      <td>1.21</td>\n",
       "      <td>yes</td>\n",
       "      <td>2.55</td>\n",
       "      <td>4.923</td>\n",
       "      <td>75.2</td>\n",
       "      <td>5.8850</td>\n",
       "      <td>No transport options</td>\n",
       "      <td>198</td>\n",
       "      <td>13.6</td>\n",
       "      <td>395.52</td>\n",
       "      <td>0.7900</td>\n",
       "      <td>2.968477</td>\n",
       "      <td>c_128</td>\n",
       "    </tr>\n",
       "    <tr>\n",
       "      <th>304</th>\n",
       "      <td>449</td>\n",
       "      <td>0.860631</td>\n",
       "      <td>20.0</td>\n",
       "      <td>3.97</td>\n",
       "      <td>no</td>\n",
       "      <td>14.85</td>\n",
       "      <td>2.560</td>\n",
       "      <td>37.2</td>\n",
       "      <td>1.9865</td>\n",
       "      <td>Average transport options</td>\n",
       "      <td>264</td>\n",
       "      <td>13.0</td>\n",
       "      <td>392.40</td>\n",
       "      <td>2.6125</td>\n",
       "      <td>0.003405</td>\n",
       "      <td>c_58</td>\n",
       "    </tr>\n",
       "    <tr>\n",
       "      <th>316</th>\n",
       "      <td>24</td>\n",
       "      <td>0.621579</td>\n",
       "      <td>20.0</td>\n",
       "      <td>3.97</td>\n",
       "      <td>no</td>\n",
       "      <td>14.85</td>\n",
       "      <td>4.206</td>\n",
       "      <td>8.4</td>\n",
       "      <td>1.9301</td>\n",
       "      <td>Average transport options</td>\n",
       "      <td>264</td>\n",
       "      <td>13.0</td>\n",
       "      <td>387.89</td>\n",
       "      <td>2.0250</td>\n",
       "      <td>1.496842</td>\n",
       "      <td>c_99</td>\n",
       "    </tr>\n",
       "  </tbody>\n",
       "</table>\n",
       "</div>"
      ],
      "text/plain": [
       "     location_id  crime_rate  proportion_flats  proportion_nonretail  \\\n",
       "1            504    0.603556              20.0                  3.97   \n",
       "167          156    0.610765              20.0                  3.97   \n",
       "206          204    0.932544              20.0                  3.97   \n",
       "264          263    0.887841              20.0                  3.97   \n",
       "303           96    0.016961              90.0                  1.21   \n",
       "304          449    0.860631              20.0                  3.97   \n",
       "316           24    0.621579              20.0                  3.97   \n",
       "\n",
       "    new_store  commercial_property  household_size  proportion_newbuilds  \\\n",
       "1          no                14.85           4.520                  10.6   \n",
       "167        no                11.25           4.470                  47.4   \n",
       "206        no                  NaN           4.327                   5.5   \n",
       "264        no                14.85           4.014                  15.4   \n",
       "303       yes                 2.55           4.923                  75.2   \n",
       "304        no                14.85           2.560                  37.2   \n",
       "316        no                14.85           4.206                   8.4   \n",
       "\n",
       "     public_transport_dist     transport_availability  property_value  \\\n",
       "1                   2.1398  Average transport options             264   \n",
       "167                 2.8720  Average transport options             264   \n",
       "206                 2.0788  Average transport options             264   \n",
       "264                 2.1329  Average transport options             264   \n",
       "303                 5.8850       No transport options             198   \n",
       "304                 1.9865  Average transport options             264   \n",
       "316                 1.9301  Average transport options             264   \n",
       "\n",
       "     school_proximity  competitor_density  household_affluency  \\\n",
       "1                13.0              388.37               1.8150   \n",
       "167              13.0              390.30               0.7900   \n",
       "206              13.0              393.42               2.8125   \n",
       "264              13.0              384.07               3.6975   \n",
       "303              13.6              395.52               0.7900   \n",
       "304              13.0              392.40               2.6125   \n",
       "316              13.0              387.89               2.0250   \n",
       "\n",
       "     normalised_sales county  \n",
       "1            2.216308   c_80  \n",
       "167          2.259912   c_80  \n",
       "206          0.897287   c_71  \n",
       "264          0.864584   c_63  \n",
       "303          2.968477  c_128  \n",
       "304          0.003405   c_58  \n",
       "316          1.496842   c_99  "
      ]
     },
     "execution_count": 75,
     "metadata": {},
     "output_type": "execute_result"
    }
   ],
   "source": [
    "df_train[(df_train['school_proximity']<14)&(df_train['normalised_sales']>0)]"
   ]
  },
  {
   "cell_type": "code",
   "execution_count": 76,
   "metadata": {},
   "outputs": [
    {
     "data": {
      "text/plain": [
       "'\\nAll the low school_proximity having better sales  (Do not recommend strongly, need in-depth analysis with more granular data)\\nschool_proximity <14 -> sales in positive\\n'"
      ]
     },
     "execution_count": 76,
     "metadata": {},
     "output_type": "execute_result"
    }
   ],
   "source": [
    "'''\n",
    "All the low school_proximity having better sales  (Do not recommend strongly, need in-depth analysis with more granular data)\n",
    "school_proximity <14 -> sales in positive\n",
    "'''"
   ]
  },
  {
   "cell_type": "markdown",
   "metadata": {},
   "source": [
    "#### competitor_density"
   ]
  },
  {
   "cell_type": "code",
   "execution_count": 77,
   "metadata": {},
   "outputs": [
    {
     "name": "stdout",
     "output_type": "stream",
     "text": [
      "3.5\n",
      "396.9\n"
     ]
    }
   ],
   "source": [
    "# Range of competitor_density\n",
    "print(df_train['competitor_density'].min())\n",
    "print(df_train['competitor_density'].max())"
   ]
  },
  {
   "cell_type": "code",
   "execution_count": 78,
   "metadata": {},
   "outputs": [
    {
     "data": {
      "text/plain": [
       "(array([  7.,   6.,   6.,   2.,   1.,   2.,   7.,   6.,  19., 264.]),\n",
       " array([  3.5 ,  42.84,  82.18, 121.52, 160.86, 200.2 , 239.54, 278.88,\n",
       "        318.22, 357.56, 396.9 ]),\n",
       " <a list of 10 Patch objects>)"
      ]
     },
     "execution_count": 78,
     "metadata": {},
     "output_type": "execute_result"
    },
    {
     "data": {
      "image/png": "[encoded data removed]",
      "text/plain": [
       "<Figure size 432x288 with 1 Axes>"
      ]
     },
     "metadata": {},
     "output_type": "display_data"
    }
   ],
   "source": [
    "# Histogram\n",
    "plt.hist(df_train['competitor_density'])"
   ]
  },
  {
   "cell_type": "code",
   "execution_count": 79,
   "metadata": {},
   "outputs": [
    {
     "data": {
      "text/plain": [
       "<matplotlib.collections.PathCollection at 0x7fbf4d44cdd8>"
      ]
     },
     "execution_count": 79,
     "metadata": {},
     "output_type": "execute_result"
    },
    {
     "data": {
      "image/png": "[encoded data removed]",
      "text/plain": [
       "<Figure size 432x288 with 1 Axes>"
      ]
     },
     "metadata": {},
     "output_type": "display_data"
    }
   ],
   "source": [
    "# Scatter plot for competitor_density vs normalised_sales\n",
    "plt.scatter(df_train['competitor_density'], df_train['normalised_sales'])"
   ]
  },
  {
   "cell_type": "code",
   "execution_count": 80,
   "metadata": {},
   "outputs": [
    {
     "name": "stdout",
     "output_type": "stream",
     "text": [
      "6\n",
      "43\n"
     ]
    }
   ],
   "source": [
    "print(df_train[(df_train['competitor_density']<350)&(df_train['normalised_sales']>0)].shape[0])\n",
    "print(df_train[(df_train['competitor_density']<350)&(df_train['normalised_sales']<0)].shape[0])"
   ]
  },
  {
   "cell_type": "code",
   "execution_count": 81,
   "metadata": {},
   "outputs": [
    {
     "data": {
      "text/plain": [
       "'\\nLow competitor_density results in less sales (This feature might not hold true, need multiple feature analysis.)\\ncompetitor_density <350 -> sales in negative\\n'"
      ]
     },
     "execution_count": 81,
     "metadata": {},
     "output_type": "execute_result"
    }
   ],
   "source": [
    "'''\n",
    "Low competitor_density results in less sales (This feature might not hold true, need multiple feature analysis.)\n",
    "competitor_density <350 -> sales in negative\n",
    "'''"
   ]
  },
  {
   "cell_type": "markdown",
   "metadata": {},
   "source": [
    "#### household_affluency"
   ]
  },
  {
   "cell_type": "code",
   "execution_count": 82,
   "metadata": {},
   "outputs": [
    {
     "name": "stdout",
     "output_type": "stream",
     "text": [
      "0.4325\n",
      "9.4925\n"
     ]
    }
   ],
   "source": [
    "# Range of household_affluency\n",
    "print(df_train['household_affluency'].min())\n",
    "print(df_train['household_affluency'].max())"
   ]
  },
  {
   "cell_type": "code",
   "execution_count": 83,
   "metadata": {},
   "outputs": [
    {
     "data": {
      "text/plain": [
       "(array([45., 69., 68., 56., 35., 17., 15., 10.,  1.,  4.]),\n",
       " array([0.4325, 1.3385, 2.2445, 3.1505, 4.0565, 4.9625, 5.8685, 6.7745,\n",
       "        7.6805, 8.5865, 9.4925]),\n",
       " <a list of 10 Patch objects>)"
      ]
     },
     "execution_count": 83,
     "metadata": {},
     "output_type": "execute_result"
    },
    {
     "data": {
      "image/png": "[encoded data removed]",
      "text/plain": [
       "<Figure size 432x288 with 1 Axes>"
      ]
     },
     "metadata": {},
     "output_type": "display_data"
    }
   ],
   "source": [
    "# Histogram\n",
    "plt.hist(df_train['household_affluency'])"
   ]
  },
  {
   "cell_type": "code",
   "execution_count": 84,
   "metadata": {},
   "outputs": [
    {
     "data": {
      "text/plain": [
       "<matplotlib.collections.PathCollection at 0x7fbf4d3a36d8>"
      ]
     },
     "execution_count": 84,
     "metadata": {},
     "output_type": "execute_result"
    },
    {
     "data": {
      "image/png": "[encoded data removed]",
      "text/plain": [
       "<Figure size 432x288 with 1 Axes>"
      ]
     },
     "metadata": {},
     "output_type": "display_data"
    }
   ],
   "source": [
    "# Scatter plot for household_affluency vs normalised_sales\n",
    "plt.scatter(df_train['household_affluency'], df_train['normalised_sales'])"
   ]
  },
  {
   "cell_type": "code",
   "execution_count": 85,
   "metadata": {},
   "outputs": [
    {
     "data": {
      "text/plain": [
       "(array([ 6.,  8., 17., 28., 27., 36., 16.,  8.,  1.,  1.]),\n",
       " array([-1.93697397, -1.6568182 , -1.37666243, -1.09650666, -0.81635089,\n",
       "        -0.53619512, -0.25603935,  0.02411642,  0.30427219,  0.58442796,\n",
       "         0.86458373]),\n",
       " <a list of 10 Patch objects>)"
      ]
     },
     "execution_count": 85,
     "metadata": {},
     "output_type": "execute_result"
    },
    {
     "data": {
      "image/png": "[encoded data removed]",
      "text/plain": [
       "<Figure size 432x288 with 1 Axes>"
      ]
     },
     "metadata": {},
     "output_type": "display_data"
    }
   ],
   "source": [
    "# household_affluency >=3\n",
    "plt.hist(df_train[df_train['household_affluency']>=3]['normalised_sales'])"
   ]
  },
  {
   "cell_type": "code",
   "execution_count": 86,
   "metadata": {},
   "outputs": [
    {
     "name": "stdout",
     "output_type": "stream",
     "text": [
      "11\n",
      "137\n"
     ]
    }
   ],
   "source": [
    "print(df_train[(df_train['household_affluency']>=3)&(df_train['normalised_sales']>0)].shape[0])\n",
    "print(df_train[(df_train['household_affluency']>=3)&(df_train['normalised_sales']<0)].shape[0])"
   ]
  },
  {
   "cell_type": "code",
   "execution_count": 87,
   "metadata": {},
   "outputs": [
    {
     "data": {
      "text/plain": [
       "'\\nHigher household_affluency results in lower sales and vice-versa\\nLinear relationship between household_affluency and normalised_sales (scatter plot)\\nhousehold_affluency >=3 -> sales in negative\\n'"
      ]
     },
     "execution_count": 87,
     "metadata": {},
     "output_type": "execute_result"
    }
   ],
   "source": [
    "'''\n",
    "Higher household_affluency results in lower sales and vice-versa\n",
    "Linear relationship between household_affluency and normalised_sales (scatter plot)\n",
    "household_affluency >=3 -> sales in negative\n",
    "'''"
   ]
  },
  {
   "cell_type": "markdown",
   "metadata": {},
   "source": [
    "#### normalised_sales"
   ]
  },
  {
   "cell_type": "code",
   "execution_count": 88,
   "metadata": {},
   "outputs": [
    {
     "name": "stdout",
     "output_type": "stream",
     "text": [
      "-1.9369739683900924\n",
      "2.9684772596520763\n"
     ]
    }
   ],
   "source": [
    "print(df_train['normalised_sales'].min())\n",
    "print(df_train['normalised_sales'].max())"
   ]
  },
  {
   "cell_type": "code",
   "execution_count": 89,
   "metadata": {},
   "outputs": [
    {
     "data": {
      "text/plain": [
       "(array([12., 34., 49., 99., 58., 25., 20.,  6.,  4., 13.]),\n",
       " array([-1.93697397, -1.44642885, -0.95588372, -0.4653386 ,  0.02520652,\n",
       "         0.51575165,  1.00629677,  1.49684189,  1.98738701,  2.47793214,\n",
       "         2.96847726]),\n",
       " <a list of 10 Patch objects>)"
      ]
     },
     "execution_count": 89,
     "metadata": {},
     "output_type": "execute_result"
    },
    {
     "data": {
      "image/png": "[encoded data removed]",
      "text/plain": [
       "<Figure size 432x288 with 1 Axes>"
      ]
     },
     "metadata": {},
     "output_type": "display_data"
    }
   ],
   "source": [
    "# Histogram\n",
    "plt.hist(df_train['normalised_sales'])"
   ]
  },
  {
   "cell_type": "code",
   "execution_count": 90,
   "metadata": {},
   "outputs": [
    {
     "data": {
      "text/plain": [
       "'\\nSales in many of the locations are lower compared to the overall normalised sales \\n(Assumption: While normalising the sales, high sales are in positive side and low sales are around 0 and less than 0)\\n'"
      ]
     },
     "execution_count": 90,
     "metadata": {},
     "output_type": "execute_result"
    }
   ],
   "source": [
    "'''\n",
    "Sales in many of the locations are lower compared to the overall normalised sales \n",
    "(Assumption: While normalising the sales, high sales are in positive side and low sales are around 0 and less than 0)\n",
    "'''"
   ]
  },
  {
   "cell_type": "code",
   "execution_count": 91,
   "metadata": {},
   "outputs": [],
   "source": [
    "### Categorical Features"
   ]
  },
  {
   "cell_type": "markdown",
   "metadata": {},
   "source": [
    "#### transport_availability"
   ]
  },
  {
   "cell_type": "code",
   "execution_count": 92,
   "metadata": {
    "scrolled": true
   },
   "outputs": [
    {
     "data": {
      "text/plain": [
       "array(['All transport options', 'Average transport options',\n",
       "       'Many transport options', 'No transport options',\n",
       "       'Few transport options'], dtype=object)"
      ]
     },
     "execution_count": 92,
     "metadata": {},
     "output_type": "execute_result"
    }
   ],
   "source": [
    "df_train['transport_availability'].unique()"
   ]
  },
  {
   "cell_type": "code",
   "execution_count": 93,
   "metadata": {},
   "outputs": [
    {
     "data": {
      "text/plain": [
       "([0, 1, 2, 3, 4], <a list of 5 Text xticklabel objects>)"
      ]
     },
     "execution_count": 93,
     "metadata": {},
     "output_type": "execute_result"
    },
    {
     "data": {
      "image/png": "[encoded data removed]",
      "text/plain": [
       "<Figure size 432x288 with 1 Axes>"
      ]
     },
     "metadata": {},
     "output_type": "display_data"
    }
   ],
   "source": [
    "# Scatter plot for transport_availability vs normalised_sales\n",
    "plt.scatter(df_train['transport_availability'], df_train['normalised_sales'])\n",
    "plt.xticks(rotation=90)"
   ]
  },
  {
   "cell_type": "code",
   "execution_count": 94,
   "metadata": {},
   "outputs": [
    {
     "name": "stdout",
     "output_type": "stream",
     "text": [
      "11\n",
      "73\n"
     ]
    }
   ],
   "source": [
    "print(df_train[(df_train['transport_availability']=='All transport options')&(df_train['normalised_sales']>0)].shape[0])\n",
    "print(df_train[(df_train['transport_availability']=='All transport options')&(df_train['normalised_sales']<0)].shape[0])"
   ]
  },
  {
   "cell_type": "code",
   "execution_count": 95,
   "metadata": {},
   "outputs": [
    {
     "data": {
      "text/plain": [
       "\"\\nWherever all transport options are available, sales are comparatively less. This might be due to people are open to buy from range of other options in neighbourhood and also can travel far.\\ntransport_availability == 'All transport options' -> less sales\\n\""
      ]
     },
     "execution_count": 95,
     "metadata": {},
     "output_type": "execute_result"
    }
   ],
   "source": [
    "'''\n",
    "Wherever all transport options are available, sales are comparatively less. This might be due to people are open to buy from range of other options in neighbourhood and also can travel far.\n",
    "transport_availability == 'All transport options' -> less sales\n",
    "'''"
   ]
  },
  {
   "cell_type": "markdown",
   "metadata": {},
   "source": [
    "#### new_store"
   ]
  },
  {
   "cell_type": "code",
   "execution_count": 96,
   "metadata": {
    "scrolled": true
   },
   "outputs": [
    {
     "data": {
      "text/plain": [
       "array(['no', 'yes'], dtype=object)"
      ]
     },
     "execution_count": 96,
     "metadata": {},
     "output_type": "execute_result"
    }
   ],
   "source": [
    "df_train['new_store'].unique()"
   ]
  },
  {
   "cell_type": "code",
   "execution_count": 97,
   "metadata": {},
   "outputs": [
    {
     "data": {
      "text/plain": [
       "([0, 1], <a list of 2 Text xticklabel objects>)"
      ]
     },
     "execution_count": 97,
     "metadata": {},
     "output_type": "execute_result"
    },
    {
     "data": {
      "image/png": "[encoded data removed]",
      "text/plain": [
       "<Figure size 432x288 with 1 Axes>"
      ]
     },
     "metadata": {},
     "output_type": "display_data"
    }
   ],
   "source": [
    "# Scatter plot for new_store vs normalised_sales\n",
    "plt.scatter(df_train['new_store'], df_train['normalised_sales'])\n",
    "plt.xticks(rotation=90)"
   ]
  },
  {
   "cell_type": "code",
   "execution_count": 98,
   "metadata": {},
   "outputs": [
    {
     "data": {
      "text/plain": [
       "\"\\nCan't infer much from new_store\\n\""
      ]
     },
     "execution_count": 98,
     "metadata": {},
     "output_type": "execute_result"
    }
   ],
   "source": [
    "'''\n",
    "Can't infer much from new_store\n",
    "'''"
   ]
  },
  {
   "cell_type": "markdown",
   "metadata": {},
   "source": [
    "## 5. Correlation"
   ]
  },
  {
   "cell_type": "code",
   "execution_count": 99,
   "metadata": {},
   "outputs": [
    {
     "data": {
      "text/html": [
       "<div>\n",
       "<style scoped>\n",
       "    .dataframe tbody tr th:only-of-type {\n",
       "        vertical-align: middle;\n",
       "    }\n",
       "\n",
       "    .dataframe tbody tr th {\n",
       "        vertical-align: top;\n",
       "    }\n",
       "\n",
       "    .dataframe thead th {\n",
       "        text-align: right;\n",
       "    }\n",
       "</style>\n",
       "<table border=\"1\" class=\"dataframe\">\n",
       "  <thead>\n",
       "    <tr style=\"text-align: right;\">\n",
       "      <th></th>\n",
       "      <th>location_id</th>\n",
       "      <th>crime_rate</th>\n",
       "      <th>proportion_flats</th>\n",
       "      <th>proportion_nonretail</th>\n",
       "      <th>commercial_property</th>\n",
       "      <th>household_size</th>\n",
       "      <th>proportion_newbuilds</th>\n",
       "      <th>public_transport_dist</th>\n",
       "      <th>property_value</th>\n",
       "      <th>school_proximity</th>\n",
       "      <th>competitor_density</th>\n",
       "      <th>household_affluency</th>\n",
       "      <th>normalised_sales</th>\n",
       "    </tr>\n",
       "  </thead>\n",
       "  <tbody>\n",
       "    <tr>\n",
       "      <th>location_id</th>\n",
       "      <td>1.000000</td>\n",
       "      <td>0.058915</td>\n",
       "      <td>-0.017752</td>\n",
       "      <td>0.028544</td>\n",
       "      <td>-0.038307</td>\n",
       "      <td>-0.071631</td>\n",
       "      <td>0.003716</td>\n",
       "      <td>0.031125</td>\n",
       "      <td>0.026506</td>\n",
       "      <td>0.036079</td>\n",
       "      <td>0.042324</td>\n",
       "      <td>0.003529</td>\n",
       "      <td>0.040270</td>\n",
       "    </tr>\n",
       "    <tr>\n",
       "      <th>crime_rate</th>\n",
       "      <td>0.058915</td>\n",
       "      <td>1.000000</td>\n",
       "      <td>-0.231625</td>\n",
       "      <td>0.459096</td>\n",
       "      <td>0.050211</td>\n",
       "      <td>-0.352860</td>\n",
       "      <td>-0.409842</td>\n",
       "      <td>-0.433316</td>\n",
       "      <td>0.673836</td>\n",
       "      <td>0.338458</td>\n",
       "      <td>-0.435364</td>\n",
       "      <td>0.589311</td>\n",
       "      <td>-0.445005</td>\n",
       "    </tr>\n",
       "    <tr>\n",
       "      <th>proportion_flats</th>\n",
       "      <td>-0.017752</td>\n",
       "      <td>-0.231625</td>\n",
       "      <td>1.000000</td>\n",
       "      <td>-0.519235</td>\n",
       "      <td>-0.079379</td>\n",
       "      <td>0.330460</td>\n",
       "      <td>0.550014</td>\n",
       "      <td>0.637684</td>\n",
       "      <td>-0.310242</td>\n",
       "      <td>-0.384002</td>\n",
       "      <td>0.167767</td>\n",
       "      <td>-0.395258</td>\n",
       "      <td>0.355756</td>\n",
       "    </tr>\n",
       "    <tr>\n",
       "      <th>proportion_nonretail</th>\n",
       "      <td>0.028544</td>\n",
       "      <td>0.459096</td>\n",
       "      <td>-0.519235</td>\n",
       "      <td>1.000000</td>\n",
       "      <td>0.053313</td>\n",
       "      <td>-0.437013</td>\n",
       "      <td>-0.641404</td>\n",
       "      <td>-0.701577</td>\n",
       "      <td>0.703056</td>\n",
       "      <td>0.434502</td>\n",
       "      <td>-0.331806</td>\n",
       "      <td>0.618086</td>\n",
       "      <td>-0.485237</td>\n",
       "    </tr>\n",
       "    <tr>\n",
       "      <th>commercial_property</th>\n",
       "      <td>-0.038307</td>\n",
       "      <td>0.050211</td>\n",
       "      <td>-0.079379</td>\n",
       "      <td>0.053313</td>\n",
       "      <td>1.000000</td>\n",
       "      <td>-0.037224</td>\n",
       "      <td>-0.051047</td>\n",
       "      <td>-0.038078</td>\n",
       "      <td>0.048641</td>\n",
       "      <td>0.025346</td>\n",
       "      <td>0.004619</td>\n",
       "      <td>0.046985</td>\n",
       "      <td>-0.065091</td>\n",
       "    </tr>\n",
       "    <tr>\n",
       "      <th>household_size</th>\n",
       "      <td>-0.071631</td>\n",
       "      <td>-0.352860</td>\n",
       "      <td>0.330460</td>\n",
       "      <td>-0.437013</td>\n",
       "      <td>-0.037224</td>\n",
       "      <td>1.000000</td>\n",
       "      <td>0.260217</td>\n",
       "      <td>0.277205</td>\n",
       "      <td>-0.356574</td>\n",
       "      <td>-0.286888</td>\n",
       "      <td>0.151282</td>\n",
       "      <td>-0.618884</td>\n",
       "      <td>0.692506</td>\n",
       "    </tr>\n",
       "    <tr>\n",
       "      <th>proportion_newbuilds</th>\n",
       "      <td>0.003716</td>\n",
       "      <td>-0.409842</td>\n",
       "      <td>0.550014</td>\n",
       "      <td>-0.641404</td>\n",
       "      <td>-0.051047</td>\n",
       "      <td>0.260217</td>\n",
       "      <td>1.000000</td>\n",
       "      <td>0.760124</td>\n",
       "      <td>-0.508527</td>\n",
       "      <td>-0.305186</td>\n",
       "      <td>0.265851</td>\n",
       "      <td>-0.593322</td>\n",
       "      <td>0.380474</td>\n",
       "    </tr>\n",
       "    <tr>\n",
       "      <th>public_transport_dist</th>\n",
       "      <td>0.031125</td>\n",
       "      <td>-0.433316</td>\n",
       "      <td>0.637684</td>\n",
       "      <td>-0.701577</td>\n",
       "      <td>-0.038078</td>\n",
       "      <td>0.277205</td>\n",
       "      <td>0.760124</td>\n",
       "      <td>1.000000</td>\n",
       "      <td>-0.523460</td>\n",
       "      <td>-0.264519</td>\n",
       "      <td>0.281682</td>\n",
       "      <td>-0.511957</td>\n",
       "      <td>0.268658</td>\n",
       "    </tr>\n",
       "    <tr>\n",
       "      <th>property_value</th>\n",
       "      <td>0.026506</td>\n",
       "      <td>0.673836</td>\n",
       "      <td>-0.310242</td>\n",
       "      <td>0.703056</td>\n",
       "      <td>0.048641</td>\n",
       "      <td>-0.356574</td>\n",
       "      <td>-0.508527</td>\n",
       "      <td>-0.523460</td>\n",
       "      <td>1.000000</td>\n",
       "      <td>0.479334</td>\n",
       "      <td>-0.403320</td>\n",
       "      <td>0.542788</td>\n",
       "      <td>-0.463462</td>\n",
       "    </tr>\n",
       "    <tr>\n",
       "      <th>school_proximity</th>\n",
       "      <td>0.036079</td>\n",
       "      <td>0.338458</td>\n",
       "      <td>-0.384002</td>\n",
       "      <td>0.434502</td>\n",
       "      <td>0.025346</td>\n",
       "      <td>-0.286888</td>\n",
       "      <td>-0.305186</td>\n",
       "      <td>-0.264519</td>\n",
       "      <td>0.479334</td>\n",
       "      <td>1.000000</td>\n",
       "      <td>-0.194474</td>\n",
       "      <td>0.343887</td>\n",
       "      <td>-0.447789</td>\n",
       "    </tr>\n",
       "    <tr>\n",
       "      <th>competitor_density</th>\n",
       "      <td>0.042324</td>\n",
       "      <td>-0.435364</td>\n",
       "      <td>0.167767</td>\n",
       "      <td>-0.331806</td>\n",
       "      <td>0.004619</td>\n",
       "      <td>0.151282</td>\n",
       "      <td>0.265851</td>\n",
       "      <td>0.281682</td>\n",
       "      <td>-0.403320</td>\n",
       "      <td>-0.194474</td>\n",
       "      <td>1.000000</td>\n",
       "      <td>-0.355489</td>\n",
       "      <td>0.338284</td>\n",
       "    </tr>\n",
       "    <tr>\n",
       "      <th>household_affluency</th>\n",
       "      <td>0.003529</td>\n",
       "      <td>0.589311</td>\n",
       "      <td>-0.395258</td>\n",
       "      <td>0.618086</td>\n",
       "      <td>0.046985</td>\n",
       "      <td>-0.618884</td>\n",
       "      <td>-0.593322</td>\n",
       "      <td>-0.511957</td>\n",
       "      <td>0.542788</td>\n",
       "      <td>0.343887</td>\n",
       "      <td>-0.355489</td>\n",
       "      <td>1.000000</td>\n",
       "      <td>-0.743277</td>\n",
       "    </tr>\n",
       "    <tr>\n",
       "      <th>normalised_sales</th>\n",
       "      <td>0.040270</td>\n",
       "      <td>-0.445005</td>\n",
       "      <td>0.355756</td>\n",
       "      <td>-0.485237</td>\n",
       "      <td>-0.065091</td>\n",
       "      <td>0.692506</td>\n",
       "      <td>0.380474</td>\n",
       "      <td>0.268658</td>\n",
       "      <td>-0.463462</td>\n",
       "      <td>-0.447789</td>\n",
       "      <td>0.338284</td>\n",
       "      <td>-0.743277</td>\n",
       "      <td>1.000000</td>\n",
       "    </tr>\n",
       "  </tbody>\n",
       "</table>\n",
       "</div>"
      ],
      "text/plain": [
       "                       location_id  crime_rate  proportion_flats  \\\n",
       "location_id               1.000000    0.058915         -0.017752   \n",
       "crime_rate                0.058915    1.000000         -0.231625   \n",
       "proportion_flats         -0.017752   -0.231625          1.000000   \n",
       "proportion_nonretail      0.028544    0.459096         -0.519235   \n",
       "commercial_property      -0.038307    0.050211         -0.079379   \n",
       "household_size           -0.071631   -0.352860          0.330460   \n",
       "proportion_newbuilds      0.003716   -0.409842          0.550014   \n",
       "public_transport_dist     0.031125   -0.433316          0.637684   \n",
       "property_value            0.026506    0.673836         -0.310242   \n",
       "school_proximity          0.036079    0.338458         -0.384002   \n",
       "competitor_density        0.042324   -0.435364          0.167767   \n",
       "household_affluency       0.003529    0.589311         -0.395258   \n",
       "normalised_sales          0.040270   -0.445005          0.355756   \n",
       "\n",
       "                       proportion_nonretail  commercial_property  \\\n",
       "location_id                        0.028544            -0.038307   \n",
       "crime_rate                         0.459096             0.050211   \n",
       "proportion_flats                  -0.519235            -0.079379   \n",
       "proportion_nonretail               1.000000             0.053313   \n",
       "commercial_property                0.053313             1.000000   \n",
       "household_size                    -0.437013            -0.037224   \n",
       "proportion_newbuilds              -0.641404            -0.051047   \n",
       "public_transport_dist             -0.701577            -0.038078   \n",
       "property_value                     0.703056             0.048641   \n",
       "school_proximity                   0.434502             0.025346   \n",
       "competitor_density                -0.331806             0.004619   \n",
       "household_affluency                0.618086             0.046985   \n",
       "normalised_sales                  -0.485237            -0.065091   \n",
       "\n",
       "                       household_size  proportion_newbuilds  \\\n",
       "location_id                 -0.071631              0.003716   \n",
       "crime_rate                  -0.352860             -0.409842   \n",
       "proportion_flats             0.330460              0.550014   \n",
       "proportion_nonretail        -0.437013             -0.641404   \n",
       "commercial_property         -0.037224             -0.051047   \n",
       "household_size               1.000000              0.260217   \n",
       "proportion_newbuilds         0.260217              1.000000   \n",
       "public_transport_dist        0.277205              0.760124   \n",
       "property_value              -0.356574             -0.508527   \n",
       "school_proximity            -0.286888             -0.305186   \n",
       "competitor_density           0.151282              0.265851   \n",
       "household_affluency         -0.618884             -0.593322   \n",
       "normalised_sales             0.692506              0.380474   \n",
       "\n",
       "                       public_transport_dist  property_value  \\\n",
       "location_id                         0.031125        0.026506   \n",
       "crime_rate                         -0.433316        0.673836   \n",
       "proportion_flats                    0.637684       -0.310242   \n",
       "proportion_nonretail               -0.701577        0.703056   \n",
       "commercial_property                -0.038078        0.048641   \n",
       "household_size                      0.277205       -0.356574   \n",
       "proportion_newbuilds                0.760124       -0.508527   \n",
       "public_transport_dist               1.000000       -0.523460   \n",
       "property_value                     -0.523460        1.000000   \n",
       "school_proximity                   -0.264519        0.479334   \n",
       "competitor_density                  0.281682       -0.403320   \n",
       "household_affluency                -0.511957        0.542788   \n",
       "normalised_sales                    0.268658       -0.463462   \n",
       "\n",
       "                       school_proximity  competitor_density  \\\n",
       "location_id                    0.036079            0.042324   \n",
       "crime_rate                     0.338458           -0.435364   \n",
       "proportion_flats              -0.384002            0.167767   \n",
       "proportion_nonretail           0.434502           -0.331806   \n",
       "commercial_property            0.025346            0.004619   \n",
       "household_size                -0.286888            0.151282   \n",
       "proportion_newbuilds          -0.305186            0.265851   \n",
       "public_transport_dist         -0.264519            0.281682   \n",
       "property_value                 0.479334           -0.403320   \n",
       "school_proximity               1.000000           -0.194474   \n",
       "competitor_density            -0.194474            1.000000   \n",
       "household_affluency            0.343887           -0.355489   \n",
       "normalised_sales              -0.447789            0.338284   \n",
       "\n",
       "                       household_affluency  normalised_sales  \n",
       "location_id                       0.003529          0.040270  \n",
       "crime_rate                        0.589311         -0.445005  \n",
       "proportion_flats                 -0.395258          0.355756  \n",
       "proportion_nonretail              0.618086         -0.485237  \n",
       "commercial_property               0.046985         -0.065091  \n",
       "household_size                   -0.618884          0.692506  \n",
       "proportion_newbuilds             -0.593322          0.380474  \n",
       "public_transport_dist            -0.511957          0.268658  \n",
       "property_value                    0.542788         -0.463462  \n",
       "school_proximity                  0.343887         -0.447789  \n",
       "competitor_density               -0.355489          0.338284  \n",
       "household_affluency               1.000000         -0.743277  \n",
       "normalised_sales                 -0.743277          1.000000  "
      ]
     },
     "execution_count": 99,
     "metadata": {},
     "output_type": "execute_result"
    }
   ],
   "source": [
    "# Make correlation table\n",
    "corr = df_train.corr()\n",
    "corr"
   ]
  },
  {
   "cell_type": "code",
   "execution_count": 100,
   "metadata": {},
   "outputs": [
    {
     "data": {
      "image/png": "[encoded data removed]",
      "text/plain": [
       "<Figure size 720x720 with 2 Axes>"
      ]
     },
     "metadata": {},
     "output_type": "display_data"
    }
   ],
   "source": [
    "# Generate a mask for the upper triangle\n",
    "mask = np.triu(np.ones_like(corr, dtype=np.bool))\n",
    "\n",
    "# Visualisation of heatmap matrix\n",
    "fig, ax = plt.subplots(figsize=(10,10))\n",
    "ax = sns.heatmap(corr, mask=mask, annot = True)"
   ]
  },
  {
   "cell_type": "markdown",
   "metadata": {},
   "source": [
    "## 6. Categorical Encoding"
   ]
  },
  {
   "cell_type": "markdown",
   "metadata": {},
   "source": [
    "##### Below encoding methods can be applied.\n",
    "1. Label Encoding\n",
    "2. One-Hot Encoding\n",
    "3. Custome Binary Encoding\n",
    "4. Polynomial Encoder\n",
    "\n",
    "For 'new_store', 'transport_availability' and 'county' features we can simply impute with *Label Enconding*."
   ]
  },
  {
   "cell_type": "code",
   "execution_count": 101,
   "metadata": {},
   "outputs": [],
   "source": [
    "# Copying the dataset before encoding the categorical features\n",
    "df_train_cat_enc = df_train_impute.copy()"
   ]
  },
  {
   "cell_type": "code",
   "execution_count": 102,
   "metadata": {},
   "outputs": [],
   "source": [
    "# Need to convert the datatypes of the features to 'category' before Label encoding.\n",
    "df_train_cat_enc[\"new_store\"] = df_train_cat_enc[\"new_store\"].astype('category')\n",
    "df_train_cat_enc[\"transport_availability\"] = df_train_cat_enc[\"transport_availability\"].astype('category')\n",
    "df_train_cat_enc[\"county\"] = df_train_cat_enc[\"county\"].astype('category')"
   ]
  },
  {
   "cell_type": "code",
   "execution_count": 103,
   "metadata": {},
   "outputs": [],
   "source": [
    "df_train_cat_enc[\"new_store_cat\"] = df_train_cat_enc[\"new_store\"].cat.codes\n",
    "df_train_cat_enc[\"transport_availability_cat\"] = df_train_cat_enc[\"transport_availability\"].cat.codes\n",
    "df_train_cat_enc[\"county_cat\"] = df_train_cat_enc[\"county\"].cat.codes"
   ]
  },
  {
   "cell_type": "code",
   "execution_count": 104,
   "metadata": {},
   "outputs": [
    {
     "data": {
      "text/html": [
       "<div>\n",
       "<style scoped>\n",
       "    .dataframe tbody tr th:only-of-type {\n",
       "        vertical-align: middle;\n",
       "    }\n",
       "\n",
       "    .dataframe tbody tr th {\n",
       "        vertical-align: top;\n",
       "    }\n",
       "\n",
       "    .dataframe thead th {\n",
       "        text-align: right;\n",
       "    }\n",
       "</style>\n",
       "<table border=\"1\" class=\"dataframe\">\n",
       "  <thead>\n",
       "    <tr style=\"text-align: right;\">\n",
       "      <th></th>\n",
       "      <th>location_id</th>\n",
       "      <th>crime_rate</th>\n",
       "      <th>proportion_flats</th>\n",
       "      <th>proportion_nonretail</th>\n",
       "      <th>new_store</th>\n",
       "      <th>commercial_property</th>\n",
       "      <th>household_size</th>\n",
       "      <th>proportion_newbuilds</th>\n",
       "      <th>public_transport_dist</th>\n",
       "      <th>transport_availability</th>\n",
       "      <th>property_value</th>\n",
       "      <th>school_proximity</th>\n",
       "      <th>competitor_density</th>\n",
       "      <th>household_affluency</th>\n",
       "      <th>normalised_sales</th>\n",
       "      <th>county</th>\n",
       "      <th>new_store_cat</th>\n",
       "      <th>transport_availability_cat</th>\n",
       "      <th>county_cat</th>\n",
       "    </tr>\n",
       "  </thead>\n",
       "  <tbody>\n",
       "    <tr>\n",
       "      <th>0</th>\n",
       "      <td>464</td>\n",
       "      <td>17.600541</td>\n",
       "      <td>0.0</td>\n",
       "      <td>18.10</td>\n",
       "      <td>no</td>\n",
       "      <td>16.868557</td>\n",
       "      <td>2.926</td>\n",
       "      <td>29.0</td>\n",
       "      <td>2.9084</td>\n",
       "      <td>All transport options</td>\n",
       "      <td>666</td>\n",
       "      <td>20.2</td>\n",
       "      <td>368.74</td>\n",
       "      <td>4.5325</td>\n",
       "      <td>-0.399933</td>\n",
       "      <td>c_40</td>\n",
       "      <td>0</td>\n",
       "      <td>0</td>\n",
       "      <td>39</td>\n",
       "    </tr>\n",
       "    <tr>\n",
       "      <th>1</th>\n",
       "      <td>504</td>\n",
       "      <td>0.603556</td>\n",
       "      <td>20.0</td>\n",
       "      <td>3.97</td>\n",
       "      <td>no</td>\n",
       "      <td>14.850000</td>\n",
       "      <td>4.520</td>\n",
       "      <td>10.6</td>\n",
       "      <td>2.1398</td>\n",
       "      <td>Average transport options</td>\n",
       "      <td>264</td>\n",
       "      <td>13.0</td>\n",
       "      <td>388.37</td>\n",
       "      <td>1.8150</td>\n",
       "      <td>2.216308</td>\n",
       "      <td>c_80</td>\n",
       "      <td>0</td>\n",
       "      <td>1</td>\n",
       "      <td>80</td>\n",
       "    </tr>\n",
       "    <tr>\n",
       "      <th>2</th>\n",
       "      <td>295</td>\n",
       "      <td>0.606810</td>\n",
       "      <td>0.0</td>\n",
       "      <td>6.20</td>\n",
       "      <td>no</td>\n",
       "      <td>7.700000</td>\n",
       "      <td>2.981</td>\n",
       "      <td>31.9</td>\n",
       "      <td>3.6715</td>\n",
       "      <td>Many transport options</td>\n",
       "      <td>307</td>\n",
       "      <td>17.4</td>\n",
       "      <td>378.35</td>\n",
       "      <td>2.9125</td>\n",
       "      <td>0.166920</td>\n",
       "      <td>c_53</td>\n",
       "      <td>0</td>\n",
       "      <td>3</td>\n",
       "      <td>52</td>\n",
       "    </tr>\n",
       "    <tr>\n",
       "      <th>3</th>\n",
       "      <td>187</td>\n",
       "      <td>0.012385</td>\n",
       "      <td>55.0</td>\n",
       "      <td>2.25</td>\n",
       "      <td>no</td>\n",
       "      <td>1.950000</td>\n",
       "      <td>3.453</td>\n",
       "      <td>68.1</td>\n",
       "      <td>7.3073</td>\n",
       "      <td>No transport options</td>\n",
       "      <td>300</td>\n",
       "      <td>15.3</td>\n",
       "      <td>394.72</td>\n",
       "      <td>2.0575</td>\n",
       "      <td>-0.083804</td>\n",
       "      <td>c_65</td>\n",
       "      <td>0</td>\n",
       "      <td>4</td>\n",
       "      <td>64</td>\n",
       "    </tr>\n",
       "    <tr>\n",
       "      <th>4</th>\n",
       "      <td>193</td>\n",
       "      <td>0.016182</td>\n",
       "      <td>100.0</td>\n",
       "      <td>1.32</td>\n",
       "      <td>no</td>\n",
       "      <td>3.050000</td>\n",
       "      <td>3.816</td>\n",
       "      <td>59.5</td>\n",
       "      <td>8.3248</td>\n",
       "      <td>Average transport options</td>\n",
       "      <td>256</td>\n",
       "      <td>15.1</td>\n",
       "      <td>392.90</td>\n",
       "      <td>0.9875</td>\n",
       "      <td>0.962693</td>\n",
       "      <td>c_97</td>\n",
       "      <td>0</td>\n",
       "      <td>1</td>\n",
       "      <td>95</td>\n",
       "    </tr>\n",
       "    <tr>\n",
       "      <th>5</th>\n",
       "      <td>160</td>\n",
       "      <td>0.068659</td>\n",
       "      <td>0.0</td>\n",
       "      <td>11.93</td>\n",
       "      <td>no</td>\n",
       "      <td>11.150000</td>\n",
       "      <td>3.976</td>\n",
       "      <td>9.0</td>\n",
       "      <td>2.1675</td>\n",
       "      <td>No transport options</td>\n",
       "      <td>273</td>\n",
       "      <td>21.0</td>\n",
       "      <td>396.90</td>\n",
       "      <td>1.4100</td>\n",
       "      <td>0.123316</td>\n",
       "      <td>c_69</td>\n",
       "      <td>0</td>\n",
       "      <td>4</td>\n",
       "      <td>68</td>\n",
       "    </tr>\n",
       "    <tr>\n",
       "      <th>6</th>\n",
       "      <td>43</td>\n",
       "      <td>0.254126</td>\n",
       "      <td>12.5</td>\n",
       "      <td>7.87</td>\n",
       "      <td>no</td>\n",
       "      <td>8.700000</td>\n",
       "      <td>3.377</td>\n",
       "      <td>5.7</td>\n",
       "      <td>6.3467</td>\n",
       "      <td>Average transport options</td>\n",
       "      <td>311</td>\n",
       "      <td>15.2</td>\n",
       "      <td>392.52</td>\n",
       "      <td>5.1125</td>\n",
       "      <td>-0.846874</td>\n",
       "      <td>c_22</td>\n",
       "      <td>0</td>\n",
       "      <td>1</td>\n",
       "      <td>21</td>\n",
       "    </tr>\n",
       "  </tbody>\n",
       "</table>\n",
       "</div>"
      ],
      "text/plain": [
       "   location_id  crime_rate  proportion_flats  proportion_nonretail new_store  \\\n",
       "0          464   17.600541               0.0                 18.10        no   \n",
       "1          504    0.603556              20.0                  3.97        no   \n",
       "2          295    0.606810               0.0                  6.20        no   \n",
       "3          187    0.012385              55.0                  2.25        no   \n",
       "4          193    0.016182             100.0                  1.32        no   \n",
       "5          160    0.068659               0.0                 11.93        no   \n",
       "6           43    0.254126              12.5                  7.87        no   \n",
       "\n",
       "   commercial_property  household_size  proportion_newbuilds  \\\n",
       "0            16.868557           2.926                  29.0   \n",
       "1            14.850000           4.520                  10.6   \n",
       "2             7.700000           2.981                  31.9   \n",
       "3             1.950000           3.453                  68.1   \n",
       "4             3.050000           3.816                  59.5   \n",
       "5            11.150000           3.976                   9.0   \n",
       "6             8.700000           3.377                   5.7   \n",
       "\n",
       "   public_transport_dist     transport_availability  property_value  \\\n",
       "0                 2.9084      All transport options             666   \n",
       "1                 2.1398  Average transport options             264   \n",
       "2                 3.6715     Many transport options             307   \n",
       "3                 7.3073       No transport options             300   \n",
       "4                 8.3248  Average transport options             256   \n",
       "5                 2.1675       No transport options             273   \n",
       "6                 6.3467  Average transport options             311   \n",
       "\n",
       "   school_proximity  competitor_density  household_affluency  \\\n",
       "0              20.2              368.74               4.5325   \n",
       "1              13.0              388.37               1.8150   \n",
       "2              17.4              378.35               2.9125   \n",
       "3              15.3              394.72               2.0575   \n",
       "4              15.1              392.90               0.9875   \n",
       "5              21.0              396.90               1.4100   \n",
       "6              15.2              392.52               5.1125   \n",
       "\n",
       "   normalised_sales county  new_store_cat  transport_availability_cat  \\\n",
       "0         -0.399933   c_40              0                           0   \n",
       "1          2.216308   c_80              0                           1   \n",
       "2          0.166920   c_53              0                           3   \n",
       "3         -0.083804   c_65              0                           4   \n",
       "4          0.962693   c_97              0                           1   \n",
       "5          0.123316   c_69              0                           4   \n",
       "6         -0.846874   c_22              0                           1   \n",
       "\n",
       "   county_cat  \n",
       "0          39  \n",
       "1          80  \n",
       "2          52  \n",
       "3          64  \n",
       "4          95  \n",
       "5          68  \n",
       "6          21  "
      ]
     },
     "execution_count": 104,
     "metadata": {},
     "output_type": "execute_result"
    }
   ],
   "source": [
    "df_train_cat_enc.head(7)"
   ]
  },
  {
   "cell_type": "markdown",
   "metadata": {},
   "source": [
    "## 7. Feature Selection"
   ]
  },
  {
   "cell_type": "code",
   "execution_count": 105,
   "metadata": {},
   "outputs": [],
   "source": [
    "feature_set = ['crime_rate',\n",
    "'proportion_flats',\n",
    "'proportion_nonretail',\n",
    "'household_size',\n",
    "'proportion_newbuilds',\n",
    "'public_transport_dist',\n",
    "'property_value',\n",
    "'competitor_density',\n",
    "'household_affluency',\n",
    "'school_proximity',\n",
    "'commercial_property',\n",
    "'new_store_cat',\n",
    "'transport_availability_cat',\n",
    "'county_cat']\n"
   ]
  },
  {
   "cell_type": "markdown",
   "metadata": {},
   "source": [
    "## 8. Model Dataset Preparation"
   ]
  },
  {
   "cell_type": "code",
   "execution_count": 106,
   "metadata": {},
   "outputs": [],
   "source": [
    "train_data = df_train_cat_enc\n",
    "exog = train_data[feature_set]\n",
    "endog = train_data['normalised_sales']\n"
   ]
  },
  {
   "cell_type": "code",
   "execution_count": 107,
   "metadata": {},
   "outputs": [],
   "source": [
    "# Insample train and validation split\n",
    "x_train, x_test, y_train, y_test = train_test_split(exog, endog, test_size=0.2, random_state=42)\n"
   ]
  },
  {
   "cell_type": "markdown",
   "metadata": {},
   "source": [
    "## 9. Model Build"
   ]
  },
  {
   "cell_type": "code",
   "execution_count": 108,
   "metadata": {},
   "outputs": [],
   "source": [
    "# Need to use random forest regressor\n",
    "rf = RandomForestRegressor(random_state = 42)"
   ]
  },
  {
   "cell_type": "code",
   "execution_count": 109,
   "metadata": {},
   "outputs": [
    {
     "name": "stdout",
     "output_type": "stream",
     "text": [
      "Parameters currently in use:\n",
      "\n",
      "{'bootstrap': True,\n",
      " 'ccp_alpha': 0.0,\n",
      " 'criterion': 'mse',\n",
      " 'max_depth': None,\n",
      " 'max_features': 'auto',\n",
      " 'max_leaf_nodes': None,\n",
      " 'max_samples': None,\n",
      " 'min_impurity_decrease': 0.0,\n",
      " 'min_impurity_split': None,\n",
      " 'min_samples_leaf': 1,\n",
      " 'min_samples_split': 2,\n",
      " 'min_weight_fraction_leaf': 0.0,\n",
      " 'n_estimators': 100,\n",
      " 'n_jobs': None,\n",
      " 'oob_score': False,\n",
      " 'random_state': 42,\n",
      " 'verbose': 0,\n",
      " 'warm_start': False}\n"
     ]
    }
   ],
   "source": [
    "# Parameters used by the current forest\n",
    "print('Parameters currently in use:\\n')\n",
    "pprint(rf.get_params())"
   ]
  },
  {
   "cell_type": "markdown",
   "metadata": {},
   "source": [
    "## 10. Hyperparameter Tuning and Choose the Best Model"
   ]
  },
  {
   "cell_type": "code",
   "execution_count": 110,
   "metadata": {},
   "outputs": [],
   "source": [
    "# Number of trees in random forest\n",
    "n_estimators = [int(x) for x in np.linspace(start = 100, stop = 2000, num = 20)]\n",
    "\n",
    "# Number of features to consider at every split\n",
    "max_features = ['auto', 'sqrt']\n",
    "\n",
    "# Maximum number of levels in tree\n",
    "max_depth = [int(x) for x in np.linspace(1, 50, num = 15)]\n",
    "max_depth.append(None)\n",
    "\n",
    "# Minimum number of samples required to split a node\n",
    "min_samples_split = [2, 5, 10]\n",
    "\n",
    "# Minimum number of samples required at each leaf node\n",
    "min_samples_leaf = [1, 2, 4]\n",
    "\n",
    "# Method of selecting samples for training each tree\n",
    "bootstrap = [True, False]\n"
   ]
  },
  {
   "cell_type": "markdown",
   "metadata": {},
   "source": [
    "#### Random Hyperparameter Grid"
   ]
  },
  {
   "cell_type": "code",
   "execution_count": 111,
   "metadata": {},
   "outputs": [
    {
     "name": "stdout",
     "output_type": "stream",
     "text": [
      "{'bootstrap': [True, False],\n",
      " 'max_depth': [1, 4, 8, 11, 15, 18, 22, 25, 29, 32, 36, 39, 43, 46, 50, None],\n",
      " 'max_features': ['auto', 'sqrt'],\n",
      " 'min_samples_leaf': [1, 2, 4],\n",
      " 'min_samples_split': [2, 5, 10],\n",
      " 'n_estimators': [100,\n",
      "                  200,\n",
      "                  300,\n",
      "                  400,\n",
      "                  500,\n",
      "                  600,\n",
      "                  700,\n",
      "                  800,\n",
      "                  900,\n",
      "                  1000,\n",
      "                  1100,\n",
      "                  1200,\n",
      "                  1300,\n",
      "                  1400,\n",
      "                  1500,\n",
      "                  1600,\n",
      "                  1700,\n",
      "                  1800,\n",
      "                  1900,\n",
      "                  2000]}\n"
     ]
    }
   ],
   "source": [
    "# Create the random grid\n",
    "random_grid = {'n_estimators': n_estimators,\n",
    "               'max_features': max_features,\n",
    "               'max_depth': max_depth,\n",
    "               'min_samples_split': min_samples_split,\n",
    "               'min_samples_leaf': min_samples_leaf,\n",
    "               'bootstrap': bootstrap}\n",
    "pprint(random_grid)"
   ]
  },
  {
   "cell_type": "markdown",
   "metadata": {},
   "source": [
    "#### Random Search Training"
   ]
  },
  {
   "cell_type": "code",
   "execution_count": 112,
   "metadata": {},
   "outputs": [
    {
     "name": "stdout",
     "output_type": "stream",
     "text": [
      "Fitting 3 folds for each of 100 candidates, totalling 300 fits\n"
     ]
    },
    {
     "name": "stderr",
     "output_type": "stream",
     "text": [
      "[Parallel(n_jobs=-1)]: Using backend LokyBackend with 16 concurrent workers.\n",
      "[Parallel(n_jobs=-1)]: Done   9 tasks      | elapsed:    3.3s\n",
      "[Parallel(n_jobs=-1)]: Done 130 tasks      | elapsed:   19.8s\n",
      "[Parallel(n_jobs=-1)]: Done 300 out of 300 | elapsed:   44.4s finished\n"
     ]
    },
    {
     "data": {
      "text/plain": [
       "RandomizedSearchCV(cv=3, error_score=nan,\n",
       "                   estimator=RandomForestRegressor(bootstrap=True,\n",
       "                                                   ccp_alpha=0.0,\n",
       "                                                   criterion='mse',\n",
       "                                                   max_depth=None,\n",
       "                                                   max_features='auto',\n",
       "                                                   max_leaf_nodes=None,\n",
       "                                                   max_samples=None,\n",
       "                                                   min_impurity_decrease=0.0,\n",
       "                                                   min_impurity_split=None,\n",
       "                                                   min_samples_leaf=1,\n",
       "                                                   min_samples_split=2,\n",
       "                                                   min_weight_fraction_leaf=0.0,\n",
       "                                                   n_estimators=100,\n",
       "                                                   n_jobs=None, oob_score=Fals...\n",
       "                                        'max_depth': [1, 4, 8, 11, 15, 18, 22,\n",
       "                                                      25, 29, 32, 36, 39, 43,\n",
       "                                                      46, 50, None],\n",
       "                                        'max_features': ['auto', 'sqrt'],\n",
       "                                        'min_samples_leaf': [1, 2, 4],\n",
       "                                        'min_samples_split': [2, 5, 10],\n",
       "                                        'n_estimators': [100, 200, 300, 400,\n",
       "                                                         500, 600, 700, 800,\n",
       "                                                         900, 1000, 1100, 1200,\n",
       "                                                         1300, 1400, 1500, 1600,\n",
       "                                                         1700, 1800, 1900,\n",
       "                                                         2000]},\n",
       "                   pre_dispatch='2*n_jobs', random_state=42, refit=True,\n",
       "                   return_train_score=False, scoring=None, verbose=2)"
      ]
     },
     "execution_count": 112,
     "metadata": {},
     "output_type": "execute_result"
    }
   ],
   "source": [
    "rf = RandomForestRegressor()\n",
    "\n",
    "# Random search of parameters, using 3 fold cross validation\n",
    "# Search across 100 different combinations, and by using all available cores\n",
    "rf_random = RandomizedSearchCV(estimator = rf, param_distributions = random_grid, n_iter = 100, cv = 3, verbose=2, random_state=42, n_jobs = -1)\n",
    "\n",
    "# Fit the random search model\n",
    "rf_random.fit(x_train, y_train)"
   ]
  },
  {
   "cell_type": "markdown",
   "metadata": {},
   "source": [
    "#### Best Hyperparameters"
   ]
  },
  {
   "cell_type": "code",
   "execution_count": 113,
   "metadata": {},
   "outputs": [
    {
     "data": {
      "text/plain": [
       "{'n_estimators': 200,\n",
       " 'min_samples_split': 5,\n",
       " 'min_samples_leaf': 1,\n",
       " 'max_features': 'sqrt',\n",
       " 'max_depth': 11,\n",
       " 'bootstrap': False}"
      ]
     },
     "execution_count": 113,
     "metadata": {},
     "output_type": "execute_result"
    }
   ],
   "source": [
    "rf_random.best_params_"
   ]
  },
  {
   "cell_type": "markdown",
   "metadata": {},
   "source": [
    "#### Evaluate Random Search"
   ]
  },
  {
   "cell_type": "code",
   "execution_count": 114,
   "metadata": {},
   "outputs": [],
   "source": [
    "def evaluate(model, test_features, test_labels):\n",
    "    predictions = model.predict(test_features)\n",
    "    errors = abs(predictions - test_labels)\n",
    "    mape = 100 * abs(np.mean(errors / test_labels))\n",
    "    accuracy = 100 - mape\n",
    "    print('Model Performance:')\n",
    "#     print('Average Error: {:0.4f}'.format(np.mean(errors)))\n",
    "    print('Accuracy = {:0.2f}%'.format(accuracy))\n",
    "    print(mape)\n",
    "    \n",
    "    return accuracy\n"
   ]
  },
  {
   "cell_type": "markdown",
   "metadata": {},
   "source": [
    "* Base Model"
   ]
  },
  {
   "cell_type": "code",
   "execution_count": 115,
   "metadata": {},
   "outputs": [
    {
     "name": "stdout",
     "output_type": "stream",
     "text": [
      "Model Performance:\n",
      "Accuracy = 93.03%\n",
      "6.9740077280881945\n"
     ]
    }
   ],
   "source": [
    "base_model = RandomForestRegressor(n_estimators = 10, random_state = 42)\n",
    "base_model.fit(x_train, y_train)\n",
    "base_accuracy = evaluate(base_model, x_test, y_test)"
   ]
  },
  {
   "cell_type": "markdown",
   "metadata": {},
   "source": [
    "* Random Model"
   ]
  },
  {
   "cell_type": "code",
   "execution_count": 116,
   "metadata": {},
   "outputs": [
    {
     "name": "stdout",
     "output_type": "stream",
     "text": [
      "Model Performance:\n",
      "Accuracy = 94.44%\n",
      "5.555361843714943\n"
     ]
    }
   ],
   "source": [
    "best_random = rf_random.best_estimator_\n",
    "random_accuracy = evaluate(best_random, x_test, y_test)"
   ]
  },
  {
   "cell_type": "markdown",
   "metadata": {},
   "source": [
    "## 11. Performance Comparison"
   ]
  },
  {
   "cell_type": "markdown",
   "metadata": {},
   "source": [
    "* Improvement in Accuracy"
   ]
  },
  {
   "cell_type": "code",
   "execution_count": 117,
   "metadata": {},
   "outputs": [
    {
     "name": "stdout",
     "output_type": "stream",
     "text": [
      "Improvement of 1.52%.\n"
     ]
    }
   ],
   "source": [
    "print('Improvement of {:0.2f}%.'.format( 100 * (random_accuracy - base_accuracy) / base_accuracy))\n"
   ]
  },
  {
   "cell_type": "markdown",
   "metadata": {},
   "source": [
    "#### Save the model as a pickle file"
   ]
  },
  {
   "cell_type": "code",
   "execution_count": 118,
   "metadata": {},
   "outputs": [],
   "source": [
    "# save the model to disk\n",
    "filename = 'tesco_dataset_model.pickle'\n",
    "pickle.dump(best_random, open(filename, 'wb'))"
   ]
  },
  {
   "cell_type": "markdown",
   "metadata": {},
   "source": [
    "## 12. Feature Importance"
   ]
  },
  {
   "cell_type": "code",
   "execution_count": 119,
   "metadata": {},
   "outputs": [
    {
     "data": {
      "text/plain": [
       "array([0.05541703, 0.00756252, 0.05700888, 0.24340468, 0.02726652,\n",
       "       0.0482159 , 0.04062147, 0.02313074, 0.23463765, 0.04430008,\n",
       "       0.02954039, 0.00307885, 0.00971222, 0.17610306])"
      ]
     },
     "execution_count": 119,
     "metadata": {},
     "output_type": "execute_result"
    }
   ],
   "source": [
    "importances = best_random.feature_importances_\n",
    "importances"
   ]
  },
  {
   "cell_type": "code",
   "execution_count": 120,
   "metadata": {},
   "outputs": [
    {
     "data": {
      "image/png": "[encoded data removed]",
      "text/plain": [
       "<Figure size 432x288 with 1 Axes>"
      ]
     },
     "metadata": {},
     "output_type": "display_data"
    }
   ],
   "source": [
    "features = exog.columns\n",
    "importances = best_random.feature_importances_\n",
    "indices = np.argsort(importances)\n",
    "\n",
    "plt.title('Feature Importances')\n",
    "plt.barh(range(len(indices)), importances[indices], color='b', align='center')\n",
    "plt.yticks(range(len(indices)), [features[i] for i in indices])\n",
    "plt.xlabel('Relative Importance')\n",
    "plt.show()"
   ]
  },
  {
   "cell_type": "markdown",
   "metadata": {},
   "source": [
    "##### Comparison between correlation matrix and feature_importance from the Random Forest Model"
   ]
  },
  {
   "cell_type": "code",
   "execution_count": 121,
   "metadata": {},
   "outputs": [],
   "source": [
    "# Make correlation table\n",
    "corr_1 = train_data.corr()"
   ]
  },
  {
   "cell_type": "code",
   "execution_count": 122,
   "metadata": {},
   "outputs": [
    {
     "data": {
      "image/png": "[encoded data removed]",
      "text/plain": [
       "<Figure size 1080x1080 with 2 Axes>"
      ]
     },
     "metadata": {},
     "output_type": "display_data"
    }
   ],
   "source": [
    "# Generate a mask for the upper triangle\n",
    "mask = np.triu(np.ones_like(corr_1, dtype=np.bool))\n",
    "\n",
    "# Visualisation of heatmap matrix\n",
    "fig, ax = plt.subplots(figsize=(15,15))\n",
    "ax = sns.heatmap(corr_1, mask=mask, annot = True)"
   ]
  },
  {
   "cell_type": "markdown",
   "metadata": {},
   "source": [
    "###### Findings\n",
    "1. household_affluency and household_size are the 2 most significant features in both the feature selection method\n",
    "2. county: When correlation matrix doesn't hold that strong, this helps in splitting the tree when feeded into the model"
   ]
  },
  {
   "cell_type": "markdown",
   "metadata": {},
   "source": [
    "* Below is a snapshot of how does the prediction, actual and error looks like ?"
   ]
  },
  {
   "cell_type": "code",
   "execution_count": 123,
   "metadata": {},
   "outputs": [
    {
     "data": {
      "text/plain": [
       "0    1.799207\n",
       "1   -0.412909\n",
       "2   -0.308943\n",
       "Name: y_pred, dtype: float64"
      ]
     },
     "execution_count": 123,
     "metadata": {},
     "output_type": "execute_result"
    }
   ],
   "source": [
    "# Predictions for hold out 20% data out of training set\n",
    "predictions_1 = pd.DataFrame(data=best_random.predict(x_test), columns=['y_pred'])\n",
    "predictions_1['y_pred'].head(3)"
   ]
  },
  {
   "cell_type": "code",
   "execution_count": 124,
   "metadata": {},
   "outputs": [],
   "source": [
    "# Define the actual values for normalised_sales\n",
    "df_y_test = pd.DataFrame(data=y_test.values, columns=['y_act'])"
   ]
  },
  {
   "cell_type": "code",
   "execution_count": 125,
   "metadata": {},
   "outputs": [],
   "source": [
    "# Type cast the predictions and actual values as a Dataframe\n",
    "df_compare_pred_act = pd.DataFrame()\n",
    "df_compare_pred_act['pred'] = predictions_1['y_pred']\n",
    "df_compare_pred_act['act'] = df_y_test['y_act']"
   ]
  },
  {
   "cell_type": "code",
   "execution_count": 126,
   "metadata": {},
   "outputs": [],
   "source": [
    "# Define Error\n",
    "df_compare_pred_act['error'] = abs(df_compare_pred_act['pred']-df_compare_pred_act['act'])"
   ]
  },
  {
   "cell_type": "code",
   "execution_count": 127,
   "metadata": {},
   "outputs": [
    {
     "data": {
      "text/html": [
       "<div>\n",
       "<style scoped>\n",
       "    .dataframe tbody tr th:only-of-type {\n",
       "        vertical-align: middle;\n",
       "    }\n",
       "\n",
       "    .dataframe tbody tr th {\n",
       "        vertical-align: top;\n",
       "    }\n",
       "\n",
       "    .dataframe thead th {\n",
       "        text-align: right;\n",
       "    }\n",
       "</style>\n",
       "<table border=\"1\" class=\"dataframe\">\n",
       "  <thead>\n",
       "    <tr style=\"text-align: right;\">\n",
       "      <th></th>\n",
       "      <th>pred</th>\n",
       "      <th>act</th>\n",
       "      <th>error</th>\n",
       "    </tr>\n",
       "  </thead>\n",
       "  <tbody>\n",
       "    <tr>\n",
       "      <th>0</th>\n",
       "      <td>1.799207</td>\n",
       "      <td>2.259912</td>\n",
       "      <td>0.460706</td>\n",
       "    </tr>\n",
       "    <tr>\n",
       "      <th>1</th>\n",
       "      <td>-0.412909</td>\n",
       "      <td>-0.290923</td>\n",
       "      <td>0.121986</td>\n",
       "    </tr>\n",
       "    <tr>\n",
       "      <th>2</th>\n",
       "      <td>-0.308943</td>\n",
       "      <td>-0.574349</td>\n",
       "      <td>0.265406</td>\n",
       "    </tr>\n",
       "    <tr>\n",
       "      <th>3</th>\n",
       "      <td>-0.236864</td>\n",
       "      <td>-0.301824</td>\n",
       "      <td>0.064959</td>\n",
       "    </tr>\n",
       "    <tr>\n",
       "      <th>4</th>\n",
       "      <td>-0.655076</td>\n",
       "      <td>-0.694260</td>\n",
       "      <td>0.039184</td>\n",
       "    </tr>\n",
       "    <tr>\n",
       "      <th>5</th>\n",
       "      <td>-0.200496</td>\n",
       "      <td>-0.083804</td>\n",
       "      <td>0.116692</td>\n",
       "    </tr>\n",
       "    <tr>\n",
       "      <th>6</th>\n",
       "      <td>-0.191219</td>\n",
       "      <td>-0.356329</td>\n",
       "      <td>0.165110</td>\n",
       "    </tr>\n",
       "  </tbody>\n",
       "</table>\n",
       "</div>"
      ],
      "text/plain": [
       "       pred       act     error\n",
       "0  1.799207  2.259912  0.460706\n",
       "1 -0.412909 -0.290923  0.121986\n",
       "2 -0.308943 -0.574349  0.265406\n",
       "3 -0.236864 -0.301824  0.064959\n",
       "4 -0.655076 -0.694260  0.039184\n",
       "5 -0.200496 -0.083804  0.116692\n",
       "6 -0.191219 -0.356329  0.165110"
      ]
     },
     "execution_count": 127,
     "metadata": {},
     "output_type": "execute_result"
    }
   ],
   "source": [
    "# Snapshot for Predictions, Actual and Error\n",
    "df_compare_pred_act.head(7)"
   ]
  },
  {
   "cell_type": "code",
   "execution_count": 128,
   "metadata": {},
   "outputs": [
    {
     "data": {
      "text/html": [
       "<div>\n",
       "<style scoped>\n",
       "    .dataframe tbody tr th:only-of-type {\n",
       "        vertical-align: middle;\n",
       "    }\n",
       "\n",
       "    .dataframe tbody tr th {\n",
       "        vertical-align: top;\n",
       "    }\n",
       "\n",
       "    .dataframe thead th {\n",
       "        text-align: right;\n",
       "    }\n",
       "</style>\n",
       "<table border=\"1\" class=\"dataframe\">\n",
       "  <thead>\n",
       "    <tr style=\"text-align: right;\">\n",
       "      <th></th>\n",
       "      <th>location_id</th>\n",
       "      <th>crime_rate</th>\n",
       "      <th>proportion_flats</th>\n",
       "      <th>proportion_nonretail</th>\n",
       "      <th>new_store</th>\n",
       "      <th>commercial_property</th>\n",
       "      <th>household_size</th>\n",
       "      <th>proportion_newbuilds</th>\n",
       "      <th>public_transport_dist</th>\n",
       "      <th>transport_availability</th>\n",
       "      <th>property_value</th>\n",
       "      <th>school_proximity</th>\n",
       "      <th>competitor_density</th>\n",
       "      <th>household_affluency</th>\n",
       "      <th>county</th>\n",
       "    </tr>\n",
       "  </thead>\n",
       "  <tbody>\n",
       "    <tr>\n",
       "      <th>0</th>\n",
       "      <td>105</td>\n",
       "      <td>0.039968</td>\n",
       "      <td>34.0</td>\n",
       "      <td>6.09</td>\n",
       "      <td>no</td>\n",
       "      <td>4.15</td>\n",
       "      <td>3.590</td>\n",
       "      <td>59.6</td>\n",
       "      <td>5.4917</td>\n",
       "      <td>Many transport options</td>\n",
       "      <td>329</td>\n",
       "      <td>16.1</td>\n",
       "      <td>395.75</td>\n",
       "      <td>2.3750</td>\n",
       "      <td>c_42</td>\n",
       "    </tr>\n",
       "    <tr>\n",
       "      <th>1</th>\n",
       "      <td>400</td>\n",
       "      <td>0.587758</td>\n",
       "      <td>20.0</td>\n",
       "      <td>3.97</td>\n",
       "      <td>no</td>\n",
       "      <td>14.85</td>\n",
       "      <td>5.398</td>\n",
       "      <td>8.5</td>\n",
       "      <td>2.2885</td>\n",
       "      <td>Average transport options</td>\n",
       "      <td>264</td>\n",
       "      <td>13.0</td>\n",
       "      <td>386.86</td>\n",
       "      <td>1.4775</td>\n",
       "      <td>c_140</td>\n",
       "    </tr>\n",
       "    <tr>\n",
       "      <th>2</th>\n",
       "      <td>338</td>\n",
       "      <td>1.116926</td>\n",
       "      <td>0.0</td>\n",
       "      <td>8.14</td>\n",
       "      <td>no</td>\n",
       "      <td>9.40</td>\n",
       "      <td>2.813</td>\n",
       "      <td>0.0</td>\n",
       "      <td>4.0952</td>\n",
       "      <td>Few transport options</td>\n",
       "      <td>307</td>\n",
       "      <td>NaN</td>\n",
       "      <td>394.54</td>\n",
       "      <td>4.9700</td>\n",
       "      <td>c_55</td>\n",
       "    </tr>\n",
       "    <tr>\n",
       "      <th>3</th>\n",
       "      <td>227</td>\n",
       "      <td>1.517409</td>\n",
       "      <td>0.0</td>\n",
       "      <td>19.58</td>\n",
       "      <td>no</td>\n",
       "      <td>12.75</td>\n",
       "      <td>3.066</td>\n",
       "      <td>0.0</td>\n",
       "      <td>1.7573</td>\n",
       "      <td>Average transport options</td>\n",
       "      <td>403</td>\n",
       "      <td>14.7</td>\n",
       "      <td>353.89</td>\n",
       "      <td>1.6075</td>\n",
       "      <td>c_62</td>\n",
       "    </tr>\n",
       "    <tr>\n",
       "      <th>4</th>\n",
       "      <td>114</td>\n",
       "      <td>83.093533</td>\n",
       "      <td>0.0</td>\n",
       "      <td>18.10</td>\n",
       "      <td>no</td>\n",
       "      <td>16.45</td>\n",
       "      <td>2.957</td>\n",
       "      <td>0.0</td>\n",
       "      <td>1.8026</td>\n",
       "      <td>All transport options</td>\n",
       "      <td>666</td>\n",
       "      <td>20.2</td>\n",
       "      <td>16.45</td>\n",
       "      <td>5.1550</td>\n",
       "      <td>c_22</td>\n",
       "    </tr>\n",
       "    <tr>\n",
       "      <th>5</th>\n",
       "      <td>203</td>\n",
       "      <td>10.988323</td>\n",
       "      <td>0.0</td>\n",
       "      <td>18.10</td>\n",
       "      <td>no</td>\n",
       "      <td>19.50</td>\n",
       "      <td>3.406</td>\n",
       "      <td>2.8</td>\n",
       "      <td>2.0651</td>\n",
       "      <td>All transport options</td>\n",
       "      <td>666</td>\n",
       "      <td>20.2</td>\n",
       "      <td>385.96</td>\n",
       "      <td>4.8800</td>\n",
       "      <td>c_19</td>\n",
       "    </tr>\n",
       "    <tr>\n",
       "      <th>6</th>\n",
       "      <td>12</td>\n",
       "      <td>0.159895</td>\n",
       "      <td>0.0</td>\n",
       "      <td>6.91</td>\n",
       "      <td>no</td>\n",
       "      <td>4.90</td>\n",
       "      <td>3.169</td>\n",
       "      <td>93.4</td>\n",
       "      <td>5.7209</td>\n",
       "      <td>No transport options</td>\n",
       "      <td>233</td>\n",
       "      <td>17.9</td>\n",
       "      <td>383.37</td>\n",
       "      <td>1.4525</td>\n",
       "      <td>c_63</td>\n",
       "    </tr>\n",
       "    <tr>\n",
       "      <th>7</th>\n",
       "      <td>199</td>\n",
       "      <td>9.341992</td>\n",
       "      <td>0.0</td>\n",
       "      <td>18.10</td>\n",
       "      <td>yes</td>\n",
       "      <td>15.90</td>\n",
       "      <td>2.875</td>\n",
       "      <td>10.4</td>\n",
       "      <td>1.1296</td>\n",
       "      <td>All transport options</td>\n",
       "      <td>666</td>\n",
       "      <td>20.2</td>\n",
       "      <td>347.88</td>\n",
       "      <td>2.2200</td>\n",
       "      <td>c_107</td>\n",
       "    </tr>\n",
       "    <tr>\n",
       "      <th>8</th>\n",
       "      <td>477</td>\n",
       "      <td>0.010238</td>\n",
       "      <td>90.0</td>\n",
       "      <td>2.97</td>\n",
       "      <td>no</td>\n",
       "      <td>2.50</td>\n",
       "      <td>4.088</td>\n",
       "      <td>79.2</td>\n",
       "      <td>7.3073</td>\n",
       "      <td>No transport options</td>\n",
       "      <td>285</td>\n",
       "      <td>15.3</td>\n",
       "      <td>394.72</td>\n",
       "      <td>1.9625</td>\n",
       "      <td>c_69</td>\n",
       "    </tr>\n",
       "    <tr>\n",
       "      <th>9</th>\n",
       "      <td>341</td>\n",
       "      <td>0.216802</td>\n",
       "      <td>0.0</td>\n",
       "      <td>7.38</td>\n",
       "      <td>no</td>\n",
       "      <td>7.15</td>\n",
       "      <td>3.431</td>\n",
       "      <td>85.3</td>\n",
       "      <td>5.4159</td>\n",
       "      <td>Average transport options</td>\n",
       "      <td>287</td>\n",
       "      <td>19.6</td>\n",
       "      <td>393.68</td>\n",
       "      <td>1.2700</td>\n",
       "      <td>c_58</td>\n",
       "    </tr>\n",
       "    <tr>\n",
       "      <th>10</th>\n",
       "      <td>136</td>\n",
       "      <td>5.751892</td>\n",
       "      <td>0.0</td>\n",
       "      <td>18.10</td>\n",
       "      <td>no</td>\n",
       "      <td>18.15</td>\n",
       "      <td>3.297</td>\n",
       "      <td>8.2</td>\n",
       "      <td>2.3682</td>\n",
       "      <td>All transport options</td>\n",
       "      <td>666</td>\n",
       "      <td>NaN</td>\n",
       "      <td>385.09</td>\n",
       "      <td>4.3175</td>\n",
       "      <td>c_56</td>\n",
       "    </tr>\n",
       "    <tr>\n",
       "      <th>11</th>\n",
       "      <td>148</td>\n",
       "      <td>0.650078</td>\n",
       "      <td>0.0</td>\n",
       "      <td>6.20</td>\n",
       "      <td>no</td>\n",
       "      <td>7.85</td>\n",
       "      <td>5.337</td>\n",
       "      <td>26.7</td>\n",
       "      <td>3.8384</td>\n",
       "      <td>Many transport options</td>\n",
       "      <td>307</td>\n",
       "      <td>17.4</td>\n",
       "      <td>385.91</td>\n",
       "      <td>0.6175</td>\n",
       "      <td>c_122</td>\n",
       "    </tr>\n",
       "    <tr>\n",
       "      <th>12</th>\n",
       "      <td>363</td>\n",
       "      <td>0.148222</td>\n",
       "      <td>0.0</td>\n",
       "      <td>8.56</td>\n",
       "      <td>no</td>\n",
       "      <td>NaN</td>\n",
       "      <td>3.127</td>\n",
       "      <td>14.8</td>\n",
       "      <td>2.1224</td>\n",
       "      <td>Average transport options</td>\n",
       "      <td>384</td>\n",
       "      <td>20.9</td>\n",
       "      <td>387.69</td>\n",
       "      <td>3.5225</td>\n",
       "      <td>c_63</td>\n",
       "    </tr>\n",
       "  </tbody>\n",
       "</table>\n",
       "</div>"
      ],
      "text/plain": [
       "    location_id  crime_rate  proportion_flats  proportion_nonretail new_store  \\\n",
       "0           105    0.039968              34.0                  6.09        no   \n",
       "1           400    0.587758              20.0                  3.97        no   \n",
       "2           338    1.116926               0.0                  8.14        no   \n",
       "3           227    1.517409               0.0                 19.58        no   \n",
       "4           114   83.093533               0.0                 18.10        no   \n",
       "5           203   10.988323               0.0                 18.10        no   \n",
       "6            12    0.159895               0.0                  6.91        no   \n",
       "7           199    9.341992               0.0                 18.10       yes   \n",
       "8           477    0.010238              90.0                  2.97        no   \n",
       "9           341    0.216802               0.0                  7.38        no   \n",
       "10          136    5.751892               0.0                 18.10        no   \n",
       "11          148    0.650078               0.0                  6.20        no   \n",
       "12          363    0.148222               0.0                  8.56        no   \n",
       "\n",
       "    commercial_property  household_size  proportion_newbuilds  \\\n",
       "0                  4.15           3.590                  59.6   \n",
       "1                 14.85           5.398                   8.5   \n",
       "2                  9.40           2.813                   0.0   \n",
       "3                 12.75           3.066                   0.0   \n",
       "4                 16.45           2.957                   0.0   \n",
       "5                 19.50           3.406                   2.8   \n",
       "6                  4.90           3.169                  93.4   \n",
       "7                 15.90           2.875                  10.4   \n",
       "8                  2.50           4.088                  79.2   \n",
       "9                  7.15           3.431                  85.3   \n",
       "10                18.15           3.297                   8.2   \n",
       "11                 7.85           5.337                  26.7   \n",
       "12                  NaN           3.127                  14.8   \n",
       "\n",
       "    public_transport_dist     transport_availability  property_value  \\\n",
       "0                  5.4917     Many transport options             329   \n",
       "1                  2.2885  Average transport options             264   \n",
       "2                  4.0952      Few transport options             307   \n",
       "3                  1.7573  Average transport options             403   \n",
       "4                  1.8026      All transport options             666   \n",
       "5                  2.0651      All transport options             666   \n",
       "6                  5.7209       No transport options             233   \n",
       "7                  1.1296      All transport options             666   \n",
       "8                  7.3073       No transport options             285   \n",
       "9                  5.4159  Average transport options             287   \n",
       "10                 2.3682      All transport options             666   \n",
       "11                 3.8384     Many transport options             307   \n",
       "12                 2.1224  Average transport options             384   \n",
       "\n",
       "    school_proximity  competitor_density  household_affluency county  \n",
       "0               16.1              395.75               2.3750   c_42  \n",
       "1               13.0              386.86               1.4775  c_140  \n",
       "2                NaN              394.54               4.9700   c_55  \n",
       "3               14.7              353.89               1.6075   c_62  \n",
       "4               20.2               16.45               5.1550   c_22  \n",
       "5               20.2              385.96               4.8800   c_19  \n",
       "6               17.9              383.37               1.4525   c_63  \n",
       "7               20.2              347.88               2.2200  c_107  \n",
       "8               15.3              394.72               1.9625   c_69  \n",
       "9               19.6              393.68               1.2700   c_58  \n",
       "10               NaN              385.09               4.3175   c_56  \n",
       "11              17.4              385.91               0.6175  c_122  \n",
       "12              20.9              387.69               3.5225   c_63  "
      ]
     },
     "execution_count": 128,
     "metadata": {},
     "output_type": "execute_result"
    }
   ],
   "source": [
    "df_test"
   ]
  },
  {
   "cell_type": "markdown",
   "metadata": {},
   "source": [
    "### Prediction for Test Dataset"
   ]
  },
  {
   "cell_type": "code",
   "execution_count": 129,
   "metadata": {},
   "outputs": [],
   "source": [
    "df_val = df_test.copy()"
   ]
  },
  {
   "cell_type": "code",
   "execution_count": 130,
   "metadata": {},
   "outputs": [
    {
     "data": {
      "text/html": [
       "<div>\n",
       "<style scoped>\n",
       "    .dataframe tbody tr th:only-of-type {\n",
       "        vertical-align: middle;\n",
       "    }\n",
       "\n",
       "    .dataframe tbody tr th {\n",
       "        vertical-align: top;\n",
       "    }\n",
       "\n",
       "    .dataframe thead th {\n",
       "        text-align: right;\n",
       "    }\n",
       "</style>\n",
       "<table border=\"1\" class=\"dataframe\">\n",
       "  <thead>\n",
       "    <tr style=\"text-align: right;\">\n",
       "      <th></th>\n",
       "      <th>Missing_Value_Count</th>\n",
       "      <th>Missing_Value_Percentage</th>\n",
       "    </tr>\n",
       "  </thead>\n",
       "  <tbody>\n",
       "    <tr>\n",
       "      <th>school_proximity</th>\n",
       "      <td>2</td>\n",
       "      <td>15.384615</td>\n",
       "    </tr>\n",
       "    <tr>\n",
       "      <th>commercial_property</th>\n",
       "      <td>1</td>\n",
       "      <td>7.692308</td>\n",
       "    </tr>\n",
       "    <tr>\n",
       "      <th>location_id</th>\n",
       "      <td>0</td>\n",
       "      <td>0.000000</td>\n",
       "    </tr>\n",
       "    <tr>\n",
       "      <th>crime_rate</th>\n",
       "      <td>0</td>\n",
       "      <td>0.000000</td>\n",
       "    </tr>\n",
       "    <tr>\n",
       "      <th>proportion_flats</th>\n",
       "      <td>0</td>\n",
       "      <td>0.000000</td>\n",
       "    </tr>\n",
       "    <tr>\n",
       "      <th>proportion_nonretail</th>\n",
       "      <td>0</td>\n",
       "      <td>0.000000</td>\n",
       "    </tr>\n",
       "    <tr>\n",
       "      <th>new_store</th>\n",
       "      <td>0</td>\n",
       "      <td>0.000000</td>\n",
       "    </tr>\n",
       "    <tr>\n",
       "      <th>household_size</th>\n",
       "      <td>0</td>\n",
       "      <td>0.000000</td>\n",
       "    </tr>\n",
       "    <tr>\n",
       "      <th>proportion_newbuilds</th>\n",
       "      <td>0</td>\n",
       "      <td>0.000000</td>\n",
       "    </tr>\n",
       "    <tr>\n",
       "      <th>public_transport_dist</th>\n",
       "      <td>0</td>\n",
       "      <td>0.000000</td>\n",
       "    </tr>\n",
       "    <tr>\n",
       "      <th>transport_availability</th>\n",
       "      <td>0</td>\n",
       "      <td>0.000000</td>\n",
       "    </tr>\n",
       "    <tr>\n",
       "      <th>property_value</th>\n",
       "      <td>0</td>\n",
       "      <td>0.000000</td>\n",
       "    </tr>\n",
       "    <tr>\n",
       "      <th>competitor_density</th>\n",
       "      <td>0</td>\n",
       "      <td>0.000000</td>\n",
       "    </tr>\n",
       "    <tr>\n",
       "      <th>household_affluency</th>\n",
       "      <td>0</td>\n",
       "      <td>0.000000</td>\n",
       "    </tr>\n",
       "    <tr>\n",
       "      <th>county</th>\n",
       "      <td>0</td>\n",
       "      <td>0.000000</td>\n",
       "    </tr>\n",
       "  </tbody>\n",
       "</table>\n",
       "</div>"
      ],
      "text/plain": [
       "                        Missing_Value_Count  Missing_Value_Percentage\n",
       "school_proximity                          2                 15.384615\n",
       "commercial_property                       1                  7.692308\n",
       "location_id                               0                  0.000000\n",
       "crime_rate                                0                  0.000000\n",
       "proportion_flats                          0                  0.000000\n",
       "proportion_nonretail                      0                  0.000000\n",
       "new_store                                 0                  0.000000\n",
       "household_size                            0                  0.000000\n",
       "proportion_newbuilds                      0                  0.000000\n",
       "public_transport_dist                     0                  0.000000\n",
       "transport_availability                    0                  0.000000\n",
       "property_value                            0                  0.000000\n",
       "competitor_density                        0                  0.000000\n",
       "household_affluency                       0                  0.000000\n",
       "county                                    0                  0.000000"
      ]
     },
     "execution_count": 130,
     "metadata": {},
     "output_type": "execute_result"
    }
   ],
   "source": [
    "# Calculate missing value count and percentage\n",
    "\n",
    "missing_value_df_test = pd.DataFrame(index = df_val.keys(),data =df_val.isnull().sum(),columns = ['Missing_Value_Count'])\n",
    "missing_value_df_test['Missing_Value_Percentage'] = ((df_val.isnull().mean())*100)\n",
    "missing_value_df_test.sort_values('Missing_Value_Count',ascending= False)"
   ]
  },
  {
   "cell_type": "code",
   "execution_count": 131,
   "metadata": {},
   "outputs": [],
   "source": [
    "df_val['commercial_property'] = df_val['commercial_property'].fillna(df_val['commercial_property'].mean())\n",
    "df_val['school_proximity'] = df_val['school_proximity'].fillna(df_val['school_proximity'].mean())\n"
   ]
  },
  {
   "cell_type": "code",
   "execution_count": 132,
   "metadata": {},
   "outputs": [],
   "source": [
    "# Copying the dataset before encoding the categorical features\n",
    "df_val_cat_enc = df_val.copy()\n",
    "\n",
    "# Need to convert the datatypes of the features to 'category' before Label encoding.\n",
    "df_val_cat_enc[\"new_store\"] = df_val_cat_enc[\"new_store\"].astype('category')\n",
    "df_val_cat_enc[\"transport_availability\"] = df_val_cat_enc[\"transport_availability\"].astype('category')\n",
    "df_val_cat_enc[\"county\"] = df_val_cat_enc[\"county\"].astype('category')\n",
    "\n",
    "df_val_cat_enc[\"new_store_cat\"] = df_val_cat_enc[\"new_store\"].cat.codes\n",
    "df_val_cat_enc[\"transport_availability_cat\"] = df_val_cat_enc[\"transport_availability\"].cat.codes\n",
    "df_val_cat_enc[\"county_cat\"] = df_val_cat_enc[\"county\"].cat.codes"
   ]
  },
  {
   "cell_type": "code",
   "execution_count": 133,
   "metadata": {},
   "outputs": [],
   "source": [
    "test_data = df_val_cat_enc\n",
    "exog_test = test_data[feature_set]"
   ]
  },
  {
   "cell_type": "code",
   "execution_count": 134,
   "metadata": {},
   "outputs": [],
   "source": [
    "# Predictions for test dataset\n",
    "pred_test = pd.DataFrame(data=best_random.predict(exog_test), columns=['y_pred'])\n"
   ]
  },
  {
   "cell_type": "code",
   "execution_count": 135,
   "metadata": {},
   "outputs": [
    {
     "data": {
      "text/html": [
       "<div>\n",
       "<style scoped>\n",
       "    .dataframe tbody tr th:only-of-type {\n",
       "        vertical-align: middle;\n",
       "    }\n",
       "\n",
       "    .dataframe tbody tr th {\n",
       "        vertical-align: top;\n",
       "    }\n",
       "\n",
       "    .dataframe thead th {\n",
       "        text-align: right;\n",
       "    }\n",
       "</style>\n",
       "<table border=\"1\" class=\"dataframe\">\n",
       "  <thead>\n",
       "    <tr style=\"text-align: right;\">\n",
       "      <th></th>\n",
       "      <th>location_id</th>\n",
       "      <th>normalised_sales_pred</th>\n",
       "    </tr>\n",
       "  </thead>\n",
       "  <tbody>\n",
       "    <tr>\n",
       "      <th>0</th>\n",
       "      <td>105</td>\n",
       "      <td>0.825447</td>\n",
       "    </tr>\n",
       "    <tr>\n",
       "      <th>1</th>\n",
       "      <td>400</td>\n",
       "      <td>1.965394</td>\n",
       "    </tr>\n",
       "    <tr>\n",
       "      <th>2</th>\n",
       "      <td>338</td>\n",
       "      <td>0.557443</td>\n",
       "    </tr>\n",
       "    <tr>\n",
       "      <th>3</th>\n",
       "      <td>227</td>\n",
       "      <td>1.341925</td>\n",
       "    </tr>\n",
       "    <tr>\n",
       "      <th>4</th>\n",
       "      <td>114</td>\n",
       "      <td>-0.161379</td>\n",
       "    </tr>\n",
       "    <tr>\n",
       "      <th>5</th>\n",
       "      <td>203</td>\n",
       "      <td>0.291092</td>\n",
       "    </tr>\n",
       "    <tr>\n",
       "      <th>6</th>\n",
       "      <td>12</td>\n",
       "      <td>1.234385</td>\n",
       "    </tr>\n",
       "    <tr>\n",
       "      <th>7</th>\n",
       "      <td>199</td>\n",
       "      <td>1.757119</td>\n",
       "    </tr>\n",
       "    <tr>\n",
       "      <th>8</th>\n",
       "      <td>477</td>\n",
       "      <td>1.205195</td>\n",
       "    </tr>\n",
       "    <tr>\n",
       "      <th>9</th>\n",
       "      <td>341</td>\n",
       "      <td>1.359377</td>\n",
       "    </tr>\n",
       "    <tr>\n",
       "      <th>10</th>\n",
       "      <td>136</td>\n",
       "      <td>0.822536</td>\n",
       "    </tr>\n",
       "    <tr>\n",
       "      <th>11</th>\n",
       "      <td>148</td>\n",
       "      <td>2.527523</td>\n",
       "    </tr>\n",
       "    <tr>\n",
       "      <th>12</th>\n",
       "      <td>363</td>\n",
       "      <td>1.058851</td>\n",
       "    </tr>\n",
       "  </tbody>\n",
       "</table>\n",
       "</div>"
      ],
      "text/plain": [
       "    location_id  normalised_sales_pred\n",
       "0           105               0.825447\n",
       "1           400               1.965394\n",
       "2           338               0.557443\n",
       "3           227               1.341925\n",
       "4           114              -0.161379\n",
       "5           203               0.291092\n",
       "6            12               1.234385\n",
       "7           199               1.757119\n",
       "8           477               1.205195\n",
       "9           341               1.359377\n",
       "10          136               0.822536\n",
       "11          148               2.527523\n",
       "12          363               1.058851"
      ]
     },
     "execution_count": 135,
     "metadata": {},
     "output_type": "execute_result"
    }
   ],
   "source": [
    "test_predictions = pd.DataFrame()\n",
    "test_predictions['location_id'] = df_val_cat_enc['location_id']\n",
    "test_predictions['normalised_sales_pred'] = pred_test['y_pred']\n",
    "test_predictions"
   ]
  },
  {
   "cell_type": "markdown",
   "metadata": {},
   "source": [
    "## 13. Masked Data Model Building"
   ]
  },
  {
   "cell_type": "code",
   "execution_count": 136,
   "metadata": {},
   "outputs": [],
   "source": [
    "masked_data = df_masked_data\n",
    "exog_masked = masked_data[['x1','x2']]\n",
    "endog_masked = masked_data['y']"
   ]
  },
  {
   "cell_type": "code",
   "execution_count": 137,
   "metadata": {},
   "outputs": [],
   "source": [
    "# Insample train and validation split\n",
    "x_train_masked, x_test_masked, y_train_masked, y_test_masked = train_test_split(exog_masked, endog_masked, test_size=0.2, random_state=42)\n"
   ]
  },
  {
   "cell_type": "code",
   "execution_count": 138,
   "metadata": {},
   "outputs": [
    {
     "name": "stdout",
     "output_type": "stream",
     "text": [
      "Fitting 3 folds for each of 100 candidates, totalling 300 fits\n"
     ]
    },
    {
     "name": "stderr",
     "output_type": "stream",
     "text": [
      "[Parallel(n_jobs=-1)]: Using backend LokyBackend with 16 concurrent workers.\n",
      "[Parallel(n_jobs=-1)]: Done   9 tasks      | elapsed:    1.4s\n",
      "[Parallel(n_jobs=-1)]: Done 162 tasks      | elapsed:   18.2s\n",
      "[Parallel(n_jobs=-1)]: Done 300 out of 300 | elapsed:   33.1s finished\n"
     ]
    },
    {
     "data": {
      "text/plain": [
       "RandomizedSearchCV(cv=3, error_score=nan,\n",
       "                   estimator=RandomForestRegressor(bootstrap=True,\n",
       "                                                   ccp_alpha=0.0,\n",
       "                                                   criterion='mse',\n",
       "                                                   max_depth=None,\n",
       "                                                   max_features='auto',\n",
       "                                                   max_leaf_nodes=None,\n",
       "                                                   max_samples=None,\n",
       "                                                   min_impurity_decrease=0.0,\n",
       "                                                   min_impurity_split=None,\n",
       "                                                   min_samples_leaf=1,\n",
       "                                                   min_samples_split=2,\n",
       "                                                   min_weight_fraction_leaf=0.0,\n",
       "                                                   n_estimators=100,\n",
       "                                                   n_jobs=None, oob_score=Fals...\n",
       "                                        'max_depth': [1, 4, 8, 11, 15, 18, 22,\n",
       "                                                      25, 29, 32, 36, 39, 43,\n",
       "                                                      46, 50, None],\n",
       "                                        'max_features': ['auto', 'sqrt'],\n",
       "                                        'min_samples_leaf': [1, 2, 4],\n",
       "                                        'min_samples_split': [2, 5, 10],\n",
       "                                        'n_estimators': [100, 200, 300, 400,\n",
       "                                                         500, 600, 700, 800,\n",
       "                                                         900, 1000, 1100, 1200,\n",
       "                                                         1300, 1400, 1500, 1600,\n",
       "                                                         1700, 1800, 1900,\n",
       "                                                         2000]},\n",
       "                   pre_dispatch='2*n_jobs', random_state=42, refit=True,\n",
       "                   return_train_score=False, scoring=None, verbose=2)"
      ]
     },
     "execution_count": 138,
     "metadata": {},
     "output_type": "execute_result"
    }
   ],
   "source": [
    "rf_masked = RandomForestRegressor()\n",
    "\n",
    "# Random search of parameters, using 3 fold cross validation\n",
    "# Search across 100 different combinations, and by using all available cores\n",
    "rf_masked_random = RandomizedSearchCV(estimator = rf_masked, param_distributions = random_grid, n_iter = 100, cv = 3, verbose=2, random_state=42, n_jobs = -1)\n",
    "\n",
    "# Fit the random search model\n",
    "rf_masked_random.fit(x_train_masked, y_train_masked)"
   ]
  },
  {
   "cell_type": "code",
   "execution_count": 139,
   "metadata": {},
   "outputs": [
    {
     "data": {
      "text/plain": [
       "{'n_estimators': 1400,\n",
       " 'min_samples_split': 2,\n",
       " 'min_samples_leaf': 1,\n",
       " 'max_features': 'sqrt',\n",
       " 'max_depth': 29,\n",
       " 'bootstrap': True}"
      ]
     },
     "execution_count": 139,
     "metadata": {},
     "output_type": "execute_result"
    }
   ],
   "source": [
    "rf_masked_random.best_params_"
   ]
  },
  {
   "cell_type": "code",
   "execution_count": 140,
   "metadata": {},
   "outputs": [
    {
     "name": "stdout",
     "output_type": "stream",
     "text": [
      "Model Performance:\n",
      "Accuracy = 85.11%\n",
      "14.894837094490562\n"
     ]
    }
   ],
   "source": [
    "best_random_masked = rf_masked_random.best_estimator_\n",
    "random_accuracy_masked = evaluate(best_random_masked, x_test_masked, y_test_masked)"
   ]
  },
  {
   "cell_type": "markdown",
   "metadata": {},
   "source": [
    "#### Save the masked model as a pickle file"
   ]
  },
  {
   "cell_type": "code",
   "execution_count": 141,
   "metadata": {},
   "outputs": [],
   "source": [
    "# save the model to disk\n",
    "filename_masked = 'masked_dataset_model.pickle'\n",
    "pickle.dump(best_random_masked, open(filename_masked, 'wb'))"
   ]
  },
  {
   "cell_type": "markdown",
   "metadata": {},
   "source": [
    "## 14.a. Questions to STORE Team"
   ]
  },
  {
   "cell_type": "markdown",
   "metadata": {},
   "source": [
    "***How the commercial_property is calculated? Shouldn't it be between 0 to 100. If not, what is the logic? How is a 1000% commercial_property interpreted?***"
   ]
  },
  {
   "cell_type": "markdown",
   "metadata": {},
   "source": [
    "## 14.b. Observation / Findings"
   ]
  },
  {
   "cell_type": "markdown",
   "metadata": {},
   "source": [
    "### Answer for Q1\n",
    "\n",
    "* Overall the given dataset looks fine and makes sense from real time business prospective.\n",
    "* Missing Values: school_proximity and commercial property, there are missing values for these 2 features.\n"
   ]
  },
  {
   "cell_type": "markdown",
   "metadata": {},
   "source": [
    "**Below features or Data can be collected in future for better prediction:**\n",
    "\n",
    "****What are the figures in a year or over some particular period of time (Quarterly / Half Yearly) for a particular location_id****\n",
    "\n",
    "  **Discounts, Promotions**:\n",
    "  1. Number of promotions done \n",
    "  2. Total Discount given\n",
    "  3. Social media and other ad campaign\n",
    "  \n",
    "  \n",
    "  **Customer Data**:\n",
    "  1. Customer footfall\n",
    "  2. Average Age of customer\n",
    "  3. Male to female to other_gender ratio\n",
    "  4. Average income of customer\n",
    "  5. Customer rating for shopping experience\n",
    "  \n",
    "  \n",
    "  **TESCO Internal**:\n",
    "  1. TESCO staff satisfaction\n",
    "  2. Inventory build vs burn ratio\n",
    "  \n",
    "  \n",
    "  **Macroeconomical Factors**:\n",
    "  1. Number of macroeconomical factors in a year. (e.g. Brexit, Corona Virus fear, Natural disaster (Tsunami, Major Earthquakes etc)\n",
    "  2. Government changes, political effects, policy changes \n",
    "  "
   ]
  },
  {
   "cell_type": "markdown",
   "metadata": {},
   "source": [
    "************************************************************\n",
    "************************************************************"
   ]
  },
  {
   "cell_type": "markdown",
   "metadata": {},
   "source": [
    "### Answer for Q2\n",
    "\n",
    "* Model Used: ***Random Forest***\n",
    "* 1st instance model is trained using 80% of the dataset from training set and 20% is hold for validation\n",
    "* A base model with default hyperparameters is built and then a random model with best set of hyperparameters are trained\n",
    "\n",
    "********Model Error and Model Accuracy is calculated with below formulae.********\n",
    "* Model Error: Absolute of (prediction - actual)\n",
    "* Model Accuracy: 100 - MAPE   \n",
    " -> [MAPE = 100 * abs(np.mean(error / actual)\n",
    " \n",
    "*** Results ***\n",
    "\n",
    "###### Base Model\n",
    "* MAPE:   **6.97**\n",
    "* Accuracy:   **93.03%**\n",
    "\n",
    "###### Best Model\n",
    "* MAPE:   **5.55**\n",
    "* Accuracy:   **94.4%**\n",
    "\n",
    "\n",
    "\n",
    "*** Outlier removal is excluded, as these outliers might help in a tree model and there is no such huge variance in the dataset"
   ]
  },
  {
   "cell_type": "markdown",
   "metadata": {},
   "source": [
    "************************************************************\n",
    "************************************************************"
   ]
  },
  {
   "cell_type": "markdown",
   "metadata": {},
   "source": [
    "### Answer for Q3\n",
    "\n",
    "* Sales for Test dataset is predicted using the developed model.\n",
    "* As there are no normalised_sales given in test dataset, so couldn't measure the accuracy and error.\n"
   ]
  },
  {
   "cell_type": "markdown",
   "metadata": {},
   "source": [
    "**Scope for Optimisation:**\n",
    "\n",
    "* We can improve the results by following the below methods.\n",
    "\n",
    "  **Collection of more data points**:\n",
    "  1. More Data points for model building\n",
    "    \n",
    "  **Model Hyperparameters Tuning**:\n",
    "  1. Hyperparameters can be tuned with mopre number of iterations and more data. \n",
    "  ###### e.g. max_depth = 11 may be giving results which might be having overfitting issues. Adjusting the max_depth may help in generalising the model results. Post or pre-pruning can be done.\n",
    "  \n",
    "  **Choosing more Robust model**\n",
    "  1. Gradient boosting: Random forest uses fully-grown decision trees (low bias, high variance). Instead of using RF, we can use boosting which works sequentially than parallel.\n",
    "  ###### e.g. XGBoost, LightGBM can be used for finding the global minima and solving the gradient descent problem\n",
    "  \n",
    "  **Changing the target variable from continuoius to categorical**\n",
    "  1. Whenever we are not getting good enough accuracy even after using all the data points and ML methods possible, we can group the continuous target variable to groups and predict to make business decisions"
   ]
  },
  {
   "cell_type": "markdown",
   "metadata": {},
   "source": [
    "************************************************************\n",
    "************************************************************"
   ]
  },
  {
   "cell_type": "markdown",
   "metadata": {},
   "source": [
    "### Feature Wise Findings\n",
    "\n",
    "**location_id**:\n",
    "1. There is no duplicate location_id\n",
    "    \n",
    "**county**:\n",
    "1. categorical feature.\n",
    "2. Multiple (98) counties present \n",
    "\n",
    "**crime_rate**:\n",
    "1. high crime_rate results in less sales \n",
    "2. only 1 store having positive sales figure having crime_rate > 15\n",
    "3. Sales is also less than the median of normalised sales i.e. 0.5.\n",
    "\n",
    "**proportion_nonretail**:\n",
    "1. High proportion_nonretail results in low sales\n",
    "2. proportion_nonretail >20 -> sales in negative\n",
    "\n",
    "**household_size**:\n",
    "1. More household_size results in more sales\n",
    "2. household_size >=4 -> sales in positive\n",
    "\n",
    "**proportion_newbuilds**:\n",
    "1. More proportion_newbuilds results in more sales\n",
    "2. proportion_newbuilds >=70 -> sales in positive\n",
    "\n",
    "**public_transport_dist**\n",
    "1. Majority of low sales are due to poor index of public_transport_dist\n",
    "2. public_transport_dist <2 -> sales in negative\n",
    "\n",
    "**property_value**\n",
    "1. Higher property_value results in low sales\n",
    "2. property_value >650 -> sales in negative\n",
    "\n",
    "**school_proximity**\n",
    "1. All the low school_proximity having better sales  (Do not recommend strongly, need in-depth analysis with more granular data)\n",
    "2. school_proximity <14 -> sales in positive\n",
    "\n",
    "**property_value**\n",
    "1. Higher property_value results in low sales\n",
    "2. property_value >650 -> sales in negative\n",
    "\n",
    "**school_proximity**\n",
    "1. All the low school_proximity having better sales  (Do not recommend strongly, need in-depth analysis with more granular data)\n",
    "2. school_proximity <14 -> sales in positive\n",
    "\n",
    "**competitor_density**\n",
    "1. Low competitor_density results in less sales (This feature might not hold true, need multiple feature analysis.)\n",
    "2. competitor_density <350 -> sales in negative\n",
    "\n",
    "**household_affluency**\n",
    "1. Higher household_affluency results in lower sales and vice-versa\n",
    "2. Linear relationship between household_affluency and normalised_sales (scatter plot)\n",
    "3. household_affluency >=3 -> sales in negative\n",
    "\n",
    "**transport_availability**\n",
    "1. Wherever all transport options are available, sales are comparatively less. This might be due to people are open to buy from range of other options in neighbourhood and also can travel far.\n",
    "2. transport_availability == 'All transport options' -> less sales\n",
    "\n",
    "**normalised_sales**\n",
    "1. Sales in many of the locations are lower compared to the overall normalised sales \n",
    "2. Assumption: While normalising the sales, high sales are in positive side and low sales are around 0 and less than 0"
   ]
  },
  {
   "cell_type": "markdown",
   "metadata": {},
   "source": [
    "************************************************************\n",
    "************************************************************"
   ]
  },
  {
   "cell_type": "markdown",
   "metadata": {},
   "source": [
    "### Masked Dataset Model"
   ]
  },
  {
   "cell_type": "markdown",
   "metadata": {},
   "source": [
    "* Taken 80% of the masked dataset as training set and 20% as validation\n",
    "* With only 2 independent features, **Accuracy** is **85.1%** with **MAPE** of **14.9**\n",
    "* The result can be optimised \n",
    "   1. by getting business sense of the masked independent variable, collecting more data\n",
    "   2. Using robust ML models than RF\n",
    "   3. Proper Hyperparameters tuning"
   ]
  },
  {
   "cell_type": "markdown",
   "metadata": {},
   "source": [
    "************************************************************\n",
    "************************************************************"
   ]
  },
  {
   "cell_type": "markdown",
   "metadata": {},
   "source": [
    "## 15. Final Recommendation for TESCO STORE Team"
   ]
  },
  {
   "cell_type": "markdown",
   "metadata": {},
   "source": [
    "* Can collect more data in future\n",
    "* Setup a GPU based cloud platform for fast and online data modelling and optimisation\n",
    "* Use a more robust Machine Learning Algorithm (Boosting, Neural Networks) for better accuracy\n",
    "* Below 2 features might be the most intuitive features for statistical analysis.\n",
    "     1. household_affluency (Negatively / Inversely related to sales)\n",
    "     2. household_size (Positively / Directly related to sales)"
   ]
  },
  {
   "cell_type": "markdown",
   "metadata": {},
   "source": [
    "**Thank You**"
   ]
  }
 ],
 "metadata": {
  "kernelspec": {
   "display_name": "conda_python3",
   "language": "python",
   "name": "conda_python3"
  },
  "language_info": {
   "codemirror_mode": {
    "name": "ipython",
    "version": 3
   },
   "file_extension": ".py",
   "mimetype": "text/x-python",
   "name": "python",
   "nbconvert_exporter": "python",
   "pygments_lexer": "ipython3",
   "version": "3.6.5"
  }
 },
 "nbformat": 4,
 "nbformat_minor": 2
}
